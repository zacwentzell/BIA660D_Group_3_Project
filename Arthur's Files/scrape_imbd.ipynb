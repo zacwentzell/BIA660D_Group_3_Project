{
 "cells": [
  {
   "cell_type": "code",
   "execution_count": 1,
   "metadata": {
    "collapsed": true
   },
   "outputs": [],
   "source": [
    "import requests\n",
    "import bs4\n",
    "import re\n",
    "import random\n",
    "import time\n",
    "import pandas as pd\n",
    "import csv"
   ]
  },
  {
   "cell_type": "code",
   "execution_count": 2,
   "metadata": {
    "collapsed": true
   },
   "outputs": [],
   "source": [
    "with open('titlelinks.txt', 'r') as f:\n",
    "  reader = csv.reader(f)\n",
    "  title_sublink_2007to2017 = list(reader)"
   ]
  },
  {
   "cell_type": "code",
   "execution_count": 3,
   "metadata": {
    "collapsed": true,
    "scrolled": true
   },
   "outputs": [],
   "source": [
    "movie_link =[]\n",
    "for link in title_sublink:\n",
    "    url = 'http://www.imdb.com'+ str(link[0])\n",
    "    movie_link.append(url)\n",
    "    \n",
    "# movie_link"
   ]
  },
  {
   "cell_type": "code",
   "execution_count": 4,
   "metadata": {
    "collapsed": true
   },
   "outputs": [],
   "source": [
    "movie_list = []\n",
    "movie_link_test = movie_link\n",
    "for url_m in movie_link_test:\n",
    "    movie_detial = []\n",
    "    mtime = None\n",
    "    color = None\n",
    "    language = None \n",
    "    budget = None\n",
    "    gross = None\n",
    "    facebook_link = None\n",
    "    offcialsite = None\n",
    "    \n",
    "    #get the soup of each movie\n",
    "    msoup = bs4.BeautifulSoup(requests.get(url_m).text, 'html5lib')\n",
    "    m_main = msoup.find('div', attrs = {'id':'main_top'})\n",
    "    # get the title of the movie\n",
    "    title = m_main.find('h1', attrs={'itemprop':'name'}).text.strip()\n",
    "    subtext = m_main.find_all('div', attrs={'class':'subtext'})\n",
    "    #movie content rating\n",
    "    if subtext[0].find('meta', attrs={'itemprop':'contentRating'}):\n",
    "        moviveclass = subtext[0].find('meta', attrs={'itemprop':'contentRating'})['content']\n",
    "    else:\n",
    "        moviveclass=None\n",
    "    # movie genre, there are several genre at the same time\n",
    "    genre_list = subtext[0].find_all('span', attrs={'itemprop':'genre'})\n",
    "    genre = [g.text.strip() for g in genre_list]\n",
    "    # date published\n",
    "    if subtext[0].find('meta', attrs={'itemprop':'datePublished'}):\n",
    "        datepublish = subtext[0].find('meta', attrs={'itemprop':'datePublished'})['content']\n",
    "    else:\n",
    "        datepublish = None\n",
    "    #get the rating of the movie\n",
    "    rate = m_main.find('span', attrs={'itemprop':'ratingValue'}).text.strip()\n",
    "    # rating count\n",
    "    ratingCount = m_main.find('span', attrs={'itemprop':'ratingCount'}).text.strip()\n",
    "    # get the dirctor(s)\n",
    "    directorSpan = m_main.find_all('span', attrs={'itemprop':'director'})\n",
    "    director = [d.text.strip() for d in directorSpan]\n",
    "    # get the writer(s)\n",
    "    writerSpan = m_main.find_all('span', attrs={'itemprop':'creator'})\n",
    "    writer = [w.text.strip() for w in writerSpan]\n",
    "    #get the actors\n",
    "    actorSpan = m_main.find_all('span', attrs={'itemprop':'actors'})\n",
    "    actor = [a.text.strip() for a in actorSpan]\n",
    "    #get the summary of the movie\n",
    "    summary = m_main.find('div', attrs= {'class':'summary_text'}).text.strip()\n",
    "    \n",
    "    m_main_bottom = msoup.find('div', attrs={'id':'main_bottom'})\n",
    "    \n",
    "   #get the description and description writer\n",
    "    if m_main_bottom.find('div', attrs={'itemprop':'description'}):\n",
    "        descriptionDiv = m_main_bottom.find('div', attrs={'itemprop':'description'})\n",
    "        description = descriptionDiv.p.text.strip()\n",
    "        if descriptionDiv.a:\n",
    "            description_writer = descriptionDiv.a.text.strip()\n",
    "    else:\n",
    "        description= None\n",
    "        description_writer = None\n",
    "\n",
    "    #plot key words\n",
    "    if m_main_bottom.find('div', attrs={'itemprop':'keywords'}):\n",
    "        plot_keyword_div = m_main_bottom.find('div', attrs={'itemprop':'keywords'})\n",
    "        keyword_spanlist = plot_keyword_div.find_all('span', attrs={'itemprop':'keywords'})\n",
    "        plot_keyword = [a.text for a in keyword_spanlist]\n",
    "    else:\n",
    "        plot_keyword = None\n",
    "\n",
    "    # including information about country, language, date, filming location, color, budget and aspect ratio, box office\n",
    "    # and so on.\n",
    "    content_detail = m_main_bottom.find('div',attrs={'id':'titleDetails'})\n",
    "    #time = content_detail.find('time', attrs= {'itemprop':'duration'}).text\n",
    "    detail = content_detail.find_all('h4', attrs={'class':'inline'})\n",
    "    detail_header = [aa.text for aa in detail]\n",
    "    detail_content = content_detail.find_all('div', attrs={'class':'txt-block'})\n",
    "    detail_list = [t.text.strip() for t in detail_content]\n",
    "    t = detail_list\n",
    "    #time = [t[i] for i,content in enumerate(t) if content.startswith('Runtime')]\n",
    "    #color = [t[i] for i,content in enumerate(t) if content.startswith('Color')]\n",
    "    #language = [t[i] for i,content in enumerate(t) if content.startswith('Language')]\n",
    "    for content in t:\n",
    "        if content.startswith('Runtime'):\n",
    "            mtime=content\n",
    "        \n",
    "        elif content.startswith('Color'):\n",
    "            color=content\n",
    "        \n",
    "        elif content.startswith('Language'):\n",
    "            language=content\n",
    "            \n",
    "        elif content.startswith('Budget'):\n",
    "            budget=content\n",
    "            \n",
    "        elif 'Facebook' in content:\n",
    "            a = content_detail.div.a\n",
    "            facebook_link = a['href'] \n",
    "            \n",
    "        elif content.startswith('Gross'):\n",
    "            gross=content\n",
    "        \n",
    "        elif 'Official site' in detail_list:\n",
    "            offcialsite = 'True'\n",
    "        \n",
    "    if not mtime:\n",
    "        mtime = None\n",
    "        \n",
    "    if not color:\n",
    "        color = None\n",
    "        \n",
    "    if not language:\n",
    "        language = None \n",
    "    \n",
    "    if not budget:\n",
    "        budget = None\n",
    "    \n",
    "    if not gross:\n",
    "        gross = None\n",
    "        \n",
    "    if not facebook_link:\n",
    "        facebook_link = None\n",
    "        \n",
    "    if not offcialsite:\n",
    "        offcialsite = None\n",
    "    \n",
    "    movie_detial = [title, genre, datepublish, rate, ratingCount, director, writer, actor, summary, description, plot_keyword, mtime, color, language, budget, gross, facebook_link, offcialsite]\n",
    "    movie_list.append(movie_detial)\n",
    "    normal_delay = random.normalvariate(1, 0.3)\n",
    "    time.sleep(normal_delay)"
   ]
  },
  {
   "cell_type": "code",
   "execution_count": 12,
   "metadata": {
    "collapsed": true
   },
   "outputs": [],
   "source": [
    "df.to_csv('Movie Data.csv')"
   ]
  },
  {
   "cell_type": "code",
   "execution_count": null,
   "metadata": {
    "collapsed": true
   },
   "outputs": [],
   "source": []
  }
 ],
 "metadata": {
  "kernelspec": {
   "display_name": "Python 3",
   "language": "python",
   "name": "python3"
  },
  "language_info": {
   "codemirror_mode": {
    "name": "ipython",
    "version": 3
   },
   "file_extension": ".py",
   "mimetype": "text/x-python",
   "name": "python",
   "nbconvert_exporter": "python",
   "pygments_lexer": "ipython3",
   "version": "3.6.3"
  }
 },
 "nbformat": 4,
 "nbformat_minor": 2
}
