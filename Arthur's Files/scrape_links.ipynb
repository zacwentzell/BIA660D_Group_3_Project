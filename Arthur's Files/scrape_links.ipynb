{
 "cells": [
  {
   "cell_type": "code",
   "execution_count": null,
   "metadata": {
    "collapsed": true
   },
   "outputs": [],
   "source": [
    "import requests\n",
    "import bs4\n",
    "import re\n",
    "import random\n",
    "import time\n",
    "import pandas as pd"
   ]
  },
  {
   "cell_type": "code",
   "execution_count": null,
   "metadata": {
    "collapsed": true
   },
   "outputs": [],
   "source": [
    "baselink = 'http://www.imdb.com/list/ls057823854/?st_dt=&mode=simple&page='\n",
    "page=[]\n",
    "for i in list(range(1,101)):\n",
    "    page_link = baselink + str(i) + '&ref_=ttls_vw_smp&sort=alpha,asc'\n",
    "    page.append(page_link)"
   ]
  },
  {
   "cell_type": "code",
   "execution_count": null,
   "metadata": {
    "collapsed": true
   },
   "outputs": [],
   "source": [
    "title_sublink = []\n",
    "year_list = list(map(str, range(1976,2018)))\n",
    "title_sublinks = []\n",
    "for p in page:\n",
    "    soup = bs4.BeautifulSoup(requests.get(p).text, 'html5lib')\n",
    "    main = soup.find('div', attrs={'id':'main'})\n",
    "    lister = main.find('div', attrs={'class':'lister-list'})\n",
    "    title_span = lister.find_all('span', attrs={'class':'lister-item-header'})\n",
    "    #title_image = lister.find_all('div', attrs={'class':'lister-item-image'})\n",
    "\n",
    "    for s in title_span:\n",
    "        year = s.find('span', attrs={'class':'lister-item-year'})\n",
    "        for y in year_list:\n",
    "            if y in year.text:\n",
    "                a = s.a\n",
    "                href = a['href']\n",
    "                title_sublinks.append(href)\n",
    "        \n",
    "    normal_delay = random.normalvariate(2, 0.5)\n",
    "    time.sleep(normal_delay)"
   ]
  },
  {
   "cell_type": "code",
   "execution_count": null,
   "metadata": {
    "collapsed": true
   },
   "outputs": [],
   "source": [
    "titlelinks = pd.DataFrame(title_sublinks)\n",
    "titlelinks.to_csv('titlelinks.txt',sep=';', index=None, header=None)"
   ]
  },
  {
   "cell_type": "code",
   "execution_count": null,
   "metadata": {
    "collapsed": true
   },
   "outputs": [],
   "source": []
  }
 ],
 "metadata": {
  "kernelspec": {
   "display_name": "Python 3",
   "language": "python",
   "name": "python3"
  },
  "language_info": {
   "codemirror_mode": {
    "name": "ipython",
    "version": 3
   },
   "file_extension": ".py",
   "mimetype": "text/x-python",
   "name": "python",
   "nbconvert_exporter": "python",
   "pygments_lexer": "ipython3",
   "version": "3.6.3"
  }
 },
 "nbformat": 4,
 "nbformat_minor": 2
}
