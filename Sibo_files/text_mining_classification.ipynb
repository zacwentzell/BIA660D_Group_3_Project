{
 "cells": [
  {
   "cell_type": "code",
   "execution_count": 1,
   "metadata": {},
   "outputs": [],
   "source": [
    "import pandas as pd\n",
    "from sklearn.model_selection import train_test_split\n",
    "import seaborn as sns\n",
    "import numpy as np\n",
    "import matplotlib.pyplot as plt\n",
    "import re"
   ]
  },
  {
   "cell_type": "markdown",
   "metadata": {},
   "source": [
    "## 1. Read data and clean data"
   ]
  },
  {
   "cell_type": "code",
   "execution_count": 2,
   "metadata": {},
   "outputs": [],
   "source": [
    "with open ('reviews_update.csv', 'r') as review:\n",
    "    df = pd.read_csv(review, encoding = 'utf8')\n",
    "    \n",
    "col_name = ['id','movie', 'review_title', 'rate', 'body', 'helpfulness']\n",
    "df.columns = col_name"
   ]
  },
  {
   "cell_type": "code",
   "execution_count": 3,
   "metadata": {},
   "outputs": [
    {
     "data": {
      "text/html": [
       "<div>\n",
       "<style scoped>\n",
       "    .dataframe tbody tr th:only-of-type {\n",
       "        vertical-align: middle;\n",
       "    }\n",
       "\n",
       "    .dataframe tbody tr th {\n",
       "        vertical-align: top;\n",
       "    }\n",
       "\n",
       "    .dataframe thead th {\n",
       "        text-align: right;\n",
       "    }\n",
       "</style>\n",
       "<table border=\"1\" class=\"dataframe\">\n",
       "  <thead>\n",
       "    <tr style=\"text-align: right;\">\n",
       "      <th></th>\n",
       "      <th>id</th>\n",
       "      <th>movie</th>\n",
       "      <th>review_title</th>\n",
       "      <th>rate</th>\n",
       "      <th>body</th>\n",
       "      <th>helpfulness</th>\n",
       "    </tr>\n",
       "  </thead>\n",
       "  <tbody>\n",
       "    <tr>\n",
       "      <th>0</th>\n",
       "      <td>0</td>\n",
       "      <td>10 Years</td>\n",
       "      <td>So glad I didn't listen to most of the reviews!'</td>\n",
       "      <td>\\n            \\n                \\n            ...</td>\n",
       "      <td>Before I watched this movie, I read some revie...</td>\n",
       "      <td>37 out of 41 found this helpful.\\n            ...</td>\n",
       "    </tr>\n",
       "    <tr>\n",
       "      <th>1</th>\n",
       "      <td>1</td>\n",
       "      <td>10 Years</td>\n",
       "      <td>Not exactly reinventing the wheel, but worth w...</td>\n",
       "      <td>\\n            \\n                \\n            ...</td>\n",
       "      <td>In his directorial debut \"Ten Year\", Jamie Lin...</td>\n",
       "      <td>57 out of 67 found this helpful.\\n            ...</td>\n",
       "    </tr>\n",
       "    <tr>\n",
       "      <th>2</th>\n",
       "      <td>2</td>\n",
       "      <td>10 Years</td>\n",
       "      <td>Sweet and memorable reunion movie</td>\n",
       "      <td>\\n            \\n                \\n            ...</td>\n",
       "      <td>'10 Years' is all about reunion of high school...</td>\n",
       "      <td>8 out of 8 found this helpful.\\n              ...</td>\n",
       "    </tr>\n",
       "    <tr>\n",
       "      <th>3</th>\n",
       "      <td>3</td>\n",
       "      <td>10 Years</td>\n",
       "      <td>It might not be a genre defining film, but it ...</td>\n",
       "      <td>\\n            \\n                \\n            ...</td>\n",
       "      <td>¨Now the party can start!¨The film is about a ...</td>\n",
       "      <td>24 out of 30 found this helpful.\\n            ...</td>\n",
       "    </tr>\n",
       "    <tr>\n",
       "      <th>4</th>\n",
       "      <td>4</td>\n",
       "      <td>10 Years</td>\n",
       "      <td>A Gem</td>\n",
       "      <td>\\n            \\n                \\n            ...</td>\n",
       "      <td>Definitely worth seeing. I thoroughly enjoyed ...</td>\n",
       "      <td>27 out of 36 found this helpful.\\n            ...</td>\n",
       "    </tr>\n",
       "    <tr>\n",
       "      <th>5</th>\n",
       "      <td>5</td>\n",
       "      <td>10 Years</td>\n",
       "      <td>What You Can Expect: 10 Years</td>\n",
       "      <td>\\n            \\n                \\n            ...</td>\n",
       "      <td>What you can expect from 10 Years is a predict...</td>\n",
       "      <td>4 out of 4 found this helpful.\\n              ...</td>\n",
       "    </tr>\n",
       "    <tr>\n",
       "      <th>6</th>\n",
       "      <td>6</td>\n",
       "      <td>10 Years</td>\n",
       "      <td>Closely replicates the unintentional tension o...</td>\n",
       "      <td>\\n            \\n                \\n            ...</td>\n",
       "      <td>High school reunions can be equal parts helpfu...</td>\n",
       "      <td>12 out of 16 found this helpful.\\n            ...</td>\n",
       "    </tr>\n",
       "    <tr>\n",
       "      <th>7</th>\n",
       "      <td>7</td>\n",
       "      <td>10 Years</td>\n",
       "      <td>Realistic</td>\n",
       "      <td>\\n            \\n                \\n            ...</td>\n",
       "      <td>This movie was fun but parts where very predic...</td>\n",
       "      <td>6 out of 7 found this helpful.\\n              ...</td>\n",
       "    </tr>\n",
       "    <tr>\n",
       "      <th>8</th>\n",
       "      <td>8</td>\n",
       "      <td>10 Years</td>\n",
       "      <td>Like a documentary, but that's the problem</td>\n",
       "      <td>\\n            \\n                \\n            ...</td>\n",
       "      <td>In \"Grosse Point Blank,\" John Cusack, a hit-ma...</td>\n",
       "      <td>17 out of 27 found this helpful.\\n            ...</td>\n",
       "    </tr>\n",
       "    <tr>\n",
       "      <th>9</th>\n",
       "      <td>9</td>\n",
       "      <td>10 Years</td>\n",
       "      <td>Almost turned it off</td>\n",
       "      <td>\\n            \\n                \\n            ...</td>\n",
       "      <td>I'll make this short. It was boring. Though it...</td>\n",
       "      <td>12 out of 18 found this helpful.\\n            ...</td>\n",
       "    </tr>\n",
       "  </tbody>\n",
       "</table>\n",
       "</div>"
      ],
      "text/plain": [
       "   id     movie                                       review_title  \\\n",
       "0   0  10 Years   So glad I didn't listen to most of the reviews!'   \n",
       "1   1  10 Years  Not exactly reinventing the wheel, but worth w...   \n",
       "2   2  10 Years                  Sweet and memorable reunion movie   \n",
       "3   3  10 Years  It might not be a genre defining film, but it ...   \n",
       "4   4  10 Years                                              A Gem   \n",
       "5   5  10 Years                      What You Can Expect: 10 Years   \n",
       "6   6  10 Years  Closely replicates the unintentional tension o...   \n",
       "7   7  10 Years                                          Realistic   \n",
       "8   8  10 Years         Like a documentary, but that's the problem   \n",
       "9   9  10 Years                               Almost turned it off   \n",
       "\n",
       "                                                rate  \\\n",
       "0  \\n            \\n                \\n            ...   \n",
       "1  \\n            \\n                \\n            ...   \n",
       "2  \\n            \\n                \\n            ...   \n",
       "3  \\n            \\n                \\n            ...   \n",
       "4  \\n            \\n                \\n            ...   \n",
       "5  \\n            \\n                \\n            ...   \n",
       "6  \\n            \\n                \\n            ...   \n",
       "7  \\n            \\n                \\n            ...   \n",
       "8  \\n            \\n                \\n            ...   \n",
       "9  \\n            \\n                \\n            ...   \n",
       "\n",
       "                                                body  \\\n",
       "0  Before I watched this movie, I read some revie...   \n",
       "1  In his directorial debut \"Ten Year\", Jamie Lin...   \n",
       "2  '10 Years' is all about reunion of high school...   \n",
       "3  ¨Now the party can start!¨The film is about a ...   \n",
       "4  Definitely worth seeing. I thoroughly enjoyed ...   \n",
       "5  What you can expect from 10 Years is a predict...   \n",
       "6  High school reunions can be equal parts helpfu...   \n",
       "7  This movie was fun but parts where very predic...   \n",
       "8  In \"Grosse Point Blank,\" John Cusack, a hit-ma...   \n",
       "9  I'll make this short. It was boring. Though it...   \n",
       "\n",
       "                                         helpfulness  \n",
       "0  37 out of 41 found this helpful.\\n            ...  \n",
       "1  57 out of 67 found this helpful.\\n            ...  \n",
       "2  8 out of 8 found this helpful.\\n              ...  \n",
       "3  24 out of 30 found this helpful.\\n            ...  \n",
       "4  27 out of 36 found this helpful.\\n            ...  \n",
       "5  4 out of 4 found this helpful.\\n              ...  \n",
       "6  12 out of 16 found this helpful.\\n            ...  \n",
       "7  6 out of 7 found this helpful.\\n              ...  \n",
       "8  17 out of 27 found this helpful.\\n            ...  \n",
       "9  12 out of 18 found this helpful.\\n            ...  "
      ]
     },
     "execution_count": 3,
     "metadata": {},
     "output_type": "execute_result"
    }
   ],
   "source": [
    "df.head(10)# how the data looks like"
   ]
  },
  {
   "cell_type": "code",
   "execution_count": 4,
   "metadata": {},
   "outputs": [],
   "source": [
    "for i in range(len(df['rate'])):\n",
    "    score = df['rate'][i].split()[0]\n",
    "    df.loc[i, 'rate']= score[:score.find('/')]"
   ]
  },
  {
   "cell_type": "code",
   "execution_count": 5,
   "metadata": {},
   "outputs": [],
   "source": [
    "# converting the helpful column into numeric number\n",
    "for i in range(len(df['helpfulness'])):\n",
    "    try:\n",
    "        helpful = df['helpfulness'][i]\n",
    "        num1 = re.findall(r'\\d+', helpful)[0]\n",
    "        num2 = re.findall(r'\\d+', helpful)[1]\n",
    "        df.loc[i, 'helpfulness']= float(float(num1)/float(num2))\n",
    "    except:\n",
    "        # there is no one think the review helpful\n",
    "        # meaning: num1 = 0 & num2 = 0\n",
    "        df.loc[i, 'helpfulness']= 0"
   ]
  },
  {
   "cell_type": "code",
   "execution_count": 6,
   "metadata": {},
   "outputs": [
    {
     "data": {
      "text/html": [
       "<div>\n",
       "<style scoped>\n",
       "    .dataframe tbody tr th:only-of-type {\n",
       "        vertical-align: middle;\n",
       "    }\n",
       "\n",
       "    .dataframe tbody tr th {\n",
       "        vertical-align: top;\n",
       "    }\n",
       "\n",
       "    .dataframe thead th {\n",
       "        text-align: right;\n",
       "    }\n",
       "</style>\n",
       "<table border=\"1\" class=\"dataframe\">\n",
       "  <thead>\n",
       "    <tr style=\"text-align: right;\">\n",
       "      <th></th>\n",
       "      <th>id</th>\n",
       "      <th>movie</th>\n",
       "      <th>review_title</th>\n",
       "      <th>rate</th>\n",
       "      <th>body</th>\n",
       "      <th>helpfulness</th>\n",
       "    </tr>\n",
       "  </thead>\n",
       "  <tbody>\n",
       "    <tr>\n",
       "      <th>0</th>\n",
       "      <td>0</td>\n",
       "      <td>10 Years</td>\n",
       "      <td>So glad I didn't listen to most of the reviews!'</td>\n",
       "      <td>10</td>\n",
       "      <td>Before I watched this movie, I read some revie...</td>\n",
       "      <td>0.902439</td>\n",
       "    </tr>\n",
       "    <tr>\n",
       "      <th>1</th>\n",
       "      <td>1</td>\n",
       "      <td>10 Years</td>\n",
       "      <td>Not exactly reinventing the wheel, but worth w...</td>\n",
       "      <td>7</td>\n",
       "      <td>In his directorial debut \"Ten Year\", Jamie Lin...</td>\n",
       "      <td>0.850746</td>\n",
       "    </tr>\n",
       "    <tr>\n",
       "      <th>2</th>\n",
       "      <td>2</td>\n",
       "      <td>10 Years</td>\n",
       "      <td>Sweet and memorable reunion movie</td>\n",
       "      <td>7</td>\n",
       "      <td>'10 Years' is all about reunion of high school...</td>\n",
       "      <td>1</td>\n",
       "    </tr>\n",
       "    <tr>\n",
       "      <th>3</th>\n",
       "      <td>3</td>\n",
       "      <td>10 Years</td>\n",
       "      <td>It might not be a genre defining film, but it ...</td>\n",
       "      <td>7</td>\n",
       "      <td>¨Now the party can start!¨The film is about a ...</td>\n",
       "      <td>0.8</td>\n",
       "    </tr>\n",
       "    <tr>\n",
       "      <th>4</th>\n",
       "      <td>4</td>\n",
       "      <td>10 Years</td>\n",
       "      <td>A Gem</td>\n",
       "      <td>9</td>\n",
       "      <td>Definitely worth seeing. I thoroughly enjoyed ...</td>\n",
       "      <td>0.75</td>\n",
       "    </tr>\n",
       "  </tbody>\n",
       "</table>\n",
       "</div>"
      ],
      "text/plain": [
       "   id     movie                                       review_title rate  \\\n",
       "0   0  10 Years   So glad I didn't listen to most of the reviews!'   10   \n",
       "1   1  10 Years  Not exactly reinventing the wheel, but worth w...    7   \n",
       "2   2  10 Years                  Sweet and memorable reunion movie    7   \n",
       "3   3  10 Years  It might not be a genre defining film, but it ...    7   \n",
       "4   4  10 Years                                              A Gem    9   \n",
       "\n",
       "                                                body helpfulness  \n",
       "0  Before I watched this movie, I read some revie...    0.902439  \n",
       "1  In his directorial debut \"Ten Year\", Jamie Lin...    0.850746  \n",
       "2  '10 Years' is all about reunion of high school...           1  \n",
       "3  ¨Now the party can start!¨The film is about a ...         0.8  \n",
       "4  Definitely worth seeing. I thoroughly enjoyed ...        0.75  "
      ]
     },
     "execution_count": 6,
     "metadata": {},
     "output_type": "execute_result"
    }
   ],
   "source": [
    "df.head() # how the data looks like"
   ]
  },
  {
   "cell_type": "markdown",
   "metadata": {},
   "source": [
    "# 2. EDA of review dataset\n",
    "- Result:\n",
    "    1. There are 21368 rows in the dataset.\n",
    "    2. The distribution of the rate is not balanced. Many rates are 1 point and 8 point.\n",
    "    3. The length of the review for all category are distributed in the similar way.\n",
    "    4. The dataset is quite clean."
   ]
  },
  {
   "cell_type": "code",
   "execution_count": 7,
   "metadata": {},
   "outputs": [
    {
     "data": {
      "text/plain": [
       "21368"
      ]
     },
     "execution_count": 7,
     "metadata": {},
     "output_type": "execute_result"
    }
   ],
   "source": [
    "len(df) # number of rows"
   ]
  },
  {
   "cell_type": "code",
   "execution_count": 13,
   "metadata": {},
   "outputs": [
    {
     "data": {
      "text/plain": [
       "932"
      ]
     },
     "execution_count": 13,
     "metadata": {},
     "output_type": "execute_result"
    }
   ],
   "source": [
    "len(df.movie.value_counts())\n",
    "# df.movie.value_counts().plot('bar', color = 'blue')\n",
    "# plt.title('The histogram of movie title')\n",
    "# plt.show()"
   ]
  },
  {
   "cell_type": "code",
   "execution_count": 14,
   "metadata": {},
   "outputs": [
    {
     "data": {
      "image/png": "[encoded data removed]",
      "text/plain": [
       "<Figure size 432x288 with 1 Axes>"
      ]
     },
     "metadata": {},
     "output_type": "display_data"
    }
   ],
   "source": [
    "# the distribution of the rate\n",
    "rate = pd.to_numeric(df['rate'])\n",
    "plt.hist(rate)\n",
    "plt.title('The distribution of the rate')\n",
    "plt.xlabel('rate (range from 1 ~ 10)')\n",
    "plt.show()"
   ]
  },
  {
   "cell_type": "code",
   "execution_count": 15,
   "metadata": {},
   "outputs": [
    {
     "data": {
      "text/plain": [
       "67"
      ]
     },
     "execution_count": 15,
     "metadata": {},
     "output_type": "execute_result"
    }
   ],
   "source": [
    "# get the length of the review\n",
    "length = df['body'].apply(len)\n",
    "df['text length'] = length\n",
    "min(length) # minium length of the review"
   ]
  },
  {
   "cell_type": "code",
   "execution_count": 16,
   "metadata": {},
   "outputs": [
    {
     "data": {
      "text/plain": [
       "<seaborn.axisgrid.FacetGrid at 0x105402eb8>"
      ]
     },
     "execution_count": 16,
     "metadata": {},
     "output_type": "execute_result"
    },
    {
     "data": {
      "image/png": "[encoded data removed]",
      "text/plain": [
       "<Figure size 1080x432 with 10 Axes>"
      ]
     },
     "metadata": {},
     "output_type": "display_data"
    }
   ],
   "source": [
    "# the relationship between text length and the rate\n",
    "# when rate = 1, many reviews are short ones\n",
    "# the same thing happens when rate =10\n",
    "g = sns.FacetGrid(data=df, col='rate', col_wrap=5)\n",
    "g.map(plt.hist, 'text length', bins=50)"
   ]
  },
  {
   "cell_type": "code",
   "execution_count": 19,
   "metadata": {},
   "outputs": [
    {
     "data": {
      "text/plain": [
       "Text(0.5,1,'The boxplot of the text length of different rate category')"
      ]
     },
     "execution_count": 19,
     "metadata": {},
     "output_type": "execute_result"
    },
    {
     "data": {
      "image/png": "[encoded data removed]",
      "text/plain": [
       "<Figure size 432x288 with 1 Axes>"
      ]
     },
     "metadata": {},
     "output_type": "display_data"
    }
   ],
   "source": [
    "m = sns.boxplot(x='rate', y='text length', data=df, color='green')\n",
    "m.set_title('The boxplot of the text length of different rate category', size=12)"
   ]
  },
  {
   "cell_type": "code",
   "execution_count": 31,
   "metadata": {},
   "outputs": [
    {
     "name": "stdout",
     "output_type": "stream",
     "text": [
      "I recently saw ten year at a prescreening event and was really impressed! The movie takes place all on the night of a 10 year high school reunion. The cast is great and there are a lot of funny and heartwarming moments. Being in my late twenties myself, I found this movie to be really relatable. The cast reminded me of my friends and the plot (although a little over the top at some parts) was very believable. My boyfriend who saw it with me said he thought that there needed to be more of a plot – because it was more of a movie where you find out about the characters rather than a lot of stuff happening. I thought that a good plot wasn't the point of the movie though. There was also a really good song in the movie. Overall, I would recommend this movie to most people – especially anyone in their mid twenties to mid thirties. I probably won't see it again in the theater but I thought it was really good. It also had a very satisfying ending, which I love.\n"
     ]
    }
   ],
   "source": [
    "test_sent = df.body[11]\n",
    "print (df.body[11])\n",
    "reviews = df.body\n",
    "# after several checking, the text itself is pretty clean"
   ]
  },
  {
   "cell_type": "markdown",
   "metadata": {},
   "source": [
    "# 3. text preprocessing\n",
    "- The preprocessing is mainly focusing on part of speech filter.\n",
    "    1. First step is to try to keep most of information of the sentence, hence, I keep noun, adjective and adverb.\n",
    "    2. However, after building the model, I realize that the sentiment of the review is mainly experessed via the adjective. Hence, for the final preprocessing, I only keep the adjective and adverb.\n",
    "    3. Meanwhile, I use tf-idf for the classification model. Tried both tf-idf and smooth tf-idf.\n",
    "    4. Using n-gram: after trying different n-gram, I decide to use 1 to 3-gram."
   ]
  },
  {
   "cell_type": "code",
   "execution_count": 32,
   "metadata": {},
   "outputs": [],
   "source": [
    "from sklearn.base import BaseEstimator, TransformerMixin"
   ]
  },
  {
   "cell_type": "code",
   "execution_count": 33,
   "metadata": {},
   "outputs": [],
   "source": [
    "import spacy\n",
    "nlp = spacy.load('en')"
   ]
  },
  {
   "cell_type": "code",
   "execution_count": 34,
   "metadata": {},
   "outputs": [],
   "source": [
    "class PartOfSpeechFilter(BaseEstimator, TransformerMixin):\n",
    "    '''only keep the adjective and adverb'''\n",
    "    def __init__(self, pos_to_keep=('NOUN', 'PROPN', 'ADJ', 'VERB', 'ADV'), stop_words=None):\n",
    "        self.pos_to_keep = pos_to_keep\n",
    "        self.stop_words = stop_words\n",
    "        \n",
    "    def fit(self, X, y=None):\n",
    "        return self\n",
    "        \n",
    "        \n",
    "    def transform(self, X):\n",
    "        preprocessed_sentences = []\n",
    "        \n",
    "        for doc in nlp.pipe(X, n_threads=8):\n",
    "            if self.stop_words is not None:\n",
    "                keep_tokens_string = ' '.join([t.lemma_ for t in doc if t.pos_ in self.pos_to_keep and t.lemma_ not in self.stop_words\n",
    "                                              and t.is_alpha and not t.is_punct])\n",
    "            else:\n",
    "                keep_tokens_string = ' '.join([t.lemma_ for t in doc if t.pos_ in self.pos_to_keep])\n",
    "            preprocessed_sentences.append(keep_tokens_string)\n",
    "    \n",
    "        return preprocessed_sentences "
   ]
  },
  {
   "cell_type": "code",
   "execution_count": 35,
   "metadata": {},
   "outputs": [],
   "source": [
    "# we will only focus on the text.\n",
    "df_review = df[['body', 'rate']]"
   ]
  },
  {
   "cell_type": "code",
   "execution_count": 36,
   "metadata": {},
   "outputs": [],
   "source": [
    "from sklearn.model_selection import train_test_split"
   ]
  },
  {
   "cell_type": "code",
   "execution_count": 37,
   "metadata": {},
   "outputs": [
    {
     "name": "stdout",
     "output_type": "stream",
     "text": [
      "17094 items in training data, 4274 in test data\n"
     ]
    }
   ],
   "source": [
    "train, test = train_test_split(df_review, test_size=0.2, random_state=666)\n",
    "print(\"%d items in training data, %d in test data\" % (len(train), len(test)))"
   ]
  },
  {
   "cell_type": "code",
   "execution_count": 38,
   "metadata": {},
   "outputs": [],
   "source": [
    "x_train = train.body\n",
    "y_train = train.rate\n",
    "x_test = test.body\n",
    "y_test = test.rate"
   ]
  },
  {
   "cell_type": "code",
   "execution_count": 39,
   "metadata": {},
   "outputs": [],
   "source": [
    "# After trying keep most of the tags including noun, adjective and adverb, there are a huge overfitting issue.\n",
    "# Adjective and adverb are actually the part contain sentiment, hence I will only keep those two tags.  "
   ]
  },
  {
   "cell_type": "code",
   "execution_count": 40,
   "metadata": {},
   "outputs": [],
   "source": [
    "posf = PartOfSpeechFilter(pos_to_keep=('ADJ', 'ADV'))"
   ]
  },
  {
   "cell_type": "code",
   "execution_count": 41,
   "metadata": {},
   "outputs": [
    {
     "name": "stdout",
     "output_type": "stream",
     "text": [
      "CPU times: user 26min 32s, sys: 7min 58s, total: 34min 31s\n",
      "Wall time: 21min 59s\n"
     ]
    }
   ],
   "source": [
    "%%time\n",
    "preproc_sents = posf.fit_transform(x_train)"
   ]
  },
  {
   "cell_type": "code",
   "execution_count": 42,
   "metadata": {},
   "outputs": [],
   "source": [
    "from sklearn.feature_extraction.text import TfidfVectorizer\n",
    "from sklearn.feature_extraction import stop_words"
   ]
  },
  {
   "cell_type": "code",
   "execution_count": 43,
   "metadata": {},
   "outputs": [],
   "source": [
    "# update the stopwords list\n",
    "stopWords = list(stop_words.ENGLISH_STOP_WORDS) + [\"'s\", \"'ve\", \"'d\", 'is',\"'ll\", 'pron','aa']\n",
    "stopWords.remove('not')\n",
    "stopWords.remove('no')\n",
    "stopWords.remove('never')\n",
    "stopWords.remove('none')\n",
    "stopWords.remove('serious')\n",
    "stopWords.remove('thin')\n",
    "stopWords.remove('thick')\n",
    "stopWords.remove('sincere')\n",
    "stopWords.remove('several')"
   ]
  },
  {
   "cell_type": "code",
   "execution_count": 294,
   "metadata": {},
   "outputs": [
    {
     "name": "stdout",
     "output_type": "stream",
     "text": [
      "CPU times: user 6.08 s, sys: 211 ms, total: 6.29 s\n",
      "Wall time: 6.32 s\n"
     ]
    }
   ],
   "source": [
    "%%time\n",
    "# only keep features \n",
    "tfidf = TfidfVectorizer(lowercase=True, norm='l1', stop_words=stopWords, ngram_range=(1,3), use_idf=True, min_df=0.01)\n",
    "review_tfidf = tfidf.fit_transform(preproc_sents)"
   ]
  },
  {
   "cell_type": "code",
   "execution_count": 295,
   "metadata": {},
   "outputs": [
    {
     "data": {
      "text/plain": [
       "(17094, 631)"
      ]
     },
     "execution_count": 295,
     "metadata": {},
     "output_type": "execute_result"
    }
   ],
   "source": [
    "review_tfidf.toarray().shape # after filtering some not important words, now we have 2017 features"
   ]
  },
  {
   "cell_type": "code",
   "execution_count": 296,
   "metadata": {},
   "outputs": [
    {
     "data": {
      "text/plain": [
       "[('not', 666.8363502538789),\n",
       " ('good', 338.01374122103147),\n",
       " ('just', 275.27285409929993),\n",
       " ('really', 222.50986428047173),\n",
       " ('great', 192.86965720890464),\n",
       " ('bad', 186.41776300938196),\n",
       " ('not not', 137.8667583220431),\n",
       " ('funny', 129.1454021221428),\n",
       " ('never', 127.4342692945201),\n",
       " ('little', 126.50415774642786),\n",
       " ('real', 118.20050747537613),\n",
       " ('old', 110.78371428131818),\n",
       " ('big', 100.76278084588336),\n",
       " ('actually', 100.46367376582404),\n",
       " ('young', 97.72836569128586),\n",
       " ('new', 93.81970518714728),\n",
       " ('quite', 91.03997400083533),\n",
       " ('pretty', 88.33510649739505),\n",
       " ('long', 86.31258310358416),\n",
       " ('interesting', 81.55376601542557)]"
      ]
     },
     "execution_count": 296,
     "metadata": {},
     "output_type": "execute_result"
    }
   ],
   "source": [
    "# take a looreview_tfidf_alls that we have\n",
    "words_sum = review_tfidf.sum(axis=0)\n",
    "counts_per_word = list(zip(tfidf.get_feature_names(), words_sum.A1))\n",
    "sorted(counts_per_word, key=lambda t: t[1], reverse=True)[:20]\n",
    "# some of the words that occure the most frequent"
   ]
  },
  {
   "cell_type": "code",
   "execution_count": 297,
   "metadata": {},
   "outputs": [
    {
     "data": {
      "text/plain": [
       "[('especially not', 8.683244389382368),\n",
       " ('nonetheless', 8.559601285012972),\n",
       " ('prior', 8.529559101110504),\n",
       " ('previously', 8.52637569461545),\n",
       " ('initial', 8.442384210332206),\n",
       " ('largely', 8.43803837622397),\n",
       " ('not particularly', 8.385560100729181),\n",
       " ('effectively', 8.273395795702802),\n",
       " ('no longer', 8.25356986888688),\n",
       " ('practically', 7.886723616375228)]"
      ]
     },
     "execution_count": 297,
     "metadata": {},
     "output_type": "execute_result"
    }
   ],
   "source": [
    "# some of the words that not so frequent in the reviews\n",
    "sorted(counts_per_word, key=lambda t: t[1], reverse=True)[-10:]"
   ]
  },
  {
   "cell_type": "markdown",
   "metadata": {},
   "source": [
    "# 4. Build the model\n",
    "- There are several stage of building model:\n",
    "    1. Building a model based on 10 classes.\n",
    "    2. Building a model based on 3 classes."
   ]
  },
  {
   "cell_type": "code",
   "execution_count": 298,
   "metadata": {},
   "outputs": [],
   "source": [
    "from sklearn.linear_model import LogisticRegression"
   ]
  },
  {
   "cell_type": "code",
   "execution_count": 299,
   "metadata": {},
   "outputs": [],
   "source": [
    "from sklearn.model_selection import cross_validate"
   ]
  },
  {
   "cell_type": "code",
   "execution_count": 302,
   "metadata": {},
   "outputs": [
    {
     "data": {
      "text/plain": [
       "LogisticRegression(C=1.0, class_weight=None, dual=False, fit_intercept=True,\n",
       "          intercept_scaling=1, max_iter=100, multi_class='ovr', n_jobs=1,\n",
       "          penalty='l2', random_state=None, solver='liblinear', tol=0.0001,\n",
       "          verbose=0, warm_start=False)"
      ]
     },
     "execution_count": 302,
     "metadata": {},
     "output_type": "execute_result"
    }
   ],
   "source": [
    "lr = LogisticRegression()\n",
    "lr.fit(review_tfidf, y_train)"
   ]
  },
  {
   "cell_type": "code",
   "execution_count": 303,
   "metadata": {},
   "outputs": [
    {
     "data": {
      "text/plain": [
       "{'fit_time': array([0.82999992, 1.09065914, 0.91418076, 0.83136725, 0.81148291,\n",
       "        0.97160077, 0.91153002, 0.82503414, 0.81417513, 0.95345306]),\n",
       " 'score_time': array([0.00253391, 0.00236583, 0.00290322, 0.00254369, 0.00237417,\n",
       "        0.00236821, 0.002388  , 0.00234795, 0.00238085, 0.00276184]),\n",
       " 'test_accuracy': array([0.2957993 , 0.29246935, 0.28563084, 0.30625365, 0.30035129,\n",
       "        0.28395785, 0.28220141, 0.28395785, 0.29759813, 0.28445748]),\n",
       " 'train_accuracy': array([0.31495449, 0.31766465, 0.31959433, 0.31638822, 0.31756142,\n",
       "        0.31866632, 0.31730144, 0.31931626, 0.31442126, 0.32042368])}"
      ]
     },
     "execution_count": 303,
     "metadata": {},
     "output_type": "execute_result"
    }
   ],
   "source": [
    "scores = cross_validate(lr, review_tfidf, y_train, cv=10, \n",
    "                        scoring=['accuracy'],\n",
    "                        return_train_score=True\n",
    "                       )\n",
    "scores # not a very good result"
   ]
  },
  {
   "cell_type": "code",
   "execution_count": 54,
   "metadata": {},
   "outputs": [],
   "source": [
    "# test on the test data"
   ]
  },
  {
   "cell_type": "code",
   "execution_count": 55,
   "metadata": {},
   "outputs": [
    {
     "name": "stdout",
     "output_type": "stream",
     "text": [
      "CPU times: user 6min 32s, sys: 1min 55s, total: 8min 28s\n",
      "Wall time: 5min 18s\n"
     ]
    }
   ],
   "source": [
    "%%time\n",
    "test_tfidf = posf.transform(x_test)"
   ]
  },
  {
   "cell_type": "code",
   "execution_count": 304,
   "metadata": {},
   "outputs": [],
   "source": [
    "tfidf_test = tfidf.transform(test_tfidf)"
   ]
  },
  {
   "cell_type": "code",
   "execution_count": 305,
   "metadata": {},
   "outputs": [
    {
     "data": {
      "text/plain": [
       "0.2959756668226486"
      ]
     },
     "execution_count": 305,
     "metadata": {},
     "output_type": "execute_result"
    }
   ],
   "source": [
    "# accuracy on the test data\n",
    "lr.score(tfidf_test, y_test)"
   ]
  },
  {
   "cell_type": "code",
   "execution_count": 306,
   "metadata": {},
   "outputs": [],
   "source": [
    "from sklearn.metrics import confusion_matrix"
   ]
  },
  {
   "cell_type": "code",
   "execution_count": 307,
   "metadata": {},
   "outputs": [
    {
     "data": {
      "text/plain": [
       "array([[552,  19,   0,   0,   0,   0,   0,  28,  44,   0],\n",
       "       [ 81, 271,   0,   0,   0,   0,   0,  34, 223,   1],\n",
       "       [181,  14,   0,   0,   0,   0,   0,  15,  38,   0],\n",
       "       [178,  14,   0,   0,   0,   0,   0,  21,  44,   0],\n",
       "       [153,  16,   0,   0,   0,   0,   0,  42,  66,   1],\n",
       "       [147,  14,   0,   0,   0,   0,   0,  47,  89,   0],\n",
       "       [125,  19,   0,   0,   0,   0,   0,  77, 131,   0],\n",
       "       [ 99,  71,   0,   0,   0,   0,   0,  81, 255,   0],\n",
       "       [101, 113,   0,   0,   0,   0,   0,  60, 360,   2],\n",
       "       [ 62, 138,   0,   0,   0,   0,   0,  30, 216,   1]])"
      ]
     },
     "execution_count": 307,
     "metadata": {},
     "output_type": "execute_result"
    }
   ],
   "source": [
    "conf_matrix = confusion_matrix(y_test, lr.predict(tfidf_test))\n",
    "conf_matrix"
   ]
  },
  {
   "cell_type": "code",
   "execution_count": 308,
   "metadata": {},
   "outputs": [],
   "source": [
    "def print_confusion_matrix(confusion_matrix, class_names, figsize = (10,7), fontsize=14):\n",
    "    \"\"\"Prints a confusion matrix, as returned by sklearn.metrics.confusion_matrix, as a heatmap.\n",
    "    \n",
    "    Arguments\n",
    "    ---------\n",
    "    confusion_matrix: numpy.ndarray\n",
    "        The numpy.ndarray object returned from a call to sklearn.metrics.confusion_matrix. \n",
    "        Similarly constructed ndarrays can also be used.\n",
    "    class_names: list\n",
    "        An ordered list of class names, in the order they index the given confusion matrix.\n",
    "    figsize: tuple\n",
    "        A 2-long tuple, the first value determining the horizontal size of the ouputted figure,\n",
    "        the second determining the vertical size. Defaults to (10,7).\n",
    "    fontsize: int\n",
    "        Font size for axes labels. Defaults to 14.\n",
    "        \n",
    "    Returns\n",
    "    -------\n",
    "    matplotlib.figure.Figure\n",
    "        The resulting confusion matrix figure\n",
    "    \"\"\"\n",
    "    df_cm = pd.DataFrame(\n",
    "        confusion_matrix, index=class_names, columns=class_names, \n",
    "    )\n",
    "    fig = plt.figure(figsize=figsize)\n",
    "    try:\n",
    "        heatmap = sns.heatmap(df_cm, annot=True, fmt=\"d\", cmap=\"GnBu\")\n",
    "    except ValueError:\n",
    "        raise ValueError(\"Confusion matrix values must be integers.\")\n",
    "    heatmap.yaxis.set_ticklabels(heatmap.yaxis.get_ticklabels(), rotation=0, ha='right', fontsize=fontsize)\n",
    "    heatmap.xaxis.set_ticklabels(heatmap.xaxis.get_ticklabels(), rotation=45, ha='right', fontsize=fontsize)\n",
    "    plt.ylabel('True label')\n",
    "    plt.xlabel('Predicted label')"
   ]
  },
  {
   "cell_type": "code",
   "execution_count": 309,
   "metadata": {},
   "outputs": [
    {
     "data": {
      "text/plain": [
       "Text(0.5,1,'The confusion matrix with 10 classes')"
      ]
     },
     "execution_count": 309,
     "metadata": {},
     "output_type": "execute_result"
    },
    {
     "data": {
      "image/png": "[encoded data removed]",
      "text/plain": [
       "<Figure size 720x504 with 2 Axes>"
      ]
     },
     "metadata": {},
     "output_type": "display_data"
    }
   ],
   "source": [
    "print_confusion_matrix(conf_matrix, ['1', '2', '3', '4', '5', '6', '7', '8', '9', '10'])\n",
    "plt.title('The confusion matrix with 10 classes', size = 15)"
   ]
  },
  {
   "cell_type": "markdown",
   "metadata": {},
   "source": [
    "- As it can be seen, the result is not good, many of the rating is predicted as **class 1**.\n",
    "- Hence, I decide to reduce the classes, to rearrange the class into three."
   ]
  },
  {
   "cell_type": "code",
   "execution_count": 321,
   "metadata": {},
   "outputs": [],
   "source": [
    "df_less_class = df[['body', 'rate']]"
   ]
  },
  {
   "cell_type": "code",
   "execution_count": 322,
   "metadata": {},
   "outputs": [],
   "source": [
    "pd.options.mode.chained_assignment = None\n",
    "for i in range(len(df_less_class)):\n",
    "    rate = df_less_class.loc[i,'rate']\n",
    "    # movie_class:\n",
    "    # 1~3: negative\n",
    "    # 4~7: neutral\n",
    "    # 8~10: positive\n",
    "    if rate == '1' or rate == '2' or rate =='3':\n",
    "        df_less_class.loc[i, 'rate'] = 'negative'\n",
    "    elif rate == '4' or rate == '5' or rate == '6' or rate == '7':\n",
    "        df_less_class.loc[i, 'rate'] = 'neutral'\n",
    "    elif rate == '8' or rate == '9' or rate == '10':\n",
    "        df_less_class.loc[i, 'rate'] = 'positive'"
   ]
  },
  {
   "cell_type": "code",
   "execution_count": 323,
   "metadata": {},
   "outputs": [
    {
     "data": {
      "image/png": "[encoded data removed]",
      "text/plain": [
       "<Figure size 432x288 with 1 Axes>"
      ]
     },
     "metadata": {},
     "output_type": "display_data"
    }
   ],
   "source": [
    "df_less_class.rate.value_counts().plot('bar', color = 'blue')\n",
    "plt.title('The histogram of rearranged dataset')\n",
    "plt.show()"
   ]
  },
  {
   "cell_type": "code",
   "execution_count": 410,
   "metadata": {},
   "outputs": [
    {
     "data": {
      "text/plain": [
       "positive    1693\n",
       "neutral     1433\n",
       "negative    1148\n",
       "Name: rate, dtype: int64"
      ]
     },
     "execution_count": 410,
     "metadata": {},
     "output_type": "execute_result"
    }
   ],
   "source": [
    "test_less_class.rate.value_counts()"
   ]
  },
  {
   "cell_type": "code",
   "execution_count": 324,
   "metadata": {},
   "outputs": [],
   "source": [
    "train_less_class, test_less_class = train_test_split(df_less_class, test_size=0.2, random_state=666)"
   ]
  },
  {
   "cell_type": "code",
   "execution_count": 325,
   "metadata": {},
   "outputs": [],
   "source": [
    "y_train_lc = train_less_class.rate\n",
    "y_test_lc = test_less_class.rate"
   ]
  },
  {
   "cell_type": "code",
   "execution_count": 370,
   "metadata": {},
   "outputs": [
    {
     "data": {
      "text/plain": [
       "LogisticRegression(C=1e+42, class_weight=None, dual=False, fit_intercept=True,\n",
       "          intercept_scaling=1, max_iter=100, multi_class='ovr', n_jobs=1,\n",
       "          penalty='l2', random_state=None, solver='liblinear', tol=0.0001,\n",
       "          verbose=0, warm_start=False)"
      ]
     },
     "execution_count": 370,
     "metadata": {},
     "output_type": "execute_result"
    }
   ],
   "source": [
    "lr = LogisticRegression(C=1e42)\n",
    "lr.fit(review_tfidf, y_train_lc)"
   ]
  },
  {
   "cell_type": "code",
   "execution_count": 371,
   "metadata": {},
   "outputs": [
    {
     "data": {
      "text/plain": [
       "{'fit_time': array([1.02607632, 1.065938  , 0.53779292, 0.89418387, 1.20554209,\n",
       "        0.97419214, 0.88087296, 1.0191257 , 1.11042261, 0.93203926]),\n",
       " 'score_time': array([0.00201178, 0.00205112, 0.00197816, 0.00199389, 0.00200891,\n",
       "        0.00204015, 0.00208116, 0.0020082 , 0.0020473 , 0.00190282]),\n",
       " 'test_accuracy': array([0.63237873, 0.63296318, 0.62339181, 0.64306612, 0.6348742 ,\n",
       "        0.65652428, 0.61322411, 0.64131071, 0.63721475, 0.64929742]),\n",
       " 'train_accuracy': array([0.68530196, 0.68218163, 0.68207228, 0.68209295, 0.68092298,\n",
       "        0.68098798, 0.68657784, 0.68118297, 0.68274293, 0.68211361])}"
      ]
     },
     "execution_count": 371,
     "metadata": {},
     "output_type": "execute_result"
    }
   ],
   "source": [
    "scores = cross_validate(lr, review_tfidf, y_train_lc, cv=10, \n",
    "                        scoring=['accuracy'],\n",
    "                        return_train_score=True\n",
    "                       )\n",
    "scores # the result is way better than before"
   ]
  },
  {
   "cell_type": "code",
   "execution_count": 372,
   "metadata": {},
   "outputs": [
    {
     "data": {
      "text/plain": [
       "0.6293869911090314"
      ]
     },
     "execution_count": 372,
     "metadata": {},
     "output_type": "execute_result"
    }
   ],
   "source": [
    "# test on the test data\n",
    "lr.score(tfidf_test, y_test_lc)"
   ]
  },
  {
   "cell_type": "code",
   "execution_count": 373,
   "metadata": {},
   "outputs": [
    {
     "data": {
      "text/plain": [
       "array([[ 772,  246,  130],\n",
       "       [ 310,  670,  453],\n",
       "       [ 112,  333, 1248]])"
      ]
     },
     "execution_count": 373,
     "metadata": {},
     "output_type": "execute_result"
    }
   ],
   "source": [
    "conf_matrix = confusion_matrix(y_test_lc, lr.predict(tfidf_test))\n",
    "conf_matrix"
   ]
  },
  {
   "cell_type": "code",
   "execution_count": 374,
   "metadata": {},
   "outputs": [
    {
     "data": {
      "image/png": "[encoded data removed]",
      "text/plain": [
       "<Figure size 720x504 with 2 Axes>"
      ]
     },
     "metadata": {},
     "output_type": "display_data"
    }
   ],
   "source": [
    "print_confusion_matrix(conf_matrix, ['Negative', 'Neutral', 'Positive'], fontsize=15)"
   ]
  },
  {
   "cell_type": "code",
   "execution_count": 375,
   "metadata": {},
   "outputs": [],
   "source": [
    "# then, we check the coefficients to see if the model makes sense"
   ]
  },
  {
   "cell_type": "markdown",
   "metadata": {},
   "source": [
    "**The below lists is the coefficient of the *Positive Class***"
   ]
  },
  {
   "cell_type": "code",
   "execution_count": 376,
   "metadata": {},
   "outputs": [],
   "source": [
    "words = tfidf.get_feature_names()\n",
    "feature_coefs = pd.DataFrame(\n",
    "    data = list(zip(words, lr.coef_[2])),\n",
    "    columns = ['feature', 'coef'])"
   ]
  },
  {
   "cell_type": "code",
   "execution_count": 377,
   "metadata": {},
   "outputs": [
    {
     "name": "stdout",
     "output_type": "stream",
     "text": [
      "Highest coefficients (for the positive class):\n"
     ]
    },
    {
     "data": {
      "text/html": [
       "<div>\n",
       "<style scoped>\n",
       "    .dataframe tbody tr th:only-of-type {\n",
       "        vertical-align: middle;\n",
       "    }\n",
       "\n",
       "    .dataframe tbody tr th {\n",
       "        vertical-align: top;\n",
       "    }\n",
       "\n",
       "    .dataframe thead th {\n",
       "        text-align: right;\n",
       "    }\n",
       "</style>\n",
       "<table border=\"1\" class=\"dataframe\">\n",
       "  <thead>\n",
       "    <tr style=\"text-align: right;\">\n",
       "      <th></th>\n",
       "      <th>feature</th>\n",
       "      <th>coef</th>\n",
       "    </tr>\n",
       "  </thead>\n",
       "  <tbody>\n",
       "    <tr>\n",
       "      <th>64</th>\n",
       "      <td>brilliantly</td>\n",
       "      <td>17.919056</td>\n",
       "    </tr>\n",
       "    <tr>\n",
       "      <th>228</th>\n",
       "      <td>highly</td>\n",
       "      <td>14.713949</td>\n",
       "    </tr>\n",
       "    <tr>\n",
       "      <th>48</th>\n",
       "      <td>beautifully</td>\n",
       "      <td>14.447535</td>\n",
       "    </tr>\n",
       "    <tr>\n",
       "      <th>273</th>\n",
       "      <td>just right</td>\n",
       "      <td>13.719381</td>\n",
       "    </tr>\n",
       "    <tr>\n",
       "      <th>433</th>\n",
       "      <td>pleasantly</td>\n",
       "      <td>13.205397</td>\n",
       "    </tr>\n",
       "    <tr>\n",
       "      <th>111</th>\n",
       "      <td>definitely</td>\n",
       "      <td>12.540775</td>\n",
       "    </tr>\n",
       "    <tr>\n",
       "      <th>150</th>\n",
       "      <td>excellent</td>\n",
       "      <td>12.532326</td>\n",
       "    </tr>\n",
       "    <tr>\n",
       "      <th>14</th>\n",
       "      <td>amazing</td>\n",
       "      <td>12.502997</td>\n",
       "    </tr>\n",
       "    <tr>\n",
       "      <th>550</th>\n",
       "      <td>superb</td>\n",
       "      <td>12.306540</td>\n",
       "    </tr>\n",
       "    <tr>\n",
       "      <th>164</th>\n",
       "      <td>fascinating</td>\n",
       "      <td>12.183011</td>\n",
       "    </tr>\n",
       "  </tbody>\n",
       "</table>\n",
       "</div>"
      ],
      "text/plain": [
       "         feature       coef\n",
       "64   brilliantly  17.919056\n",
       "228       highly  14.713949\n",
       "48   beautifully  14.447535\n",
       "273   just right  13.719381\n",
       "433   pleasantly  13.205397\n",
       "111   definitely  12.540775\n",
       "150    excellent  12.532326\n",
       "14       amazing  12.502997\n",
       "550       superb  12.306540\n",
       "164  fascinating  12.183011"
      ]
     },
     "execution_count": 377,
     "metadata": {},
     "output_type": "execute_result"
    }
   ],
   "source": [
    "print ('Highest coefficients (for the positive class):')\n",
    "feature_coefs.sort_values(by='coef', ascending=False)[:10]"
   ]
  },
  {
   "cell_type": "code",
   "execution_count": 378,
   "metadata": {},
   "outputs": [
    {
     "name": "stdout",
     "output_type": "stream",
     "text": [
      "Lowest coefficients (for the positive class):\n"
     ]
    },
    {
     "data": {
      "text/html": [
       "<div>\n",
       "<style scoped>\n",
       "    .dataframe tbody tr th:only-of-type {\n",
       "        vertical-align: middle;\n",
       "    }\n",
       "\n",
       "    .dataframe tbody tr th {\n",
       "        vertical-align: top;\n",
       "    }\n",
       "\n",
       "    .dataframe thead th {\n",
       "        text-align: right;\n",
       "    }\n",
       "</style>\n",
       "<table border=\"1\" class=\"dataframe\">\n",
       "  <thead>\n",
       "    <tr style=\"text-align: right;\">\n",
       "      <th></th>\n",
       "      <th>feature</th>\n",
       "      <th>coef</th>\n",
       "    </tr>\n",
       "  </thead>\n",
       "  <tbody>\n",
       "    <tr>\n",
       "      <th>593</th>\n",
       "      <td>unfunny</td>\n",
       "      <td>-36.153004</td>\n",
       "    </tr>\n",
       "    <tr>\n",
       "      <th>282</th>\n",
       "      <td>laughable</td>\n",
       "      <td>-24.976116</td>\n",
       "    </tr>\n",
       "    <tr>\n",
       "      <th>175</th>\n",
       "      <td>forgettable</td>\n",
       "      <td>-24.230923</td>\n",
       "    </tr>\n",
       "    <tr>\n",
       "      <th>35</th>\n",
       "      <td>awful</td>\n",
       "      <td>-23.390179</td>\n",
       "    </tr>\n",
       "    <tr>\n",
       "      <th>56</th>\n",
       "      <td>bland</td>\n",
       "      <td>-21.959345</td>\n",
       "    </tr>\n",
       "    <tr>\n",
       "      <th>316</th>\n",
       "      <td>mediocre</td>\n",
       "      <td>-21.058868</td>\n",
       "    </tr>\n",
       "    <tr>\n",
       "      <th>614</th>\n",
       "      <td>whatsoever</td>\n",
       "      <td>-19.184256</td>\n",
       "    </tr>\n",
       "    <tr>\n",
       "      <th>438</th>\n",
       "      <td>poorly</td>\n",
       "      <td>-19.007989</td>\n",
       "    </tr>\n",
       "    <tr>\n",
       "      <th>623</th>\n",
       "      <td>wooden</td>\n",
       "      <td>-18.168074</td>\n",
       "    </tr>\n",
       "    <tr>\n",
       "      <th>553</th>\n",
       "      <td>supposedly</td>\n",
       "      <td>-17.685713</td>\n",
       "    </tr>\n",
       "  </tbody>\n",
       "</table>\n",
       "</div>"
      ],
      "text/plain": [
       "         feature       coef\n",
       "593      unfunny -36.153004\n",
       "282    laughable -24.976116\n",
       "175  forgettable -24.230923\n",
       "35         awful -23.390179\n",
       "56         bland -21.959345\n",
       "316     mediocre -21.058868\n",
       "614   whatsoever -19.184256\n",
       "438       poorly -19.007989\n",
       "623       wooden -18.168074\n",
       "553   supposedly -17.685713"
      ]
     },
     "execution_count": 378,
     "metadata": {},
     "output_type": "execute_result"
    }
   ],
   "source": [
    "print ('Lowest coefficients (for the positive class):')\n",
    "feature_coefs.sort_values(by='coef')[:10]\n",
    "# the result make sense"
   ]
  },
  {
   "cell_type": "markdown",
   "metadata": {},
   "source": [
    "**The below lists is the coefficient of the *Negative Class***"
   ]
  },
  {
   "cell_type": "code",
   "execution_count": 379,
   "metadata": {},
   "outputs": [
    {
     "name": "stdout",
     "output_type": "stream",
     "text": [
      "Highest coefficients (for the negative class):\n"
     ]
    },
    {
     "data": {
      "text/html": [
       "<div>\n",
       "<style scoped>\n",
       "    .dataframe tbody tr th:only-of-type {\n",
       "        vertical-align: middle;\n",
       "    }\n",
       "\n",
       "    .dataframe tbody tr th {\n",
       "        vertical-align: top;\n",
       "    }\n",
       "\n",
       "    .dataframe thead th {\n",
       "        text-align: right;\n",
       "    }\n",
       "</style>\n",
       "<table border=\"1\" class=\"dataframe\">\n",
       "  <thead>\n",
       "    <tr style=\"text-align: right;\">\n",
       "      <th></th>\n",
       "      <th>feature</th>\n",
       "      <th>coef</th>\n",
       "    </tr>\n",
       "  </thead>\n",
       "  <tbody>\n",
       "    <tr>\n",
       "      <th>425</th>\n",
       "      <td>pathetic</td>\n",
       "      <td>20.537214</td>\n",
       "    </tr>\n",
       "    <tr>\n",
       "      <th>37</th>\n",
       "      <td>bad</td>\n",
       "      <td>20.448998</td>\n",
       "    </tr>\n",
       "    <tr>\n",
       "      <th>35</th>\n",
       "      <td>awful</td>\n",
       "      <td>18.931851</td>\n",
       "    </tr>\n",
       "    <tr>\n",
       "      <th>399</th>\n",
       "      <td>not worth</td>\n",
       "      <td>14.652466</td>\n",
       "    </tr>\n",
       "    <tr>\n",
       "      <th>271</th>\n",
       "      <td>just plain</td>\n",
       "      <td>13.235241</td>\n",
       "    </tr>\n",
       "    <tr>\n",
       "      <th>623</th>\n",
       "      <td>wooden</td>\n",
       "      <td>12.371168</td>\n",
       "    </tr>\n",
       "    <tr>\n",
       "      <th>420</th>\n",
       "      <td>painful</td>\n",
       "      <td>11.561677</td>\n",
       "    </tr>\n",
       "    <tr>\n",
       "      <th>566</th>\n",
       "      <td>terrible</td>\n",
       "      <td>11.255196</td>\n",
       "    </tr>\n",
       "    <tr>\n",
       "      <th>593</th>\n",
       "      <td>unfunny</td>\n",
       "      <td>10.500027</td>\n",
       "    </tr>\n",
       "    <tr>\n",
       "      <th>435</th>\n",
       "      <td>pointless</td>\n",
       "      <td>10.392063</td>\n",
       "    </tr>\n",
       "  </tbody>\n",
       "</table>\n",
       "</div>"
      ],
      "text/plain": [
       "        feature       coef\n",
       "425    pathetic  20.537214\n",
       "37          bad  20.448998\n",
       "35        awful  18.931851\n",
       "399   not worth  14.652466\n",
       "271  just plain  13.235241\n",
       "623      wooden  12.371168\n",
       "420     painful  11.561677\n",
       "566    terrible  11.255196\n",
       "593     unfunny  10.500027\n",
       "435   pointless  10.392063"
      ]
     },
     "execution_count": 379,
     "metadata": {},
     "output_type": "execute_result"
    }
   ],
   "source": [
    "words = tfidf.get_feature_names()\n",
    "feature_coefs = pd.DataFrame(\n",
    "    data = list(zip(words, lr.coef_[0])),\n",
    "    columns = ['feature', 'coef'])\n",
    "print ('Highest coefficients (for the negative class):')\n",
    "feature_coefs.sort_values(by='coef', ascending=False)[:10]"
   ]
  },
  {
   "cell_type": "code",
   "execution_count": 380,
   "metadata": {},
   "outputs": [
    {
     "name": "stdout",
     "output_type": "stream",
     "text": [
      "Highest coefficients (for the negative class):\n"
     ]
    },
    {
     "data": {
      "text/html": [
       "<div>\n",
       "<style scoped>\n",
       "    .dataframe tbody tr th:only-of-type {\n",
       "        vertical-align: middle;\n",
       "    }\n",
       "\n",
       "    .dataframe tbody tr th {\n",
       "        vertical-align: top;\n",
       "    }\n",
       "\n",
       "    .dataframe thead th {\n",
       "        text-align: right;\n",
       "    }\n",
       "</style>\n",
       "<table border=\"1\" class=\"dataframe\">\n",
       "  <thead>\n",
       "    <tr style=\"text-align: right;\">\n",
       "      <th></th>\n",
       "      <th>feature</th>\n",
       "      <th>coef</th>\n",
       "    </tr>\n",
       "  </thead>\n",
       "  <tbody>\n",
       "    <tr>\n",
       "      <th>433</th>\n",
       "      <td>pleasantly</td>\n",
       "      <td>-28.255085</td>\n",
       "    </tr>\n",
       "    <tr>\n",
       "      <th>590</th>\n",
       "      <td>unexpected</td>\n",
       "      <td>-27.651463</td>\n",
       "    </tr>\n",
       "    <tr>\n",
       "      <th>150</th>\n",
       "      <td>excellent</td>\n",
       "      <td>-23.971785</td>\n",
       "    </tr>\n",
       "    <tr>\n",
       "      <th>111</th>\n",
       "      <td>definitely</td>\n",
       "      <td>-22.276895</td>\n",
       "    </tr>\n",
       "    <tr>\n",
       "      <th>594</th>\n",
       "      <td>unique</td>\n",
       "      <td>-21.509373</td>\n",
       "    </tr>\n",
       "    <tr>\n",
       "      <th>347</th>\n",
       "      <td>nonetheless</td>\n",
       "      <td>-21.454117</td>\n",
       "    </tr>\n",
       "    <tr>\n",
       "      <th>550</th>\n",
       "      <td>superb</td>\n",
       "      <td>-20.190301</td>\n",
       "    </tr>\n",
       "    <tr>\n",
       "      <th>48</th>\n",
       "      <td>beautifully</td>\n",
       "      <td>-19.815808</td>\n",
       "    </tr>\n",
       "    <tr>\n",
       "      <th>180</th>\n",
       "      <td>fresh</td>\n",
       "      <td>-18.736072</td>\n",
       "    </tr>\n",
       "    <tr>\n",
       "      <th>416</th>\n",
       "      <td>outstanding</td>\n",
       "      <td>-17.939375</td>\n",
       "    </tr>\n",
       "  </tbody>\n",
       "</table>\n",
       "</div>"
      ],
      "text/plain": [
       "         feature       coef\n",
       "433   pleasantly -28.255085\n",
       "590   unexpected -27.651463\n",
       "150    excellent -23.971785\n",
       "111   definitely -22.276895\n",
       "594       unique -21.509373\n",
       "347  nonetheless -21.454117\n",
       "550       superb -20.190301\n",
       "48   beautifully -19.815808\n",
       "180        fresh -18.736072\n",
       "416  outstanding -17.939375"
      ]
     },
     "execution_count": 380,
     "metadata": {},
     "output_type": "execute_result"
    }
   ],
   "source": [
    "words = tfidf.get_feature_names()\n",
    "feature_coefs = pd.DataFrame(\n",
    "    data = list(zip(words, lr.coef_[0])),\n",
    "    columns = ['feature', 'coef'])\n",
    "print ('Highest coefficients (for the negative class):')\n",
    "feature_coefs.sort_values(by='coef')[:10]"
   ]
  },
  {
   "cell_type": "code",
   "execution_count": 381,
   "metadata": {},
   "outputs": [],
   "source": [
    "# feature selection\n",
    "# we have too many features, I will try to reduce the number of features."
   ]
  },
  {
   "cell_type": "code",
   "execution_count": 382,
   "metadata": {},
   "outputs": [],
   "source": [
    "from sklearn.feature_selection import SelectFromModel"
   ]
  },
  {
   "cell_type": "code",
   "execution_count": 383,
   "metadata": {},
   "outputs": [],
   "source": [
    "# feature selection\n",
    "lr = LogisticRegression(C=1e42)\n",
    "lr.fit(review_tfidf, y_train_lc)\n",
    "lr_select = SelectFromModel(lr, prefit=True)"
   ]
  },
  {
   "cell_type": "code",
   "execution_count": 384,
   "metadata": {},
   "outputs": [],
   "source": [
    "x_select = lr_select.transform(review_tfidf)"
   ]
  },
  {
   "cell_type": "code",
   "execution_count": 385,
   "metadata": {},
   "outputs": [
    {
     "data": {
      "text/plain": [
       "(17094, 271)"
      ]
     },
     "execution_count": 385,
     "metadata": {},
     "output_type": "execute_result"
    }
   ],
   "source": [
    "x_select.shape"
   ]
  },
  {
   "cell_type": "code",
   "execution_count": 386,
   "metadata": {},
   "outputs": [],
   "source": [
    "lr_s = LogisticRegression(C=1e42)"
   ]
  },
  {
   "cell_type": "code",
   "execution_count": 387,
   "metadata": {},
   "outputs": [
    {
     "data": {
      "text/plain": [
       "LogisticRegression(C=1e+42, class_weight=None, dual=False, fit_intercept=True,\n",
       "          intercept_scaling=1, max_iter=100, multi_class='ovr', n_jobs=1,\n",
       "          penalty='l2', random_state=None, solver='liblinear', tol=0.0001,\n",
       "          verbose=0, warm_start=False)"
      ]
     },
     "execution_count": 387,
     "metadata": {},
     "output_type": "execute_result"
    }
   ],
   "source": [
    "lr_s.fit(x_select, y_train_lc)"
   ]
  },
  {
   "cell_type": "code",
   "execution_count": 388,
   "metadata": {},
   "outputs": [],
   "source": [
    "tfidf_select = lr_select.transform(tfidf_test)"
   ]
  },
  {
   "cell_type": "code",
   "execution_count": 389,
   "metadata": {},
   "outputs": [
    {
     "data": {
      "text/plain": [
       "0.6251754796443613"
      ]
     },
     "execution_count": 389,
     "metadata": {},
     "output_type": "execute_result"
    }
   ],
   "source": [
    "lr_s.score(tfidf_select, y_test_lc)"
   ]
  },
  {
   "cell_type": "code",
   "execution_count": 390,
   "metadata": {},
   "outputs": [
    {
     "data": {
      "text/plain": [
       "array([[ 768,  232,  148],\n",
       "       [ 310,  651,  472],\n",
       "       [ 114,  326, 1253]])"
      ]
     },
     "execution_count": 390,
     "metadata": {},
     "output_type": "execute_result"
    }
   ],
   "source": [
    "conf_matrix = confusion_matrix(y_test_lc, lr_s.predict(tfidf_select))\n",
    "conf_matrix"
   ]
  },
  {
   "cell_type": "code",
   "execution_count": 401,
   "metadata": {},
   "outputs": [],
   "source": [
    "words_select = tfidf.get_feature_names()\n",
    "w_df = pd.DataFrame(words_select, columns=['feature'])"
   ]
  },
  {
   "cell_type": "code",
   "execution_count": 402,
   "metadata": {},
   "outputs": [],
   "source": [
    "select_index = lr_select.get_support().tolist()"
   ]
  },
  {
   "cell_type": "code",
   "execution_count": 404,
   "metadata": {},
   "outputs": [],
   "source": [
    "variables = w_df[select_index]"
   ]
  },
  {
   "cell_type": "code",
   "execution_count": 408,
   "metadata": {},
   "outputs": [
    {
     "name": "stdout",
     "output_type": "stream",
     "text": [
      "Highest coefficients (for the positive class):\n"
     ]
    },
    {
     "data": {
      "text/html": [
       "<div>\n",
       "<style scoped>\n",
       "    .dataframe tbody tr th:only-of-type {\n",
       "        vertical-align: middle;\n",
       "    }\n",
       "\n",
       "    .dataframe tbody tr th {\n",
       "        vertical-align: top;\n",
       "    }\n",
       "\n",
       "    .dataframe thead th {\n",
       "        text-align: right;\n",
       "    }\n",
       "</style>\n",
       "<table border=\"1\" class=\"dataframe\">\n",
       "  <thead>\n",
       "    <tr style=\"text-align: right;\">\n",
       "      <th></th>\n",
       "      <th>feature</th>\n",
       "      <th>coef</th>\n",
       "    </tr>\n",
       "  </thead>\n",
       "  <tbody>\n",
       "    <tr>\n",
       "      <th>150</th>\n",
       "      <td>not hard</td>\n",
       "      <td>-23.971785</td>\n",
       "    </tr>\n",
       "    <tr>\n",
       "      <th>111</th>\n",
       "      <td>just great</td>\n",
       "      <td>-22.276895</td>\n",
       "    </tr>\n",
       "    <tr>\n",
       "      <th>48</th>\n",
       "      <td>double</td>\n",
       "      <td>-19.815808</td>\n",
       "    </tr>\n",
       "    <tr>\n",
       "      <th>180</th>\n",
       "      <td>pleasantly</td>\n",
       "      <td>-18.736072</td>\n",
       "    </tr>\n",
       "    <tr>\n",
       "      <th>157</th>\n",
       "      <td>not quite</td>\n",
       "      <td>-17.005940</td>\n",
       "    </tr>\n",
       "    <tr>\n",
       "      <th>161</th>\n",
       "      <td>not wrong</td>\n",
       "      <td>-16.837628</td>\n",
       "    </tr>\n",
       "    <tr>\n",
       "      <th>164</th>\n",
       "      <td>okay</td>\n",
       "      <td>-16.474380</td>\n",
       "    </tr>\n",
       "    <tr>\n",
       "      <th>252</th>\n",
       "      <td>unfunny</td>\n",
       "      <td>-15.852144</td>\n",
       "    </tr>\n",
       "    <tr>\n",
       "      <th>63</th>\n",
       "      <td>extra</td>\n",
       "      <td>-15.504909</td>\n",
       "    </tr>\n",
       "    <tr>\n",
       "      <th>183</th>\n",
       "      <td>poor</td>\n",
       "      <td>-14.941010</td>\n",
       "    </tr>\n",
       "    <tr>\n",
       "      <th>229</th>\n",
       "      <td>surprised</td>\n",
       "      <td>-14.715468</td>\n",
       "    </tr>\n",
       "    <tr>\n",
       "      <th>262</th>\n",
       "      <td>western</td>\n",
       "      <td>-14.295744</td>\n",
       "    </tr>\n",
       "    <tr>\n",
       "      <th>258</th>\n",
       "      <td>various</td>\n",
       "      <td>-14.094618</td>\n",
       "    </tr>\n",
       "    <tr>\n",
       "      <th>167</th>\n",
       "      <td>original not</td>\n",
       "      <td>-13.683749</td>\n",
       "    </tr>\n",
       "    <tr>\n",
       "      <th>209</th>\n",
       "      <td>seemingly</td>\n",
       "      <td>-13.289958</td>\n",
       "    </tr>\n",
       "    <tr>\n",
       "      <th>228</th>\n",
       "      <td>supposedly</td>\n",
       "      <td>-13.040972</td>\n",
       "    </tr>\n",
       "    <tr>\n",
       "      <th>14</th>\n",
       "      <td>bad just</td>\n",
       "      <td>-12.870886</td>\n",
       "    </tr>\n",
       "    <tr>\n",
       "      <th>143</th>\n",
       "      <td>not bad</td>\n",
       "      <td>-12.814786</td>\n",
       "    </tr>\n",
       "    <tr>\n",
       "      <th>131</th>\n",
       "      <td>memorable</td>\n",
       "      <td>-12.800232</td>\n",
       "    </tr>\n",
       "    <tr>\n",
       "      <th>34</th>\n",
       "      <td>convincing</td>\n",
       "      <td>-12.737900</td>\n",
       "    </tr>\n",
       "    <tr>\n",
       "      <th>181</th>\n",
       "      <td>pleasantly surprised</td>\n",
       "      <td>-12.566772</td>\n",
       "    </tr>\n",
       "    <tr>\n",
       "      <th>246</th>\n",
       "      <td>twice</td>\n",
       "      <td>-12.517292</td>\n",
       "    </tr>\n",
       "    <tr>\n",
       "      <th>115</th>\n",
       "      <td>just right</td>\n",
       "      <td>-12.086520</td>\n",
       "    </tr>\n",
       "    <tr>\n",
       "      <th>198</th>\n",
       "      <td>really great</td>\n",
       "      <td>-11.925807</td>\n",
       "    </tr>\n",
       "    <tr>\n",
       "      <th>135</th>\n",
       "      <td>mysterious</td>\n",
       "      <td>-11.394530</td>\n",
       "    </tr>\n",
       "    <tr>\n",
       "      <th>64</th>\n",
       "      <td>fairly</td>\n",
       "      <td>-11.249072</td>\n",
       "    </tr>\n",
       "    <tr>\n",
       "      <th>134</th>\n",
       "      <td>mixed</td>\n",
       "      <td>-11.192715</td>\n",
       "    </tr>\n",
       "    <tr>\n",
       "      <th>66</th>\n",
       "      <td>familiar</td>\n",
       "      <td>-11.171064</td>\n",
       "    </tr>\n",
       "    <tr>\n",
       "      <th>245</th>\n",
       "      <td>true</td>\n",
       "      <td>-11.152289</td>\n",
       "    </tr>\n",
       "    <tr>\n",
       "      <th>137</th>\n",
       "      <td>negative</td>\n",
       "      <td>-11.134768</td>\n",
       "    </tr>\n",
       "    <tr>\n",
       "      <th>...</th>\n",
       "      <td>...</td>\n",
       "      <td>...</td>\n",
       "    </tr>\n",
       "    <tr>\n",
       "      <th>222</th>\n",
       "      <td>stunning</td>\n",
       "      <td>3.710657</td>\n",
       "    </tr>\n",
       "    <tr>\n",
       "      <th>71</th>\n",
       "      <td>final</td>\n",
       "      <td>3.884854</td>\n",
       "    </tr>\n",
       "    <tr>\n",
       "      <th>140</th>\n",
       "      <td>nicely</td>\n",
       "      <td>3.926730</td>\n",
       "    </tr>\n",
       "    <tr>\n",
       "      <th>87</th>\n",
       "      <td>great</td>\n",
       "      <td>3.936907</td>\n",
       "    </tr>\n",
       "    <tr>\n",
       "      <th>125</th>\n",
       "      <td>long not</td>\n",
       "      <td>3.946495</td>\n",
       "    </tr>\n",
       "    <tr>\n",
       "      <th>263</th>\n",
       "      <td>whatsoever</td>\n",
       "      <td>4.136764</td>\n",
       "    </tr>\n",
       "    <tr>\n",
       "      <th>176</th>\n",
       "      <td>perfectly</td>\n",
       "      <td>4.175732</td>\n",
       "    </tr>\n",
       "    <tr>\n",
       "      <th>54</th>\n",
       "      <td>effectively</td>\n",
       "      <td>4.305721</td>\n",
       "    </tr>\n",
       "    <tr>\n",
       "      <th>93</th>\n",
       "      <td>hearted</td>\n",
       "      <td>4.316467</td>\n",
       "    </tr>\n",
       "    <tr>\n",
       "      <th>145</th>\n",
       "      <td>not completely</td>\n",
       "      <td>4.318753</td>\n",
       "    </tr>\n",
       "    <tr>\n",
       "      <th>56</th>\n",
       "      <td>engaging</td>\n",
       "      <td>4.399165</td>\n",
       "    </tr>\n",
       "    <tr>\n",
       "      <th>264</th>\n",
       "      <td>willing</td>\n",
       "      <td>4.526858</td>\n",
       "    </tr>\n",
       "    <tr>\n",
       "      <th>173</th>\n",
       "      <td>particularly</td>\n",
       "      <td>4.827331</td>\n",
       "    </tr>\n",
       "    <tr>\n",
       "      <th>118</th>\n",
       "      <td>lame</td>\n",
       "      <td>4.850325</td>\n",
       "    </tr>\n",
       "    <tr>\n",
       "      <th>22</th>\n",
       "      <td>bland</td>\n",
       "      <td>4.905263</td>\n",
       "    </tr>\n",
       "    <tr>\n",
       "      <th>177</th>\n",
       "      <td>personal</td>\n",
       "      <td>5.026188</td>\n",
       "    </tr>\n",
       "    <tr>\n",
       "      <th>73</th>\n",
       "      <td>flat</td>\n",
       "      <td>5.514457</td>\n",
       "    </tr>\n",
       "    <tr>\n",
       "      <th>59</th>\n",
       "      <td>especially</td>\n",
       "      <td>6.048361</td>\n",
       "    </tr>\n",
       "    <tr>\n",
       "      <th>112</th>\n",
       "      <td>just little</td>\n",
       "      <td>6.135012</td>\n",
       "    </tr>\n",
       "    <tr>\n",
       "      <th>18</th>\n",
       "      <td>beautiful</td>\n",
       "      <td>6.351823</td>\n",
       "    </tr>\n",
       "    <tr>\n",
       "      <th>44</th>\n",
       "      <td>different</td>\n",
       "      <td>6.353665</td>\n",
       "    </tr>\n",
       "    <tr>\n",
       "      <th>60</th>\n",
       "      <td>eventually</td>\n",
       "      <td>7.869115</td>\n",
       "    </tr>\n",
       "    <tr>\n",
       "      <th>236</th>\n",
       "      <td>terribly</td>\n",
       "      <td>8.095040</td>\n",
       "    </tr>\n",
       "    <tr>\n",
       "      <th>158</th>\n",
       "      <td>not seriously</td>\n",
       "      <td>8.438836</td>\n",
       "    </tr>\n",
       "    <tr>\n",
       "      <th>114</th>\n",
       "      <td>just plain</td>\n",
       "      <td>8.442578</td>\n",
       "    </tr>\n",
       "    <tr>\n",
       "      <th>43</th>\n",
       "      <td>desperately</td>\n",
       "      <td>8.564774</td>\n",
       "    </tr>\n",
       "    <tr>\n",
       "      <th>256</th>\n",
       "      <td>unnecessary</td>\n",
       "      <td>8.713492</td>\n",
       "    </tr>\n",
       "    <tr>\n",
       "      <th>23</th>\n",
       "      <td>bloody</td>\n",
       "      <td>8.883093</td>\n",
       "    </tr>\n",
       "    <tr>\n",
       "      <th>35</th>\n",
       "      <td>course</td>\n",
       "      <td>18.931851</td>\n",
       "    </tr>\n",
       "    <tr>\n",
       "      <th>37</th>\n",
       "      <td>curious</td>\n",
       "      <td>20.448998</td>\n",
       "    </tr>\n",
       "  </tbody>\n",
       "</table>\n",
       "<p>271 rows × 2 columns</p>\n",
       "</div>"
      ],
      "text/plain": [
       "                  feature       coef\n",
       "150              not hard -23.971785\n",
       "111            just great -22.276895\n",
       "48                 double -19.815808\n",
       "180            pleasantly -18.736072\n",
       "157             not quite -17.005940\n",
       "161             not wrong -16.837628\n",
       "164                  okay -16.474380\n",
       "252               unfunny -15.852144\n",
       "63                  extra -15.504909\n",
       "183                  poor -14.941010\n",
       "229             surprised -14.715468\n",
       "262               western -14.295744\n",
       "258               various -14.094618\n",
       "167          original not -13.683749\n",
       "209             seemingly -13.289958\n",
       "228            supposedly -13.040972\n",
       "14               bad just -12.870886\n",
       "143               not bad -12.814786\n",
       "131             memorable -12.800232\n",
       "34             convincing -12.737900\n",
       "181  pleasantly surprised -12.566772\n",
       "246                 twice -12.517292\n",
       "115            just right -12.086520\n",
       "198          really great -11.925807\n",
       "135            mysterious -11.394530\n",
       "64                 fairly -11.249072\n",
       "134                 mixed -11.192715\n",
       "66               familiar -11.171064\n",
       "245                  true -11.152289\n",
       "137              negative -11.134768\n",
       "..                    ...        ...\n",
       "222              stunning   3.710657\n",
       "71                  final   3.884854\n",
       "140                nicely   3.926730\n",
       "87                  great   3.936907\n",
       "125              long not   3.946495\n",
       "263            whatsoever   4.136764\n",
       "176             perfectly   4.175732\n",
       "54            effectively   4.305721\n",
       "93                hearted   4.316467\n",
       "145        not completely   4.318753\n",
       "56               engaging   4.399165\n",
       "264               willing   4.526858\n",
       "173          particularly   4.827331\n",
       "118                  lame   4.850325\n",
       "22                  bland   4.905263\n",
       "177              personal   5.026188\n",
       "73                   flat   5.514457\n",
       "59             especially   6.048361\n",
       "112           just little   6.135012\n",
       "18              beautiful   6.351823\n",
       "44              different   6.353665\n",
       "60             eventually   7.869115\n",
       "236              terribly   8.095040\n",
       "158         not seriously   8.438836\n",
       "114            just plain   8.442578\n",
       "43            desperately   8.564774\n",
       "256           unnecessary   8.713492\n",
       "23                 bloody   8.883093\n",
       "35                 course  18.931851\n",
       "37                curious  20.448998\n",
       "\n",
       "[271 rows x 2 columns]"
      ]
     },
     "execution_count": 408,
     "metadata": {},
     "output_type": "execute_result"
    }
   ],
   "source": [
    "words = variables.feature\n",
    "feature_coefs = pd.DataFrame(\n",
    "    data = list(zip(words, lr.coef_[0])),\n",
    "    columns = ['feature', 'coef'])\n",
    "print ('Highest coefficients (for the positive class):')\n",
    "feature_coefs.sort_values(by='coef') # result is not very good"
   ]
  },
  {
   "cell_type": "code",
   "execution_count": null,
   "metadata": {},
   "outputs": [],
   "source": [
    "# I tried to tune the parameters several time, however, it doesn't give me a better result. \n",
    "# so I will just stick with the default parameters.\n",
    "# the below code are showing the preocess of tunning parameters."
   ]
  },
  {
   "cell_type": "code",
   "execution_count": 364,
   "metadata": {},
   "outputs": [],
   "source": [
    "from sklearn.model_selection import GridSearchCV"
   ]
  },
  {
   "cell_type": "code",
   "execution_count": 370,
   "metadata": {},
   "outputs": [],
   "source": [
    "# select features and then tune the hyperparameters\n",
    "lr = LogisticRegression(random_state=20, max_iter=10000)\n",
    "param_grid = { 'C': [1, 0.5, 5, 10,100], 'multi_class' : ['ovr', 'multinomial'], 'solver':['saga','newton-cg', 'lbfgs']}\n",
    "grid = GridSearchCV(lr, param_grid=param_grid, cv=10, n_jobs=-1)"
   ]
  },
  {
   "cell_type": "code",
   "execution_count": 371,
   "metadata": {},
   "outputs": [
    {
     "name": "stdout",
     "output_type": "stream",
     "text": [
      "CPU times: user 38.5 s, sys: 1.4 s, total: 39.9 s\n",
      "Wall time: 39min 43s\n"
     ]
    },
    {
     "data": {
      "text/plain": [
       "GridSearchCV(cv=10, error_score='raise',\n",
       "       estimator=LogisticRegression(C=1.0, class_weight=None, dual=False, fit_intercept=True,\n",
       "          intercept_scaling=1, max_iter=10000, multi_class='ovr', n_jobs=1,\n",
       "          penalty='l2', random_state=20, solver='liblinear', tol=0.0001,\n",
       "          verbose=0, warm_start=False),\n",
       "       fit_params=None, iid=True, n_jobs=-1,\n",
       "       param_grid={'C': [1, 0.5, 5, 10, 100], 'multi_class': ['ovr', 'multinomial'], 'solver': ['saga', 'newton-cg', 'lbfgs']},\n",
       "       pre_dispatch='2*n_jobs', refit=True, return_train_score='warn',\n",
       "       scoring=None, verbose=0)"
      ]
     },
     "execution_count": 371,
     "metadata": {},
     "output_type": "execute_result"
    }
   ],
   "source": [
    "%%time\n",
    "grid.fit(review_tfidf, y)"
   ]
  },
  {
   "cell_type": "code",
   "execution_count": 372,
   "metadata": {},
   "outputs": [
    {
     "data": {
      "text/plain": [
       "{'C': 0.5, 'multi_class': 'ovr', 'solver': 'saga'}"
      ]
     },
     "execution_count": 372,
     "metadata": {},
     "output_type": "execute_result"
    }
   ],
   "source": [
    "grid.best_params_"
   ]
  },
  {
   "cell_type": "code",
   "execution_count": null,
   "metadata": {},
   "outputs": [],
   "source": [
    "# we are going to mainly focus on the recall,\n",
    "# recall = TP/TP+FN\n",
    "# recall reference: http://blog.exsilio.com/all/accuracy-precision-recall-f1-score-interpretation-of-performance-measures/"
   ]
  },
  {
   "cell_type": "markdown",
   "metadata": {},
   "source": [
    "# 5. Analysis\n",
    "- The best accuracy of the model is given by the logistic regression model dealing with **3 classes** (accuracy: 62.94%)\n",
    "- The model gets more positive class right than other two classes ( i.e. negative, neutral), because there are more data from positive class than other two.\n",
    "- The baseline of the accuracy (meaning all results is blindly classified as one group) is 39%, the model best model reaches a fairly reasonable accuracy (or recall , we consider more about the recall for this case.)"
   ]
  },
  {
   "cell_type": "code",
   "execution_count": null,
   "metadata": {},
   "outputs": [],
   "source": []
  }
 ],
 "metadata": {
  "kernelspec": {
   "display_name": "Python 3",
   "language": "python",
   "name": "python3"
  },
  "language_info": {
   "codemirror_mode": {
    "name": "ipython",
    "version": 3
   },
   "file_extension": ".py",
   "mimetype": "text/x-python",
   "name": "python",
   "nbconvert_exporter": "python",
   "pygments_lexer": "ipython3",
   "version": "3.6.5"
  }
 },
 "nbformat": 4,
 "nbformat_minor": 2
}
