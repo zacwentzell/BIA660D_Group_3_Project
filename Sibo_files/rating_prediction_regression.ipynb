{
 "cells": [
  {
   "cell_type": "markdown",
   "metadata": {},
   "source": [
    "### Table of contents:"
   ]
  },
  {
   "cell_type": "markdown",
   "metadata": {},
   "source": [
    "1. The correlation matrix of the features. \n",
    "2. The relationship between the features and the rate.\n",
    "3. Some examples of the sarcasm detection, but not going into detail of the method.\n",
    "4. Regression methods to predict the rate of the review.\n",
    "5. Other more advanced regression models to improve the result.\n",
    "6. Using the RMSE to evaluate the models and giving the best weight of variables."
   ]
  },
  {
   "cell_type": "code",
   "execution_count": 2,
   "metadata": {},
   "outputs": [],
   "source": [
    "import pandas as pd\n",
    "import sklearn\n",
    "from sklearn.model_selection import train_test_split\n",
    "import seaborn as sns\n",
    "import numpy as np\n",
    "from sklearn import linear_model\n",
    "import statsmodels.api as sm\n",
    "import matplotlib.pyplot as plt"
   ]
  },
  {
   "cell_type": "code",
   "execution_count": 3,
   "metadata": {},
   "outputs": [],
   "source": [
    "# read data\n",
    "with open ('review_sentiment_score_updated.csv', 'r') as review:\n",
    "    df = pd.read_csv(review, index_col='index')\n",
    "    df = df.drop(['Unnamed: 0'], axis=1)"
   ]
  },
  {
   "cell_type": "code",
   "execution_count": 4,
   "metadata": {},
   "outputs": [
    {
     "data": {
      "text/plain": [
       "<bound method NDFrame.describe of                  movie                                               body  \\\n",
       "index                                                                       \n",
       "0             10 Years  Before I watched this movie, I read some revie...   \n",
       "1             10 Years  In his directorial debut \"Ten Year\", Jamie Lin...   \n",
       "2             10 Years  '10 Years' is all about reunion of high school...   \n",
       "3             10 Years  ¨Now the party can start!¨The film is about a ...   \n",
       "4             10 Years  Definitely worth seeing. I thoroughly enjoyed ...   \n",
       "5             10 Years  What you can expect from 10 Years is a predict...   \n",
       "6             10 Years  High school reunions can be equal parts helpfu...   \n",
       "7             10 Years  This movie was fun but parts where very predic...   \n",
       "8             10 Years  In \"Grosse Point Blank,\" John Cusack, a hit-ma...   \n",
       "9             10 Years  I'll make this short. It was boring. Though it...   \n",
       "10            10 Years  This film is about a group of high school clas...   \n",
       "11            10 Years  I recently saw ten year at a prescreening even...   \n",
       "12            10 Years  Jamie Linden wrote and directed this little fl...   \n",
       "13            10 Years  Director/writer Jamie Linden gives us a big en...   \n",
       "14            10 Years  Did you go to your 10-Year High School reunion...   \n",
       "15            10 Years  Lack of background meets lack of character bui...   \n",
       "16            10 Years  This is a film about a group of classmates goi...   \n",
       "17            10 Years  Dreadful film dealing with still another high ...   \n",
       "18            10 Years  This movie was surprisingly bad. I figured sin...   \n",
       "19            10 Years  This movie seem to be not that known actually,...   \n",
       "20            10 Years  (Credit IMDb) The night before their high scho...   \n",
       "21            10 Years  At first I recognized some famous male cast an...   \n",
       "22            10 Years  There are a number of young actors that I have...   \n",
       "23            10 Years  Let me start with this: It was like a good fee...   \n",
       "24            10 Years  I love class reunions. It's a time to catch up...   \n",
       "25                  13  Georgian writer Géla Babluani found such succe...   \n",
       "26                  13  I really don't understand how movies like this...   \n",
       "27                  13  The plot: Bewildered young man stumbles into a...   \n",
       "28                  13  This film is about an underground \"game\". It a...   \n",
       "29                  13  I don't know what Géla Babluani was thinking. ...   \n",
       "...                ...                                                ...   \n",
       "21338  Contracorriente  I was surfing on net last night about best gay...   \n",
       "21339  Contracorriente  Just finished viewing it from a recording I ma...   \n",
       "21340  Contracorriente  I wouldn't miss reviewing this film because it...   \n",
       "21341  Contracorriente  The life of a small fishing village in Norther...   \n",
       "21342  Contracorriente  I loved this movie, perhaps my favorite Peruvi...   \n",
       "21343        Unearthed  Long Buried creature is dug up at an archaeolo...   \n",
       "21344        Unearthed  This movie was playing at the Union Station ci...   \n",
       "21345        Unearthed  I'm the first to be critical of these types of...   \n",
       "21346        Unearthed  Kind of a bit confused by this one, as the 200...   \n",
       "21347        Unearthed  In 2004, director Matthew Leutwyler's first fe...   \n",
       "21348        Unearthed  I thought this movie would be the best film of...   \n",
       "21349        Unearthed  Let me preface this review by saying, while th...   \n",
       "21350        Unearthed  This film is absolute rubbish. I don't know wh...   \n",
       "21351        Unearthed  In the desert area of Hat Creek, cows are foun...   \n",
       "21352        Unearthed  If I was a junior high A/V Teacher, and my stu...   \n",
       "21353        Unearthed  I usually don't post reviews but since there w...   \n",
       "21354        Unearthed  I completely underestimated this movie; I thou...   \n",
       "21355        Unearthed  Why? why would someone make this film? why wou...   \n",
       "21356        Unearthed  A remote town in the American Southwest faces ...   \n",
       "21357        Unearthed  I went into this film despite the bad press it...   \n",
       "21358        Unearthed  Alien monster terrorize people in an isolated ...   \n",
       "21359        Unearthed  An alien creature, dormant under a type of sus...   \n",
       "21360        Unearthed  In this film Emmanuelle Vaugier does her best ...   \n",
       "21361        Unearthed  Officially in the top 3 worst movies I've ever...   \n",
       "21362        Unearthed  ~Spoiler~ And some films should too. Unearthed...   \n",
       "21363        Unearthed  I really liked the fact that the filmmakers op...   \n",
       "21364        Unearthed  Do not bother seeing this movie. It is too dar...   \n",
       "21365        Unearthed  Unearthed has two strikes against it. The mons...   \n",
       "21366        Unearthed  1. Some people can't watch \"shaky camera\" scen...   \n",
       "21367        Unearthed  It is my own fault for buying the movie! I sho...   \n",
       "\n",
       "       rate  vader_pos  vader_neg  senticnet_pos  senticnet_neg  pattern_pos  \\\n",
       "index                                                                          \n",
       "0        10   0.237875  -0.079000       0.575030      -0.532500     0.355022   \n",
       "1         7   0.223286  -0.051250       0.452878      -0.453750     0.203770   \n",
       "2         7   0.295000  -0.100000       0.502971      -0.630000     0.302272   \n",
       "3         7   0.226742  -0.043609       0.548691      -0.677368     0.316566   \n",
       "4         9   0.388500  -0.013500       0.416000      -0.560000     0.260781   \n",
       "5         6   0.228750  -0.012333       0.421511      -0.838889     0.123810   \n",
       "6         7   0.179714  -0.090364       0.493229      -0.683103     0.204139   \n",
       "7         6   0.151750  -0.058286       0.580440      -0.818750     0.109494   \n",
       "8         5   0.105571  -0.103875       0.346324      -0.842667     0.162778   \n",
       "9         3   0.168714  -0.135429       0.520625      -0.651818     0.245908   \n",
       "10        3   0.126800  -0.135800       0.486059      -0.636667     0.356667   \n",
       "11        8   0.299000   0.000000       0.664125      -0.692857     0.461417   \n",
       "12        4   0.097167  -0.086333       0.459571      -0.602273     0.145649   \n",
       "13        7   0.134167  -0.099167       0.509250      -0.715455     0.157583   \n",
       "14        1   0.285000   0.000000       0.594643      -0.460000     0.187986   \n",
       "15        5   0.222500  -0.035600       0.611931      -0.564000     0.286111   \n",
       "16        9   0.244857  -0.105167       0.495000      -0.532000     0.246138   \n",
       "17        1   0.121500  -0.118600       0.433767      -0.691000     0.120000   \n",
       "18        2   0.190500  -0.211875       0.563393      -0.677273     0.250347   \n",
       "19        7   0.263500  -0.028714       0.682667      -0.755000     0.292828   \n",
       "20        6   0.236833  -0.038875       0.527053      -0.813333     0.331280   \n",
       "21        7   0.154091  -0.115222       0.472036      -0.761667     0.322396   \n",
       "22        1   0.129786  -0.095000       0.600846      -0.697500     0.149339   \n",
       "23        6   0.204444  -0.100286       0.472391      -0.726250     0.288741   \n",
       "24        8   0.214368  -0.052833       0.435593      -0.670000     0.194976   \n",
       "25        8   0.112714  -0.127812       0.429714      -0.661739     0.059683   \n",
       "26        5   0.164143  -0.191250       0.443889      -0.668333     0.100000   \n",
       "27        6   0.274214  -0.116182       0.507354      -0.605000     0.283617   \n",
       "28        3   0.178600  -0.118600       0.523529      -0.566364     0.137500   \n",
       "29        1   0.192154  -0.125091       0.400824      -0.646500     0.341468   \n",
       "...     ...        ...        ...            ...            ...          ...   \n",
       "21338    10   0.207857  -0.087250       0.438853      -0.498182     0.247777   \n",
       "21339    10   0.293833  -0.178000       0.558833      -0.624286     0.297684   \n",
       "21340    10   0.309214  -0.094000       0.485114      -0.817143     0.516880   \n",
       "21341     8   0.210696  -0.096955       0.493172      -0.584545     0.292995   \n",
       "21342    10   0.255000  -0.046333       0.590962      -0.721667     0.314688   \n",
       "21343     4   0.207000  -0.114800       0.392048      -0.478889     0.492857   \n",
       "21344     1   0.101100  -0.167111       0.436448      -0.571053     0.149590   \n",
       "21345     5   0.088000  -0.141056       0.417766      -0.570732     0.185823   \n",
       "21346     5   0.111750  -0.210417       0.474316      -0.733333     0.169473   \n",
       "21347     4   0.105462  -0.207071       0.509789      -0.638065     0.142726   \n",
       "21348     3   0.114571  -0.075267       0.509875      -0.478421     0.217540   \n",
       "21349     2   0.174167  -0.095154       0.437357      -0.639677     0.307941   \n",
       "21350     1   0.191500  -0.184583       0.476963      -0.661538     0.141667   \n",
       "21351     3   0.018000  -0.132625       0.373450      -0.560588     0.000000   \n",
       "21352     1   0.243500  -0.095000       0.313700      -0.784000     0.151667   \n",
       "21353     5   0.169667  -0.059200       0.422609      -0.543333     0.173558   \n",
       "21354     8   0.219577  -0.104053       0.545365      -0.614062     0.340787   \n",
       "21355     3   0.065286  -0.066500       0.311118      -0.585714     0.055500   \n",
       "21356     5   0.144765  -0.199474       0.449923      -0.674194     0.141540   \n",
       "21357     2   0.246000  -0.100250       0.396762      -0.592500     0.175000   \n",
       "21358     2   0.183300  -0.181500       0.476240      -0.561429     0.167824   \n",
       "21359     5   0.110300  -0.144545       0.367434      -0.520000     0.260417   \n",
       "21360     6   0.202222  -0.190857       0.676536      -0.626154     0.160185   \n",
       "21361     1   0.174000  -0.272857       0.541190      -0.521000     0.170833   \n",
       "21362     1   0.154000  -0.143643       0.461121      -0.634615     0.187083   \n",
       "21363     1   0.163000  -0.107500       0.496351      -0.653333     0.270052   \n",
       "21364     2   0.204167  -0.164833       0.351091      -0.741667     0.216667   \n",
       "21365     7   0.231273  -0.146000       0.438318      -0.683333     0.277071   \n",
       "21366     2   0.117600  -0.269714       0.544455      -0.773000     0.249762   \n",
       "21367     1   0.099500  -0.067571       0.476154      -0.721250     0.263889   \n",
       "\n",
       "       pattern_neg  \n",
       "index               \n",
       "0        -0.500000  \n",
       "1        -0.116250  \n",
       "2        -0.093333  \n",
       "3        -0.115972  \n",
       "4         0.000000  \n",
       "5        -0.090417  \n",
       "6        -0.114635  \n",
       "7         0.000000  \n",
       "8        -0.111979  \n",
       "9        -0.541667  \n",
       "10       -0.285417  \n",
       "11       -0.050000  \n",
       "12       -0.078542  \n",
       "13       -0.123264  \n",
       "14       -0.700000  \n",
       "15       -0.319792  \n",
       "16        0.000000  \n",
       "17       -0.125833  \n",
       "18       -0.666667  \n",
       "19        0.000000  \n",
       "20        0.000000  \n",
       "21       -0.077500  \n",
       "22       -0.200794  \n",
       "23       -0.333333  \n",
       "24       -0.345833  \n",
       "25       -0.276019  \n",
       "26       -0.190741  \n",
       "27       -0.313773  \n",
       "28       -0.250372  \n",
       "29       -0.425000  \n",
       "...            ...  \n",
       "21338     0.000000  \n",
       "21339     0.000000  \n",
       "21340     0.000000  \n",
       "21341    -0.187500  \n",
       "21342     0.000000  \n",
       "21343    -0.084722  \n",
       "21344    -0.212500  \n",
       "21345    -0.151396  \n",
       "21346    -0.242100  \n",
       "21347    -0.223553  \n",
       "21348    -0.288194  \n",
       "21349    -0.157639  \n",
       "21350    -0.337500  \n",
       "21351    -0.173333  \n",
       "21352    -0.233333  \n",
       "21353    -0.087381  \n",
       "21354    -0.200417  \n",
       "21355    -0.187500  \n",
       "21356    -0.142249  \n",
       "21357    -0.183958  \n",
       "21358    -0.082500  \n",
       "21359    -0.073552  \n",
       "21360    -0.225000  \n",
       "21361    -0.650000  \n",
       "21362    -0.230208  \n",
       "21363    -0.315625  \n",
       "21364    -0.164583  \n",
       "21365    -0.355000  \n",
       "21366    -0.488095  \n",
       "21367    -0.087778  \n",
       "\n",
       "[21368 rows x 9 columns]>"
      ]
     },
     "execution_count": 4,
     "metadata": {},
     "output_type": "execute_result"
    }
   ],
   "source": [
    "df.describe"
   ]
  },
  {
   "cell_type": "code",
   "execution_count": 5,
   "metadata": {},
   "outputs": [],
   "source": [
    "for i in range(len(df)):\n",
    "    df.loc[i,'avg_pos'] = df.loc[i,['vader_pos', 'senticnet_pos', 'pattern_pos']].mean()\n",
    "    df.loc[i,'avg_neg'] = df.loc[i,['vader_neg', 'senticnet_neg', 'pattern_neg']].mean()\n",
    "    df.loc[i,'avg_sentiment'] = df.iloc[i,3:9].mean()"
   ]
  },
  {
   "cell_type": "code",
   "execution_count": 6,
   "metadata": {},
   "outputs": [],
   "source": [
    "np.random.seed(23)"
   ]
  },
  {
   "cell_type": "code",
   "execution_count": 7,
   "metadata": {},
   "outputs": [],
   "source": [
    "# remove some outliers that using many negative words but the rate is very positive\n",
    "# those points would have serious influence on the prediction model.\n",
    "for i in range(len(df.index)):\n",
    "    pos = df.loc[i,'avg_pos']\n",
    "    sentiment = df.loc[i,'avg_sentiment']\n",
    "    rate = df.loc[i,'rate']\n",
    "    if sentiment < 0 and rate >5:\n",
    "        df.loc[i, 'classes'] = 'noneed'\n",
    "    elif pos < 0.25 and rate >5:\n",
    "        df.loc[i, 'classes'] = 'noneed'\n",
    "    elif sentiment > 0 and rate <5:\n",
    "        df.loc[i, 'classes'] = 'noneed'\n",
    "    elif sentiment > 0.1 and rate ==1:\n",
    "        df.loc[i, 'classes'] = 'noneed'\n",
    "    elif rate == 1 and np.random.binomial(2, 0.3):\n",
    "        df.loc[i, 'classes'] = 'noneed'\n",
    "    else:\n",
    "        df.loc[i, 'classes'] = 'keep'\n",
    "\n",
    "df_no_outlier = df[df.classes == 'keep']"
   ]
  },
  {
   "cell_type": "code",
   "execution_count": 8,
   "metadata": {},
   "outputs": [],
   "source": [
    "import matplotlib.pyplot as plt"
   ]
  },
  {
   "cell_type": "code",
   "execution_count": 9,
   "metadata": {},
   "outputs": [
    {
     "data": {
      "text/plain": [
       "(array([1422., 1054., 1106.,  945., 1427.,  772., 1377., 1767., 1356.,\n",
       "        1913.]),\n",
       " array([ 1. ,  1.9,  2.8,  3.7,  4.6,  5.5,  6.4,  7.3,  8.2,  9.1, 10. ]),\n",
       " <a list of 10 Patch objects>)"
      ]
     },
     "execution_count": 9,
     "metadata": {},
     "output_type": "execute_result"
    },
    {
     "data": {
      "image/png": "[encoded data removed]",
      "text/plain": [
       "<Figure size 432x288 with 1 Axes>"
      ]
     },
     "metadata": {},
     "output_type": "display_data"
    }
   ],
   "source": [
    "plt.hist(df_no_outlier.rate)\n",
    "# the histagram of the distribution of the rate"
   ]
  },
  {
   "cell_type": "code",
   "execution_count": 10,
   "metadata": {},
   "outputs": [
    {
     "data": {
      "text/plain": [
       "<bound method NDFrame.describe of                  movie                                               body  \\\n",
       "index                                                                       \n",
       "0             10 Years  Before I watched this movie, I read some revie...   \n",
       "1             10 Years  In his directorial debut \"Ten Year\", Jamie Lin...   \n",
       "2             10 Years  '10 Years' is all about reunion of high school...   \n",
       "3             10 Years  ¨Now the party can start!¨The film is about a ...   \n",
       "4             10 Years  Definitely worth seeing. I thoroughly enjoyed ...   \n",
       "8             10 Years  In \"Grosse Point Blank,\" John Cusack, a hit-ma...   \n",
       "9             10 Years  I'll make this short. It was boring. Though it...   \n",
       "10            10 Years  This film is about a group of high school clas...   \n",
       "11            10 Years  I recently saw ten year at a prescreening even...   \n",
       "12            10 Years  Jamie Linden wrote and directed this little fl...   \n",
       "15            10 Years  Lack of background meets lack of character bui...   \n",
       "16            10 Years  This is a film about a group of classmates goi...   \n",
       "18            10 Years  This movie was surprisingly bad. I figured sin...   \n",
       "19            10 Years  This movie seem to be not that known actually,...   \n",
       "20            10 Years  (Credit IMDb) The night before their high scho...   \n",
       "26                  13  I really don't understand how movies like this...   \n",
       "27                  13  The plot: Bewildered young man stumbles into a...   \n",
       "28                  13  This film is about an underground \"game\". It a...   \n",
       "29                  13  I don't know what Géla Babluani was thinking. ...   \n",
       "30                  13  13 is the story of a naive young man assumes a...   \n",
       "31                  13  \"All players, eyes on the bulb, when it lights...   \n",
       "32                  13  The first review on this film by Dr Yvon is in...   \n",
       "33                  13  This film had so much potential, how did the d...   \n",
       "35                  13  I've just returned from the premiere screening...   \n",
       "37                  13  Certainly this one really needed to be remade....   \n",
       "38                  13  Not that I expected a lot, but the film itself...   \n",
       "42                  13  hello, First of i saw the cast and thought mmm...   \n",
       "44                  13  Sadly another foreign classic has been taken o...   \n",
       "45                  13  After watching the original, it was the first ...   \n",
       "50           16 Wishes  Funnily enough i enjoyed this movie quite a lo...   \n",
       "...                ...                                                ...   \n",
       "21326  Contracorriente  This movie gathers impetus as it goes along, s...   \n",
       "21328  Contracorriente  This movie was simply awesome! I ended up seei...   \n",
       "21329  Contracorriente  I saw this movie in a small festival in Bologn...   \n",
       "21331  Contracorriente  I love to watch this film over and over, in fa...   \n",
       "21332  Contracorriente  Beautifully wrought story of a man coming to g...   \n",
       "21333  Contracorriente  I seldom watch non English language films as I...   \n",
       "21334  Contracorriente  This my first time ever writing a review on a ...   \n",
       "21335  Contracorriente  Now and then a small quiet film surfaces witho...   \n",
       "21337  Contracorriente  \" Undertow\", gut-wrenching and quietly powerfu...   \n",
       "21338  Contracorriente  I was surfing on net last night about best gay...   \n",
       "21339  Contracorriente  Just finished viewing it from a recording I ma...   \n",
       "21340  Contracorriente  I wouldn't miss reviewing this film because it...   \n",
       "21341  Contracorriente  The life of a small fishing village in Norther...   \n",
       "21342  Contracorriente  I loved this movie, perhaps my favorite Peruvi...   \n",
       "21344        Unearthed  This movie was playing at the Union Station ci...   \n",
       "21345        Unearthed  I'm the first to be critical of these types of...   \n",
       "21346        Unearthed  Kind of a bit confused by this one, as the 200...   \n",
       "21347        Unearthed  In 2004, director Matthew Leutwyler's first fe...   \n",
       "21350        Unearthed  This film is absolute rubbish. I don't know wh...   \n",
       "21351        Unearthed  In the desert area of Hat Creek, cows are foun...   \n",
       "21353        Unearthed  I usually don't post reviews but since there w...   \n",
       "21354        Unearthed  I completely underestimated this movie; I thou...   \n",
       "21355        Unearthed  Why? why would someone make this film? why wou...   \n",
       "21356        Unearthed  A remote town in the American Southwest faces ...   \n",
       "21357        Unearthed  I went into this film despite the bad press it...   \n",
       "21359        Unearthed  An alien creature, dormant under a type of sus...   \n",
       "21361        Unearthed  Officially in the top 3 worst movies I've ever...   \n",
       "21364        Unearthed  Do not bother seeing this movie. It is too dar...   \n",
       "21366        Unearthed  1. Some people can't watch \"shaky camera\" scen...   \n",
       "21367        Unearthed  It is my own fault for buying the movie! I sho...   \n",
       "\n",
       "       rate  vader_pos  vader_neg  senticnet_pos  senticnet_neg  pattern_pos  \\\n",
       "index                                                                          \n",
       "0        10   0.237875  -0.079000       0.575030      -0.532500     0.355022   \n",
       "1         7   0.223286  -0.051250       0.452878      -0.453750     0.203770   \n",
       "2         7   0.295000  -0.100000       0.502971      -0.630000     0.302272   \n",
       "3         7   0.226742  -0.043609       0.548691      -0.677368     0.316566   \n",
       "4         9   0.388500  -0.013500       0.416000      -0.560000     0.260781   \n",
       "8         5   0.105571  -0.103875       0.346324      -0.842667     0.162778   \n",
       "9         3   0.168714  -0.135429       0.520625      -0.651818     0.245908   \n",
       "10        3   0.126800  -0.135800       0.486059      -0.636667     0.356667   \n",
       "11        8   0.299000   0.000000       0.664125      -0.692857     0.461417   \n",
       "12        4   0.097167  -0.086333       0.459571      -0.602273     0.145649   \n",
       "15        5   0.222500  -0.035600       0.611931      -0.564000     0.286111   \n",
       "16        9   0.244857  -0.105167       0.495000      -0.532000     0.246138   \n",
       "18        2   0.190500  -0.211875       0.563393      -0.677273     0.250347   \n",
       "19        7   0.263500  -0.028714       0.682667      -0.755000     0.292828   \n",
       "20        6   0.236833  -0.038875       0.527053      -0.813333     0.331280   \n",
       "26        5   0.164143  -0.191250       0.443889      -0.668333     0.100000   \n",
       "27        6   0.274214  -0.116182       0.507354      -0.605000     0.283617   \n",
       "28        3   0.178600  -0.118600       0.523529      -0.566364     0.137500   \n",
       "29        1   0.192154  -0.125091       0.400824      -0.646500     0.341468   \n",
       "30        5   0.097250  -0.145000       0.490000      -0.613333     0.205000   \n",
       "31        5   0.134250  -0.184667       0.613595      -0.652353     0.168021   \n",
       "32        8   0.253429  -0.011000       0.442437      -0.775000     0.373437   \n",
       "33        2   0.186667  -0.203500       0.455222      -0.606364     0.278467   \n",
       "35        8   0.246091  -0.018714       0.391111      -0.615000     0.340845   \n",
       "37        2   0.090000  -0.296333       0.536053      -0.550909     0.241429   \n",
       "38        3   0.126125  -0.215900       0.548286      -0.732857     0.383796   \n",
       "42        1   0.083571  -0.251500       0.641920      -0.754444     0.215000   \n",
       "44        3   0.144000  -0.129750       0.485526      -0.513902     0.177077   \n",
       "45        8   0.217231  -0.062700       0.350278      -0.723125     0.355995   \n",
       "50        9   0.361857  -0.032182       0.551100      -0.795714     0.350926   \n",
       "...     ...        ...        ...            ...            ...          ...   \n",
       "21326     9   0.269800  -0.062333       0.571667      -0.491429     0.314167   \n",
       "21328    10   0.331615  -0.025625       0.498000      -0.457500     0.324606   \n",
       "21329    10   0.257714  -0.171600       0.531690      -0.539000     0.257556   \n",
       "21331    10   0.261636  -0.067875       0.728038      -0.600000     0.410417   \n",
       "21332    10   0.336000  -0.056500       0.505586      -0.530000     0.464833   \n",
       "21333     9   0.212667  -0.031400       0.405250      -0.702000     0.245000   \n",
       "21334    10   0.278625  -0.023333       0.545545      -0.213333     0.238839   \n",
       "21335    10   0.217818  -0.098789       0.508183      -0.545312     0.314762   \n",
       "21337     9   0.203400  -0.078625       0.348793      -0.400000     0.211914   \n",
       "21338    10   0.207857  -0.087250       0.438853      -0.498182     0.247777   \n",
       "21339    10   0.293833  -0.178000       0.558833      -0.624286     0.297684   \n",
       "21340    10   0.309214  -0.094000       0.485114      -0.817143     0.516880   \n",
       "21341     8   0.210696  -0.096955       0.493172      -0.584545     0.292995   \n",
       "21342    10   0.255000  -0.046333       0.590962      -0.721667     0.314688   \n",
       "21344     1   0.101100  -0.167111       0.436448      -0.571053     0.149590   \n",
       "21345     5   0.088000  -0.141056       0.417766      -0.570732     0.185823   \n",
       "21346     5   0.111750  -0.210417       0.474316      -0.733333     0.169473   \n",
       "21347     4   0.105462  -0.207071       0.509789      -0.638065     0.142726   \n",
       "21350     1   0.191500  -0.184583       0.476963      -0.661538     0.141667   \n",
       "21351     3   0.018000  -0.132625       0.373450      -0.560588     0.000000   \n",
       "21353     5   0.169667  -0.059200       0.422609      -0.543333     0.173558   \n",
       "21354     8   0.219577  -0.104053       0.545365      -0.614062     0.340787   \n",
       "21355     3   0.065286  -0.066500       0.311118      -0.585714     0.055500   \n",
       "21356     5   0.144765  -0.199474       0.449923      -0.674194     0.141540   \n",
       "21357     2   0.246000  -0.100250       0.396762      -0.592500     0.175000   \n",
       "21359     5   0.110300  -0.144545       0.367434      -0.520000     0.260417   \n",
       "21361     1   0.174000  -0.272857       0.541190      -0.521000     0.170833   \n",
       "21364     2   0.204167  -0.164833       0.351091      -0.741667     0.216667   \n",
       "21366     2   0.117600  -0.269714       0.544455      -0.773000     0.249762   \n",
       "21367     1   0.099500  -0.067571       0.476154      -0.721250     0.263889   \n",
       "\n",
       "       pattern_neg   avg_pos   avg_neg  avg_sentiment classes  \n",
       "index                                                          \n",
       "0        -0.500000  0.389309 -0.370500       0.009404    keep  \n",
       "1        -0.116250  0.293311 -0.207083       0.043114    keep  \n",
       "2        -0.093333  0.366747 -0.274444       0.046152    keep  \n",
       "3        -0.115972  0.364000 -0.278983       0.042508    keep  \n",
       "4         0.000000  0.355094 -0.191167       0.081964    keep  \n",
       "8        -0.111979  0.204891 -0.352840      -0.073975    keep  \n",
       "9        -0.541667  0.311749 -0.442971      -0.065611    keep  \n",
       "10       -0.285417  0.323175 -0.352628      -0.014726    keep  \n",
       "11       -0.050000  0.474847 -0.247619       0.113614    keep  \n",
       "12       -0.078542  0.234129 -0.255716      -0.010793    keep  \n",
       "15       -0.319792  0.373514 -0.306464       0.033525    keep  \n",
       "16        0.000000  0.328665 -0.212389       0.058138    keep  \n",
       "18       -0.666667  0.334747 -0.518605      -0.091929    keep  \n",
       "19        0.000000  0.412998 -0.261238       0.075880    keep  \n",
       "20        0.000000  0.365055 -0.284069       0.040493    keep  \n",
       "26       -0.190741  0.236011 -0.350108      -0.057049    keep  \n",
       "27       -0.313773  0.355062 -0.344985       0.005038    keep  \n",
       "28       -0.250372  0.279876 -0.311779      -0.015951    keep  \n",
       "29       -0.425000  0.311482 -0.398864      -0.043691    keep  \n",
       "30       -0.175000  0.264083 -0.311111      -0.023514    keep  \n",
       "31       -0.135214  0.305288 -0.324078      -0.009395    keep  \n",
       "32       -0.012500  0.356435 -0.266167       0.045134    keep  \n",
       "33       -0.401587  0.306785 -0.403817      -0.048516    keep  \n",
       "35       -0.087500  0.326016 -0.240405       0.042805    keep  \n",
       "37       -0.303750  0.289160 -0.383664      -0.047252    keep  \n",
       "38       -0.260556  0.352736 -0.403104      -0.025184    keep  \n",
       "42       -0.310833  0.313497 -0.438926      -0.062714    keep  \n",
       "44       -0.208493  0.268867 -0.284049      -0.007591    keep  \n",
       "45       -0.107143  0.307834 -0.297656       0.005089    keep  \n",
       "50       -0.333333  0.421294 -0.387076       0.017109    keep  \n",
       "...            ...       ...       ...            ...     ...  \n",
       "21326     0.000000  0.385211 -0.184587       0.100312    keep  \n",
       "21328    -0.255000  0.384740 -0.246042       0.069349    keep  \n",
       "21329    -0.112292  0.348986 -0.274297       0.037345    keep  \n",
       "21331    -0.175000  0.466697 -0.280958       0.092869    keep  \n",
       "21332    -0.026389  0.435473 -0.204296       0.115588    keep  \n",
       "21333     0.000000  0.287639 -0.244467       0.021586    keep  \n",
       "21334    -0.500000  0.354337 -0.245556       0.054391    keep  \n",
       "21335    -0.254167  0.346921 -0.299423       0.023749    keep  \n",
       "21337    -0.204861  0.254702 -0.227829       0.013437    keep  \n",
       "21338     0.000000  0.298162 -0.195144       0.051509    keep  \n",
       "21339     0.000000  0.383450 -0.267429       0.058011    keep  \n",
       "21340     0.000000  0.437070 -0.303714       0.066678    keep  \n",
       "21341    -0.187500  0.332288 -0.289667       0.021310    keep  \n",
       "21342     0.000000  0.386883 -0.256000       0.065442    keep  \n",
       "21344    -0.212500  0.229046 -0.316888      -0.043921    keep  \n",
       "21345    -0.151396  0.230529 -0.287728      -0.028599    keep  \n",
       "21346    -0.242100  0.251846 -0.395283      -0.071719    keep  \n",
       "21347    -0.223553  0.252659 -0.356230      -0.051785    keep  \n",
       "21350    -0.337500  0.270043 -0.394541      -0.062249    keep  \n",
       "21351    -0.173333  0.130483 -0.288849      -0.079183    keep  \n",
       "21353    -0.087381  0.255278 -0.229971       0.012653    keep  \n",
       "21354    -0.200417  0.368577 -0.306177       0.031200    keep  \n",
       "21355    -0.187500  0.143968 -0.279905      -0.067968    keep  \n",
       "21356    -0.142249  0.245409 -0.338639      -0.046615    keep  \n",
       "21357    -0.183958  0.272587 -0.292236      -0.009824    keep  \n",
       "21359    -0.073552  0.246050 -0.246032       0.000009    keep  \n",
       "21361    -0.650000  0.295341 -0.481286      -0.092972    keep  \n",
       "21364    -0.164583  0.257308 -0.357028      -0.049860    keep  \n",
       "21366    -0.488095  0.303939 -0.510270      -0.103166    keep  \n",
       "21367    -0.087778  0.279848 -0.292200      -0.006176    keep  \n",
       "\n",
       "[13139 rows x 13 columns]>"
      ]
     },
     "execution_count": 10,
     "metadata": {},
     "output_type": "execute_result"
    }
   ],
   "source": [
    "df_no_outlier.describe"
   ]
  },
  {
   "cell_type": "markdown",
   "metadata": {},
   "source": [
    "### 1. The correlation matrix of the features."
   ]
  },
  {
   "cell_type": "code",
   "execution_count": 11,
   "metadata": {},
   "outputs": [
    {
     "data": {
      "text/plain": [
       "<matplotlib.axes._subplots.AxesSubplot at 0x110d0e128>"
      ]
     },
     "execution_count": 11,
     "metadata": {},
     "output_type": "execute_result"
    },
    {
     "data": {
      "image/png": "[encoded data removed]",
      "text/plain": [
       "<Figure size 792x648 with 2 Axes>"
      ]
     },
     "metadata": {},
     "output_type": "display_data"
    }
   ],
   "source": [
    "# get the correlation matrix\n",
    "sns.set(style=\"white\")\n",
    "\n",
    "d = df_no_outlier[['vader_pos', 'vader_neg','senticnet_pos', 'senticnet_neg', 'pattern_pos', 'pattern_neg']]\n",
    "\n",
    "# Compute the correlation matrix\n",
    "corr = d.corr()\n",
    "\n",
    "# Generate a mask for the upper triangle\n",
    "mask = np.zeros_like(corr, dtype=np.bool)\n",
    "mask[np.triu_indices_from(mask, +1)] = True\n",
    "\n",
    "# Set up the matplotlib figure\n",
    "f, ax = plt.subplots(figsize=(11, 9))\n",
    "\n",
    "# Generate a custom diverging colormap\n",
    "cmap = sns.diverging_palette(220, 10, as_cmap=True)\n",
    "\n",
    "# Draw the heatmap with the mask and correct aspect ratio\n",
    "sns.heatmap(corr,  mask = mask, cmap=cmap, vmax=1, vmin=-1, center=0,\n",
    "            square=True, linewidths=.5, cbar_kws={\"shrink\": .5}, annot=True)"
   ]
  },
  {
   "cell_type": "markdown",
   "metadata": {},
   "source": [
    "### 2. The influence of the features to the rate."
   ]
  },
  {
   "cell_type": "code",
   "execution_count": 12,
   "metadata": {},
   "outputs": [],
   "source": [
    "import seaborn as sns; sns.set(color_codes=True)"
   ]
  },
  {
   "cell_type": "code",
   "execution_count": 13,
   "metadata": {},
   "outputs": [
    {
     "data": {
      "image/png": "[encoded data removed]",
      "text/plain": [
       "<Figure size 432x288 with 1 Axes>"
      ]
     },
     "metadata": {},
     "output_type": "display_data"
    }
   ],
   "source": [
    "# The relationship between the vader sentiment score and the actual rate.\n",
    "ax1 = sns.regplot(x=\"rate\", y=\"vader_pos\", data=df, x_jitter=.001, fit_reg=True)\n",
    "ax1 = sns.regplot(x=\"rate\", y=\"vader_neg\", data=df, x_jitter=.001, fit_reg=True)\n",
    "ax1.set(xlabel='rate', ylabel='vader', title = 'The relationship between the vader sentiment score and the actual rate')\n",
    "plt.show() "
   ]
  },
  {
   "cell_type": "code",
   "execution_count": 14,
   "metadata": {},
   "outputs": [
    {
     "data": {
      "image/png": "[encoded data removed]",
      "text/plain": [
       "<Figure size 432x288 with 1 Axes>"
      ]
     },
     "metadata": {},
     "output_type": "display_data"
    }
   ],
   "source": [
    "# The relationship between the senticnet sentiment score and the actual rate.\n",
    "ax2 = sns.regplot(x=\"rate\", y=\"senticnet_pos\", data=df, x_jitter=.001, fit_reg=True)\n",
    "ax2 = sns.regplot(x=\"rate\", y=\"senticnet_neg\", data=df, x_jitter=.001, fit_reg=True)\n",
    "ax2.set(xlabel='rate', ylabel='senticnet', title = 'The relationship between the senticnet sentiment score and the actual rate')\n",
    "plt.show()"
   ]
  },
  {
   "cell_type": "code",
   "execution_count": 15,
   "metadata": {},
   "outputs": [
    {
     "data": {
      "image/png": "[encoded data removed]",
      "text/plain": [
       "<Figure size 432x288 with 1 Axes>"
      ]
     },
     "metadata": {},
     "output_type": "display_data"
    }
   ],
   "source": [
    "# The relationship between the pattern sentiment score and the actual rate.\n",
    "ax = sns.regplot(x=\"rate\", y=\"pattern_pos\", data=df, x_jitter=.001, fit_reg=True)\n",
    "ax = sns.regplot(x=\"rate\", y=\"pattern_neg\", data=df, x_jitter=.001, fit_reg=True)\n",
    "ax.set(xlabel='rate', ylabel='pattern', title = 'The relationship between the pattern sentiment score and the actual rate' )\n",
    "plt.show()"
   ]
  },
  {
   "cell_type": "code",
   "execution_count": 29,
   "metadata": {},
   "outputs": [
    {
     "data": {
      "image/png": "[encoded data removed]",
      "text/plain": [
       "<Figure size 432x288 with 1 Axes>"
      ]
     },
     "metadata": {},
     "output_type": "display_data"
    }
   ],
   "source": [
    "plt.style.use('seaborn-white')\n",
    "ax = sns.boxplot(x = 'rate', y='pattern_pos', data= df, color = 'Green')\n",
    "ax = sns.boxplot(x = 'rate', y='pattern_neg', data= df, color = 'Blue')"
   ]
  },
  {
   "cell_type": "code",
   "execution_count": 30,
   "metadata": {},
   "outputs": [
    {
     "data": {
      "text/plain": [
       "Index(['movie', 'body', 'rate', 'vader_pos', 'vader_neg', 'senticnet_pos',\n",
       "       'senticnet_neg', 'pattern_pos', 'pattern_neg', 'avg_pos', 'avg_neg',\n",
       "       'avg_sentiment', 'classes'],\n",
       "      dtype='object')"
      ]
     },
     "execution_count": 30,
     "metadata": {},
     "output_type": "execute_result"
    }
   ],
   "source": [
    "df.columns"
   ]
  },
  {
   "cell_type": "code",
   "execution_count": 38,
   "metadata": {},
   "outputs": [
    {
     "data": {
      "image/png": "[encoded data removed]",
      "text/plain": [
       "<Figure size 1080x648 with 6 Axes>"
      ]
     },
     "metadata": {},
     "output_type": "display_data"
    }
   ],
   "source": [
    "# to check how useful the sentiment scores are\n",
    "df_plot = df[['vader_pos', 'vader_neg', 'senticnet_pos', 'senticnet_neg', 'pattern_pos', 'pattern_neg', 'rate']]\n",
    "plt.style.use('seaborn-white')\n",
    "ax = df_plot.boxplot(by=['rate'], figsize=(15,9))"
   ]
  },
  {
   "cell_type": "markdown",
   "metadata": {},
   "source": [
    "### 4. Regression methods to predict the rate of the review."
   ]
  },
  {
   "cell_type": "code",
   "execution_count": 40,
   "metadata": {},
   "outputs": [],
   "source": [
    "training, test = train_test_split(df_no_outlier, test_size=0.2, random_state=233)"
   ]
  },
  {
   "cell_type": "code",
   "execution_count": 41,
   "metadata": {},
   "outputs": [
    {
     "data": {
      "text/plain": [
       "2628"
      ]
     },
     "execution_count": 41,
     "metadata": {},
     "output_type": "execute_result"
    }
   ],
   "source": [
    "len(test)"
   ]
  },
  {
   "cell_type": "code",
   "execution_count": 42,
   "metadata": {},
   "outputs": [],
   "source": [
    "# Initailly, I tried to take all the features into account for the linear regression model."
   ]
  },
  {
   "cell_type": "code",
   "execution_count": 43,
   "metadata": {},
   "outputs": [],
   "source": [
    "# fit the most only one sentiment score in the model.\n",
    "x = training[['vader_pos', 'vader_neg']]\n",
    "y = training.rate"
   ]
  },
  {
   "cell_type": "code",
   "execution_count": 44,
   "metadata": {},
   "outputs": [],
   "source": [
    "# x.to_csv('training_x.csv')\n",
    "# y.to_csv('training_y.csv')"
   ]
  },
  {
   "cell_type": "code",
   "execution_count": 45,
   "metadata": {},
   "outputs": [],
   "source": [
    "# try only one vader sentiment score\n",
    "# then, try other two sentiment score using the similar way\n",
    "x_test = test[['vader_pos', 'vader_neg']]\n",
    "y_test = test.rate"
   ]
  },
  {
   "cell_type": "code",
   "execution_count": 46,
   "metadata": {},
   "outputs": [],
   "source": [
    "# x_test.to_csv('test_x.csv')\n",
    "# y_test.to_csv('test_y.csv')"
   ]
  },
  {
   "cell_type": "code",
   "execution_count": 47,
   "metadata": {},
   "outputs": [],
   "source": [
    "reg = linear_model.LinearRegression(normalize=True)"
   ]
  },
  {
   "cell_type": "code",
   "execution_count": 48,
   "metadata": {},
   "outputs": [
    {
     "name": "stderr",
     "output_type": "stream",
     "text": [
      "/Users/xusibocn/anaconda/envs/project/lib/python3.6/site-packages/scipy/linalg/basic.py:1226: RuntimeWarning: internal gelsd driver lwork query error, required iwork dimension not returned. This is likely the result of LAPACK bug 0038, fixed in LAPACK 3.2.2 (released July 21, 2010). Falling back to 'gelss' driver.\n",
      "  warnings.warn(mesg, RuntimeWarning)\n"
     ]
    },
    {
     "data": {
      "text/plain": [
       "LinearRegression(copy_X=True, fit_intercept=True, n_jobs=1, normalize=True)"
      ]
     },
     "execution_count": 48,
     "metadata": {},
     "output_type": "execute_result"
    }
   ],
   "source": [
    "reg.fit(x,y)"
   ]
  },
  {
   "cell_type": "code",
   "execution_count": 49,
   "metadata": {},
   "outputs": [],
   "source": [
    "pre_y = reg.predict(x_test)"
   ]
  },
  {
   "cell_type": "code",
   "execution_count": 50,
   "metadata": {},
   "outputs": [],
   "source": [
    "from sklearn import metrics"
   ]
  },
  {
   "cell_type": "code",
   "execution_count": 51,
   "metadata": {},
   "outputs": [
    {
     "name": "stdout",
     "output_type": "stream",
     "text": [
      "RMSE of the linear regression model is:\n",
      " 1.8510951038006436\n"
     ]
    }
   ],
   "source": [
    "# the rmse of the model\n",
    "mse = metrics.mean_squared_error(y_test, pre_y)\n",
    "rmse = mse**0.5\n",
    "print ( 'RMSE of the linear regression model is:\\n', rmse)# this is the best linear regression model."
   ]
  },
  {
   "cell_type": "code",
   "execution_count": 52,
   "metadata": {},
   "outputs": [
    {
     "data": {
      "text/plain": [
       "array([ 7.7845598 , 12.01122916,  3.38411571,  2.27949562,  7.52491992,\n",
       "        5.42335239])"
      ]
     },
     "execution_count": 52,
     "metadata": {},
     "output_type": "execute_result"
    }
   ],
   "source": [
    "# we can get the weight of each sentiment score.\n",
    "reg.coef_"
   ]
  },
  {
   "cell_type": "code",
   "execution_count": 53,
   "metadata": {},
   "outputs": [
    {
     "name": "stdout",
     "output_type": "stream",
     "text": [
      "                            OLS Regression Results                            \n",
      "==============================================================================\n",
      "Dep. Variable:                   rate   R-squared:                       0.612\n",
      "Model:                            OLS   Adj. R-squared:                  0.612\n",
      "Method:                 Least Squares   F-statistic:                     2764.\n",
      "Date:                Mon, 07 May 2018   Prob (F-statistic):               0.00\n",
      "Time:                        15:09:44   Log-Likelihood:                -21519.\n",
      "No. Observations:               10511   AIC:                         4.305e+04\n",
      "Df Residuals:                   10504   BIC:                         4.310e+04\n",
      "Df Model:                           6                                         \n",
      "Covariance Type:            nonrobust                                         \n",
      "=================================================================================\n",
      "                    coef    std err          t      P>|t|      [0.025      0.975]\n",
      "---------------------------------------------------------------------------------\n",
      "const             4.5009      0.169     26.606      0.000       4.169       4.833\n",
      "vader_pos         7.7846      0.314     24.789      0.000       7.169       8.400\n",
      "vader_neg        12.0112      0.328     36.598      0.000      11.368      12.655\n",
      "senticnet_pos     3.3841      0.251     13.482      0.000       2.892       3.876\n",
      "senticnet_neg     2.2795      0.160     14.212      0.000       1.965       2.594\n",
      "pattern_pos       7.5249      0.205     36.641      0.000       7.122       7.927\n",
      "pattern_neg       5.4234      0.143     37.939      0.000       5.143       5.704\n",
      "==============================================================================\n",
      "Omnibus:                       93.497   Durbin-Watson:                   2.015\n",
      "Prob(Omnibus):                  0.000   Jarque-Bera (JB):               61.525\n",
      "Skew:                           0.020   Prob(JB):                     4.37e-14\n",
      "Kurtosis:                       2.627   Cond. No.                         27.5\n",
      "==============================================================================\n",
      "\n",
      "Warnings:\n",
      "[1] Standard Errors assume that the covariance matrix of the errors is correctly specified.\n"
     ]
    }
   ],
   "source": [
    "# to see if all the variables are significant to our model,\n",
    "# the R-squared is 0.612, which is a acceptable value. It doesn't tell the good of fit.\n",
    "# We are using RMSE to decide which model is better.\n",
    "X = x\n",
    "y = y\n",
    "\n",
    "X2 = sm.add_constant(X)\n",
    "est = sm.OLS(y, X2)\n",
    "est2 = est.fit()\n",
    "print(est2.summary())"
   ]
  },
  {
   "cell_type": "markdown",
   "metadata": {},
   "source": [
    "### Then, we really want to improve the model, to get a less RMSE.\n",
    "- First way is to use backward stepwise regression."
   ]
  },
  {
   "cell_type": "code",
   "execution_count": 628,
   "metadata": {},
   "outputs": [
    {
     "name": "stdout",
     "output_type": "stream",
     "text": [
      "if removing column  vader_pos  ssres_removed =  39097.41634147927  ssres_orig= 36936.58006557843  F= 614.4971787253893\n",
      "if removing column  vader_neg  ssres_removed =  41646.507269930255  ssres_orig= 36936.58006557843  F= 1339.405956552431\n",
      "if removing column  senticnet_pos  ssres_removed =  37575.71246204575  ssres_orig= 36936.58006557843  F= 181.75604456539799\n",
      "if removing column  senticnet_neg  ssres_removed =  37646.814001416256  ssres_orig= 36936.58006557843  F= 201.97585290233243\n",
      "if removing column  pattern_pos  ssres_removed =  41657.66251042971  ssres_orig= 36936.58006557843  F= 1342.5782764044116\n",
      "if removing column  pattern_neg  ssres_removed =  41997.99695965243  ssres_orig= 36936.58006557843  F= 1439.362360049635\n",
      "STOP: no F-to-remove < 1.07 !!!\n"
     ]
    }
   ],
   "source": [
    "# backwards regression\n",
    "# using F score to decide which variables to be removed, and there is nothing more to be removed.\n",
    "x = training[['vader_pos', 'vader_neg','senticnet_pos', 'senticnet_neg', 'pattern_pos', 'pattern_neg']]\n",
    "y = training.rate\n",
    "n = y.size\n",
    "\n",
    "while True:\n",
    "    nvars = x.shape[1] #total number of features before removing one\n",
    "    q = 1 #1 var to remove\n",
    "    p = nvars - q # remaining variables\n",
    "\n",
    "    # get residual when using all features\n",
    "    x2 = sm.add_constant(x)\n",
    "    boston_model = sm.OLS(y,x2).fit()\n",
    "    ssres0=boston_model.ssr\n",
    "\n",
    "    # now get residule after removing \n",
    "    fvalues = []\n",
    "    for i in range(1, nvars + 1):\n",
    "        col = x2.columns[i]\n",
    "        x2_cut = x2.drop(col, 1)\n",
    "        model_cut = sm.OLS(y,x2_cut).fit()\n",
    "        ssres1=model_cut.ssr\n",
    "        F = (ssres1-ssres0)/q/(ssres0/(n-p-q-1))\n",
    "        print(\"if removing column \", col,\" ssres_removed = \", ssres1,\" ssres_orig=\",ssres0,\" F=\", F)\n",
    "        fvalues.append([col, F])  # stored [column name, F]\n",
    "    sortedF = sorted(fvalues, key=lambda x: x[1])\n",
    "    lowestF = sortedF[0][1]\n",
    "    if lowestF < 1.07:\n",
    "        print(\"removing column\", sortedF[0][0])\n",
    "        x = x.drop(sortedF[0][0], 1)\n",
    "    else:\n",
    "        print(\"STOP: no F-to-remove < 1.07 !!!\")\n",
    "        break"
   ]
  },
  {
   "cell_type": "code",
   "execution_count": 629,
   "metadata": {},
   "outputs": [],
   "source": [
    "# the best fit of the model\n",
    "x = training[['vader_pos', 'vader_neg','senticnet_pos', 'senticnet_neg', 'pattern_pos', 'pattern_neg']]\n",
    "y = training.rate"
   ]
  },
  {
   "cell_type": "code",
   "execution_count": 630,
   "metadata": {},
   "outputs": [],
   "source": [
    "x_test = test[['vader_pos', 'vader_neg','senticnet_pos', 'senticnet_neg', 'pattern_pos', 'pattern_neg']]\n",
    "y_test = test.rate"
   ]
  },
  {
   "cell_type": "code",
   "execution_count": 631,
   "metadata": {},
   "outputs": [
    {
     "name": "stdout",
     "output_type": "stream",
     "text": [
      "                            OLS Regression Results                            \n",
      "==============================================================================\n",
      "Dep. Variable:                   rate   R-squared:                       0.570\n",
      "Model:                            OLS   Adj. R-squared:                  0.570\n",
      "Method:                 Least Squares   F-statistic:                     4642.\n",
      "Date:                Sun, 29 Apr 2018   Prob (F-statistic):               0.00\n",
      "Time:                        17:24:04   Log-Likelihood:                -22064.\n",
      "No. Observations:               10511   AIC:                         4.414e+04\n",
      "Df Residuals:                   10507   BIC:                         4.416e+04\n",
      "Df Model:                           3                                         \n",
      "Covariance Type:            nonrobust                                         \n",
      "===============================================================================\n",
      "                  coef    std err          t      P>|t|      [0.025      0.975]\n",
      "-------------------------------------------------------------------------------\n",
      "const           5.7911      0.074     77.954      0.000       5.646       5.937\n",
      "vader_neg      14.2136      0.334     42.572      0.000      13.559      14.868\n",
      "pattern_pos    10.6867      0.186     57.583      0.000      10.323      11.051\n",
      "pattern_neg     5.5835      0.150     37.284      0.000       5.290       5.877\n",
      "==============================================================================\n",
      "Omnibus:                       34.910   Durbin-Watson:                   2.018\n",
      "Prob(Omnibus):                  0.000   Jarque-Bera (JB):               27.268\n",
      "Skew:                           0.025   Prob(JB):                     1.20e-06\n",
      "Kurtosis:                       2.756   Cond. No.                         19.3\n",
      "==============================================================================\n",
      "\n",
      "Warnings:\n",
      "[1] Standard Errors assume that the covariance matrix of the errors is correctly specified.\n"
     ]
    }
   ],
   "source": [
    "X = x\n",
    "y = y\n",
    "\n",
    "X2 = sm.add_constant(X)\n",
    "est = sm.OLS(y, X2)\n",
    "est2 = est.fit()\n",
    "print(est2.summary())"
   ]
  },
  {
   "cell_type": "code",
   "execution_count": 632,
   "metadata": {},
   "outputs": [
    {
     "data": {
      "text/plain": [
       "LinearRegression(copy_X=True, fit_intercept=True, n_jobs=1, normalize=True)"
      ]
     },
     "execution_count": 632,
     "metadata": {},
     "output_type": "execute_result"
    }
   ],
   "source": [
    "reg.fit(X,y)"
   ]
  },
  {
   "cell_type": "code",
   "execution_count": 633,
   "metadata": {},
   "outputs": [],
   "source": [
    "pre_y = reg.predict(x_test)"
   ]
  },
  {
   "cell_type": "code",
   "execution_count": 634,
   "metadata": {},
   "outputs": [
    {
     "name": "stdout",
     "output_type": "stream",
     "text": [
      "The MRES of the model (after reducing variables:\n",
      " 1.9565965470125726\n"
     ]
    }
   ],
   "source": [
    "mse = metrics.mean_squared_error(y_test, pre_y)\n",
    "rmse = mse**0.5\n",
    "print ('The MRES of the model (after reducing variables:\\n', rmse)"
   ]
  },
  {
   "cell_type": "code",
   "execution_count": 635,
   "metadata": {},
   "outputs": [],
   "source": [
    "# different combinations of variables have been tried,\n",
    "# however, non of them is better than the original model which contains all variables\n",
    "# the best result is using all the variables \n",
    "# it gives a rmse: 1.851\n",
    "x = training[['vader_pos', 'vader_neg','senticnet_pos']]\n",
    "y = training.rate"
   ]
  },
  {
   "cell_type": "code",
   "execution_count": 636,
   "metadata": {},
   "outputs": [],
   "source": [
    "x_test = test[['vader_pos', 'vader_neg','senticnet_pos']]\n",
    "y_test = test.rate"
   ]
  },
  {
   "cell_type": "code",
   "execution_count": 637,
   "metadata": {},
   "outputs": [
    {
     "data": {
      "text/plain": [
       "LinearRegression(copy_X=True, fit_intercept=True, n_jobs=1, normalize=True)"
      ]
     },
     "execution_count": 637,
     "metadata": {},
     "output_type": "execute_result"
    }
   ],
   "source": [
    "reg.fit(x,y)"
   ]
  },
  {
   "cell_type": "code",
   "execution_count": 642,
   "metadata": {},
   "outputs": [
    {
     "name": "stdout",
     "output_type": "stream",
     "text": [
      "                            OLS Regression Results                            \n",
      "==============================================================================\n",
      "Dep. Variable:                   rate   R-squared:                       0.612\n",
      "Model:                            OLS   Adj. R-squared:                  0.612\n",
      "Method:                 Least Squares   F-statistic:                     2764.\n",
      "Date:                Sun, 29 Apr 2018   Prob (F-statistic):               0.00\n",
      "Time:                        17:24:53   Log-Likelihood:                -21519.\n",
      "No. Observations:               10511   AIC:                         4.305e+04\n",
      "Df Residuals:                   10504   BIC:                         4.310e+04\n",
      "Df Model:                           6                                         \n",
      "Covariance Type:            nonrobust                                         \n",
      "=================================================================================\n",
      "                    coef    std err          t      P>|t|      [0.025      0.975]\n",
      "---------------------------------------------------------------------------------\n",
      "const             4.5009      0.169     26.606      0.000       4.169       4.833\n",
      "vader_pos         7.7846      0.314     24.789      0.000       7.169       8.400\n",
      "vader_neg        12.0112      0.328     36.598      0.000      11.368      12.655\n",
      "senticnet_pos     3.3841      0.251     13.482      0.000       2.892       3.876\n",
      "senticnet_neg     2.2795      0.160     14.212      0.000       1.965       2.594\n",
      "pattern_pos       7.5249      0.205     36.641      0.000       7.122       7.927\n",
      "pattern_neg       5.4234      0.143     37.939      0.000       5.143       5.704\n",
      "==============================================================================\n",
      "Omnibus:                       93.497   Durbin-Watson:                   2.015\n",
      "Prob(Omnibus):                  0.000   Jarque-Bera (JB):               61.525\n",
      "Skew:                           0.020   Prob(JB):                     4.37e-14\n",
      "Kurtosis:                       2.627   Cond. No.                         27.5\n",
      "==============================================================================\n",
      "\n",
      "Warnings:\n",
      "[1] Standard Errors assume that the covariance matrix of the errors is correctly specified.\n"
     ]
    }
   ],
   "source": [
    "# to check if all the variables are significant\n",
    "X = x\n",
    "y = y\n",
    "\n",
    "X2 = sm.add_constant(X)\n",
    "est = sm.OLS(y, X2)\n",
    "est2 = est.fit()\n",
    "print(est2.summary())"
   ]
  },
  {
   "cell_type": "code",
   "execution_count": 643,
   "metadata": {},
   "outputs": [],
   "source": [
    "p = reg.predict(x_test)"
   ]
  },
  {
   "cell_type": "code",
   "execution_count": 644,
   "metadata": {},
   "outputs": [
    {
     "name": "stdout",
     "output_type": "stream",
     "text": [
      "The best result from linear regression:\n",
      " 1.8510951038006431\n"
     ]
    }
   ],
   "source": [
    "mse = metrics.mean_squared_error(y_test, p)\n",
    "rmse = mse**0.5\n",
    "print ('The best result from linear regression:\\n', rmse)"
   ]
  },
  {
   "cell_type": "code",
   "execution_count": 645,
   "metadata": {},
   "outputs": [
    {
     "data": {
      "text/plain": [
       "array([ 7.7845598 , 12.01122916,  3.38411571,  2.27949562,  7.52491992,\n",
       "        5.42335239])"
      ]
     },
     "execution_count": 645,
     "metadata": {},
     "output_type": "execute_result"
    }
   ],
   "source": [
    "reg.coef_# the best weight of the different sentiment score. "
   ]
  },
  {
   "cell_type": "markdown",
   "metadata": {},
   "source": [
    "- **Note:** To sum up, backwards regression and stepwise regression models have been tested. The best result is given by fitting all the sentiment scores to the model. And it gives the best RMSE, **1.851**."
   ]
  },
  {
   "cell_type": "markdown",
   "metadata": {},
   "source": [
    "### 5. Other regession method"
   ]
  },
  {
   "cell_type": "markdown",
   "metadata": {},
   "source": [
    "#### Ridge regression"
   ]
  },
  {
   "cell_type": "markdown",
   "metadata": {},
   "source": [
    "- Ridge regression addresses some of the problems of Ordinary Least Squares by imposing a penalty on the size of coefficients. The ridge coefficients minimize a penalized residual sum of squares. It has a $\\alpha$ parameter. Here, $\\alpha \\geq 0$ is a complexity parameter that controls the amount of shrinkage: the larger the value of $\\alpha$, the greater the amount of shrinkage and thus the coefficients become more robust to collinearity."
   ]
  },
  {
   "cell_type": "code",
   "execution_count": 94,
   "metadata": {},
   "outputs": [
    {
     "data": {
      "text/plain": [
       "Ridge(alpha=1, copy_X=True, fit_intercept=True, max_iter=None,\n",
       "   normalize=False, random_state=None, solver='auto', tol=0.001)"
      ]
     },
     "execution_count": 94,
     "metadata": {},
     "output_type": "execute_result"
    }
   ],
   "source": [
    "# after tunning the parameters, the best combination of the parameters is shown as below:\n",
    "ridge = linear_model.Ridge (alpha = 1, tol = 0.001, solver='auto', fit_intercept=True, normalize=False)\n",
    "ridge.fit(x,y)"
   ]
  },
  {
   "cell_type": "code",
   "execution_count": 95,
   "metadata": {},
   "outputs": [],
   "source": [
    "p = ridge.predict(x_test)"
   ]
  },
  {
   "cell_type": "code",
   "execution_count": 96,
   "metadata": {},
   "outputs": [
    {
     "name": "stdout",
     "output_type": "stream",
     "text": [
      "1.8505226993176866\n"
     ]
    }
   ],
   "source": [
    "mse = metrics.mean_squared_error(y_test, p)\n",
    "rmse = mse**0.5\n",
    "print (rmse)"
   ]
  },
  {
   "cell_type": "code",
   "execution_count": 97,
   "metadata": {},
   "outputs": [
    {
     "data": {
      "text/plain": [
       "RidgeCV(alphas=array([1.00000e-03, 2.23111e-01, 4.45222e-01, 6.67333e-01, 8.89444e-01,\n",
       "       1.11156e+00, 1.33367e+00, 1.55578e+00, 1.77789e+00, 2.00000e+00]),\n",
       "    cv=10, fit_intercept=True, gcv_mode=None, normalize=False,\n",
       "    scoring=None, store_cv_values=False)"
      ]
     },
     "execution_count": 97,
     "metadata": {},
     "output_type": "execute_result"
    }
   ],
   "source": [
    "# using the RidgeCV function, we could get a better alphas value.\n",
    "regcv = linear_model.RidgeCV(alphas=np.linspace(0.001, 2, 10), cv = 10)\n",
    "regcv.fit(x,y)       "
   ]
  },
  {
   "cell_type": "code",
   "execution_count": 98,
   "metadata": {},
   "outputs": [],
   "source": [
    "p = ridge.predict(x_test)"
   ]
  },
  {
   "cell_type": "code",
   "execution_count": 99,
   "metadata": {},
   "outputs": [
    {
     "data": {
      "text/plain": [
       "1.8505226993176866"
      ]
     },
     "execution_count": 99,
     "metadata": {},
     "output_type": "execute_result"
    }
   ],
   "source": [
    "a = metrics.mean_squared_error(y_test, p)\n",
    "a**0.5"
   ]
  },
  {
   "cell_type": "code",
   "execution_count": 103,
   "metadata": {},
   "outputs": [
    {
     "data": {
      "text/plain": [
       "0.6122305857505308"
      ]
     },
     "execution_count": 103,
     "metadata": {},
     "output_type": "execute_result"
    }
   ],
   "source": [
    "regcv.alpha_\n",
    "ridge.score(x, y)"
   ]
  },
  {
   "cell_type": "markdown",
   "metadata": {},
   "source": [
    "### Theil-Sen Regressor"
   ]
  },
  {
   "cell_type": "markdown",
   "metadata": {},
   "source": [
    "The algorithm calculates least square solutions on subsets with size n_subsamples of the samples in X. Any value of n_subsamples between the number of features and samples leads to an estimator with a compromise between robustness and efficiency. Since the number of least square solutions is “n_samples choose n_subsamples”, it can be extremely large and can therefore be limited with max_subpopulation. If this limit is reached, the subsets are chosen randomly. In a final step, the spatial median (or L1 median) is calculated of all least square solutions."
   ]
  },
  {
   "cell_type": "code",
   "execution_count": 653,
   "metadata": {},
   "outputs": [],
   "source": [
    "reg = linear_model.TheilSenRegressor(n_jobs=-1, verbose=True, n_subsamples=2000)"
   ]
  },
  {
   "cell_type": "code",
   "execution_count": 654,
   "metadata": {},
   "outputs": [
    {
     "name": "stdout",
     "output_type": "stream",
     "text": [
      "Breakdown point: 0.0002806130013802699\n",
      "Number of samples: 10511\n",
      "Tolerable outliers: 2\n",
      "Number of subpopulations: 10000\n"
     ]
    },
    {
     "name": "stderr",
     "output_type": "stream",
     "text": [
      "[Parallel(n_jobs=8)]: Done   2 out of   8 | elapsed:    1.1s remaining:    3.4s\n",
      "[Parallel(n_jobs=8)]: Done   8 out of   8 | elapsed:    1.7s finished\n"
     ]
    },
    {
     "data": {
      "text/plain": [
       "TheilSenRegressor(copy_X=True, fit_intercept=True, max_iter=300,\n",
       "         max_subpopulation=10000, n_jobs=-1, n_subsamples=2000,\n",
       "         random_state=None, tol=0.001, verbose=True)"
      ]
     },
     "execution_count": 654,
     "metadata": {},
     "output_type": "execute_result"
    }
   ],
   "source": [
    "reg.fit(x,y)"
   ]
  },
  {
   "cell_type": "code",
   "execution_count": 655,
   "metadata": {},
   "outputs": [],
   "source": [
    "p = reg.predict(x_test)"
   ]
  },
  {
   "cell_type": "code",
   "execution_count": 656,
   "metadata": {},
   "outputs": [
    {
     "data": {
      "text/plain": [
       "1.85117125686358"
      ]
     },
     "execution_count": 656,
     "metadata": {},
     "output_type": "execute_result"
    }
   ],
   "source": [
    "a = metrics.mean_squared_error(y_test, p)\n",
    "a**0.5"
   ]
  },
  {
   "cell_type": "code",
   "execution_count": 105,
   "metadata": {},
   "outputs": [
    {
     "data": {
      "text/plain": [
       "4.500916370416474"
      ]
     },
     "execution_count": 105,
     "metadata": {},
     "output_type": "execute_result"
    }
   ],
   "source": [
    "reg.score(x,y)\n",
    "reg.coef_\n",
    "reg.intercept_"
   ]
  },
  {
   "cell_type": "markdown",
   "metadata": {},
   "source": [
    "## 6. Evaluation of the models"
   ]
  },
  {
   "cell_type": "markdown",
   "metadata": {},
   "source": [
    "- Cons:\n",
    "  - Using ordinal features as the dependent variable (increasing errors) and hard to reduce the MSE\n",
    "  \n",
    "  \n",
    "- Pros:\n",
    "  - Giving a reasonable weight on each sentiment score \n",
    "  - Based on lexicon-based sentiment analysis, which is a simple, viable and practical approach.\n",
    "  - This model could be used to predict rating of people’s opinion from other platforms (e.g. Twitter, Facebook), which don’t include users’ rate.\n"
   ]
  },
  {
   "cell_type": "code",
   "execution_count": null,
   "metadata": {},
   "outputs": [],
   "source": []
  }
 ],
 "metadata": {
  "kernelspec": {
   "display_name": "Python 3",
   "language": "python",
   "name": "python3"
  },
  "language_info": {
   "codemirror_mode": {
    "name": "ipython",
    "version": 3
   },
   "file_extension": ".py",
   "mimetype": "text/x-python",
   "name": "python",
   "nbconvert_exporter": "python",
   "pygments_lexer": "ipython3",
   "version": "3.6.5"
  }
 },
 "nbformat": 4,
 "nbformat_minor": 2
}
