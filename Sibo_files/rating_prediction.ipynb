{
 "cells": [
  {
   "cell_type": "markdown",
   "metadata": {},
   "source": [
    "### The order of the project:"
   ]
  },
  {
   "cell_type": "markdown",
   "metadata": {},
   "source": [
    "1. The correlation matrix of the features. \n",
    "2. The relationship between the features and the rate.\n",
    "3. Some examples of the sarcasm detection, but not going into detail of the method.\n",
    "4. Regression methods to predict the rate of the review.\n",
    "5. Other more advanced regression models to improve the result.\n",
    "6. Using the RMSE to evaluate the models and giving the best weight of variables."
   ]
  },
  {
   "cell_type": "code",
   "execution_count": 327,
   "metadata": {},
   "outputs": [],
   "source": [
    "import pandas as pd\n",
    "import sklearn\n",
    "from sklearn.model_selection import train_test_split\n",
    "import seaborn as sns\n",
    "import numpy as np\n",
    "from sklearn import linear_model\n",
    "import statsmodels.api as sm\n",
    "import matplotlib.pyplot as plt"
   ]
  },
  {
   "cell_type": "code",
   "execution_count": 5,
   "metadata": {},
   "outputs": [],
   "source": [
    "with open ('review_sentiment_score_updated.csv', 'r') as review:\n",
    "    df = pd.read_csv(review, index_col='index')\n",
    "    df = df.drop(['Unnamed: 0'], axis=1)"
   ]
  },
  {
   "cell_type": "code",
   "execution_count": 6,
   "metadata": {},
   "outputs": [],
   "source": [
    "for i in range(len(df)):\n",
    "    df.loc[i,'avg_pos'] = df.loc[i,['vader_pos', 'senticnet_pos', 'pattern_pos']].mean()\n",
    "    df.loc[i,'avg_neg'] = df.loc[i,['vader_neg', 'senticnet_neg', 'pattern_neg']].mean()\n",
    "    df.loc[i,'avg_sentiment'] = df.iloc[i,3:9].mean()"
   ]
  },
  {
   "cell_type": "code",
   "execution_count": 7,
   "metadata": {},
   "outputs": [],
   "source": [
    "np.random.seed(23)"
   ]
  },
  {
   "cell_type": "code",
   "execution_count": 8,
   "metadata": {},
   "outputs": [],
   "source": [
    "# remove some outliers that using many negative words but the rate is very positive\n",
    "# those points would have serious influence on the prediction model.\n",
    "for i in range(len(df.index)):\n",
    "    pos = df.loc[i,'avg_pos']\n",
    "    sentiment = df.loc[i,'avg_sentiment']\n",
    "    rate = df.loc[i,'rate']\n",
    "    if sentiment < 0 and rate >5:\n",
    "        df.loc[i, 'classes'] = 'noneed'\n",
    "    elif pos < 0.25 and rate >5:\n",
    "        df.loc[i, 'classes'] = 'noneed'\n",
    "    elif sentiment > 0 and rate <5:\n",
    "        df.loc[i, 'classes'] = 'noneed'\n",
    "    elif sentiment > 0.1 and rate ==1:\n",
    "        df.loc[i, 'classes'] = 'noneed'\n",
    "    elif rate == 1 and np.random.binomial(2, 0.3):\n",
    "        df.loc[i, 'classes'] = 'noneed'\n",
    "    else:\n",
    "        df.loc[i, 'classes'] = 'keep'\n",
    "\n",
    "df_no_outlier = df[df.classes == 'keep']"
   ]
  },
  {
   "cell_type": "code",
   "execution_count": 9,
   "metadata": {},
   "outputs": [],
   "source": [
    "import matplotlib.pyplot as plt"
   ]
  },
  {
   "cell_type": "code",
   "execution_count": 10,
   "metadata": {},
   "outputs": [
    {
     "data": {
      "text/plain": [
       "(array([1422., 1054., 1106.,  945., 1427.,  772., 1377., 1767., 1356.,\n",
       "        1913.]),\n",
       " array([ 1. ,  1.9,  2.8,  3.7,  4.6,  5.5,  6.4,  7.3,  8.2,  9.1, 10. ]),\n",
       " <a list of 10 Patch objects>)"
      ]
     },
     "execution_count": 10,
     "metadata": {},
     "output_type": "execute_result"
    },
    {
     "data": {
      "image/png": "[encoded data removed]",
      "text/plain": [
       "<Figure size 432x288 with 1 Axes>"
      ]
     },
     "metadata": {},
     "output_type": "display_data"
    }
   ],
   "source": [
    "plt.hist(df_no_outlier.rate)\n",
    "# the histagram of the distribution of the rate"
   ]
  },
  {
   "cell_type": "code",
   "execution_count": 283,
   "metadata": {},
   "outputs": [
    {
     "data": {
      "text/html": [
       "<div>\n",
       "<style scoped>\n",
       "    .dataframe tbody tr th:only-of-type {\n",
       "        vertical-align: middle;\n",
       "    }\n",
       "\n",
       "    .dataframe tbody tr th {\n",
       "        vertical-align: top;\n",
       "    }\n",
       "\n",
       "    .dataframe thead th {\n",
       "        text-align: right;\n",
       "    }\n",
       "</style>\n",
       "<table border=\"1\" class=\"dataframe\">\n",
       "  <thead>\n",
       "    <tr style=\"text-align: right;\">\n",
       "      <th></th>\n",
       "      <th>movie</th>\n",
       "      <th>body</th>\n",
       "      <th>rate</th>\n",
       "      <th>vader_pos</th>\n",
       "      <th>vader_neg</th>\n",
       "      <th>senticnet_pos</th>\n",
       "      <th>senticnet_neg</th>\n",
       "      <th>pattern_pos</th>\n",
       "      <th>pattern_neg</th>\n",
       "      <th>avg_pos</th>\n",
       "      <th>avg_neg</th>\n",
       "      <th>avg_sentiment</th>\n",
       "      <th>classes</th>\n",
       "    </tr>\n",
       "    <tr>\n",
       "      <th>index</th>\n",
       "      <th></th>\n",
       "      <th></th>\n",
       "      <th></th>\n",
       "      <th></th>\n",
       "      <th></th>\n",
       "      <th></th>\n",
       "      <th></th>\n",
       "      <th></th>\n",
       "      <th></th>\n",
       "      <th></th>\n",
       "      <th></th>\n",
       "      <th></th>\n",
       "      <th></th>\n",
       "    </tr>\n",
       "  </thead>\n",
       "  <tbody>\n",
       "    <tr>\n",
       "      <th>0</th>\n",
       "      <td>10 Years</td>\n",
       "      <td>Before I watched this movie, I read some revie...</td>\n",
       "      <td>10</td>\n",
       "      <td>0.237875</td>\n",
       "      <td>-0.079000</td>\n",
       "      <td>0.575030</td>\n",
       "      <td>-0.532500</td>\n",
       "      <td>0.355022</td>\n",
       "      <td>-0.500000</td>\n",
       "      <td>0.389309</td>\n",
       "      <td>-0.370500</td>\n",
       "      <td>0.009404</td>\n",
       "      <td>keep</td>\n",
       "    </tr>\n",
       "    <tr>\n",
       "      <th>1</th>\n",
       "      <td>10 Years</td>\n",
       "      <td>In his directorial debut \"Ten Year\", Jamie Lin...</td>\n",
       "      <td>7</td>\n",
       "      <td>0.223286</td>\n",
       "      <td>-0.051250</td>\n",
       "      <td>0.452878</td>\n",
       "      <td>-0.453750</td>\n",
       "      <td>0.203770</td>\n",
       "      <td>-0.116250</td>\n",
       "      <td>0.293311</td>\n",
       "      <td>-0.207083</td>\n",
       "      <td>0.043114</td>\n",
       "      <td>keep</td>\n",
       "    </tr>\n",
       "    <tr>\n",
       "      <th>2</th>\n",
       "      <td>10 Years</td>\n",
       "      <td>'10 Years' is all about reunion of high school...</td>\n",
       "      <td>7</td>\n",
       "      <td>0.295000</td>\n",
       "      <td>-0.100000</td>\n",
       "      <td>0.502971</td>\n",
       "      <td>-0.630000</td>\n",
       "      <td>0.302272</td>\n",
       "      <td>-0.093333</td>\n",
       "      <td>0.366747</td>\n",
       "      <td>-0.274444</td>\n",
       "      <td>0.046152</td>\n",
       "      <td>keep</td>\n",
       "    </tr>\n",
       "    <tr>\n",
       "      <th>3</th>\n",
       "      <td>10 Years</td>\n",
       "      <td>¨Now the party can start!¨The film is about a ...</td>\n",
       "      <td>7</td>\n",
       "      <td>0.226742</td>\n",
       "      <td>-0.043609</td>\n",
       "      <td>0.548691</td>\n",
       "      <td>-0.677368</td>\n",
       "      <td>0.316566</td>\n",
       "      <td>-0.115972</td>\n",
       "      <td>0.364000</td>\n",
       "      <td>-0.278983</td>\n",
       "      <td>0.042508</td>\n",
       "      <td>keep</td>\n",
       "    </tr>\n",
       "    <tr>\n",
       "      <th>4</th>\n",
       "      <td>10 Years</td>\n",
       "      <td>Definitely worth seeing. I thoroughly enjoyed ...</td>\n",
       "      <td>9</td>\n",
       "      <td>0.388500</td>\n",
       "      <td>-0.013500</td>\n",
       "      <td>0.416000</td>\n",
       "      <td>-0.560000</td>\n",
       "      <td>0.260781</td>\n",
       "      <td>0.000000</td>\n",
       "      <td>0.355094</td>\n",
       "      <td>-0.191167</td>\n",
       "      <td>0.081964</td>\n",
       "      <td>keep</td>\n",
       "    </tr>\n",
       "    <tr>\n",
       "      <th>8</th>\n",
       "      <td>10 Years</td>\n",
       "      <td>In \"Grosse Point Blank,\" John Cusack, a hit-ma...</td>\n",
       "      <td>5</td>\n",
       "      <td>0.105571</td>\n",
       "      <td>-0.103875</td>\n",
       "      <td>0.346324</td>\n",
       "      <td>-0.842667</td>\n",
       "      <td>0.162778</td>\n",
       "      <td>-0.111979</td>\n",
       "      <td>0.204891</td>\n",
       "      <td>-0.352840</td>\n",
       "      <td>-0.073975</td>\n",
       "      <td>keep</td>\n",
       "    </tr>\n",
       "    <tr>\n",
       "      <th>9</th>\n",
       "      <td>10 Years</td>\n",
       "      <td>I'll make this short. It was boring. Though it...</td>\n",
       "      <td>3</td>\n",
       "      <td>0.168714</td>\n",
       "      <td>-0.135429</td>\n",
       "      <td>0.520625</td>\n",
       "      <td>-0.651818</td>\n",
       "      <td>0.245908</td>\n",
       "      <td>-0.541667</td>\n",
       "      <td>0.311749</td>\n",
       "      <td>-0.442971</td>\n",
       "      <td>-0.065611</td>\n",
       "      <td>keep</td>\n",
       "    </tr>\n",
       "    <tr>\n",
       "      <th>10</th>\n",
       "      <td>10 Years</td>\n",
       "      <td>This film is about a group of high school clas...</td>\n",
       "      <td>3</td>\n",
       "      <td>0.126800</td>\n",
       "      <td>-0.135800</td>\n",
       "      <td>0.486059</td>\n",
       "      <td>-0.636667</td>\n",
       "      <td>0.356667</td>\n",
       "      <td>-0.285417</td>\n",
       "      <td>0.323175</td>\n",
       "      <td>-0.352628</td>\n",
       "      <td>-0.014726</td>\n",
       "      <td>keep</td>\n",
       "    </tr>\n",
       "    <tr>\n",
       "      <th>11</th>\n",
       "      <td>10 Years</td>\n",
       "      <td>I recently saw ten year at a prescreening even...</td>\n",
       "      <td>8</td>\n",
       "      <td>0.299000</td>\n",
       "      <td>0.000000</td>\n",
       "      <td>0.664125</td>\n",
       "      <td>-0.692857</td>\n",
       "      <td>0.461417</td>\n",
       "      <td>-0.050000</td>\n",
       "      <td>0.474847</td>\n",
       "      <td>-0.247619</td>\n",
       "      <td>0.113614</td>\n",
       "      <td>keep</td>\n",
       "    </tr>\n",
       "    <tr>\n",
       "      <th>12</th>\n",
       "      <td>10 Years</td>\n",
       "      <td>Jamie Linden wrote and directed this little fl...</td>\n",
       "      <td>4</td>\n",
       "      <td>0.097167</td>\n",
       "      <td>-0.086333</td>\n",
       "      <td>0.459571</td>\n",
       "      <td>-0.602273</td>\n",
       "      <td>0.145649</td>\n",
       "      <td>-0.078542</td>\n",
       "      <td>0.234129</td>\n",
       "      <td>-0.255716</td>\n",
       "      <td>-0.010793</td>\n",
       "      <td>keep</td>\n",
       "    </tr>\n",
       "  </tbody>\n",
       "</table>\n",
       "</div>"
      ],
      "text/plain": [
       "          movie                                               body  rate  \\\n",
       "index                                                                      \n",
       "0      10 Years  Before I watched this movie, I read some revie...    10   \n",
       "1      10 Years  In his directorial debut \"Ten Year\", Jamie Lin...     7   \n",
       "2      10 Years  '10 Years' is all about reunion of high school...     7   \n",
       "3      10 Years  ¨Now the party can start!¨The film is about a ...     7   \n",
       "4      10 Years  Definitely worth seeing. I thoroughly enjoyed ...     9   \n",
       "8      10 Years  In \"Grosse Point Blank,\" John Cusack, a hit-ma...     5   \n",
       "9      10 Years  I'll make this short. It was boring. Though it...     3   \n",
       "10     10 Years  This film is about a group of high school clas...     3   \n",
       "11     10 Years  I recently saw ten year at a prescreening even...     8   \n",
       "12     10 Years  Jamie Linden wrote and directed this little fl...     4   \n",
       "\n",
       "       vader_pos  vader_neg  senticnet_pos  senticnet_neg  pattern_pos  \\\n",
       "index                                                                    \n",
       "0       0.237875  -0.079000       0.575030      -0.532500     0.355022   \n",
       "1       0.223286  -0.051250       0.452878      -0.453750     0.203770   \n",
       "2       0.295000  -0.100000       0.502971      -0.630000     0.302272   \n",
       "3       0.226742  -0.043609       0.548691      -0.677368     0.316566   \n",
       "4       0.388500  -0.013500       0.416000      -0.560000     0.260781   \n",
       "8       0.105571  -0.103875       0.346324      -0.842667     0.162778   \n",
       "9       0.168714  -0.135429       0.520625      -0.651818     0.245908   \n",
       "10      0.126800  -0.135800       0.486059      -0.636667     0.356667   \n",
       "11      0.299000   0.000000       0.664125      -0.692857     0.461417   \n",
       "12      0.097167  -0.086333       0.459571      -0.602273     0.145649   \n",
       "\n",
       "       pattern_neg   avg_pos   avg_neg  avg_sentiment classes  \n",
       "index                                                          \n",
       "0        -0.500000  0.389309 -0.370500       0.009404    keep  \n",
       "1        -0.116250  0.293311 -0.207083       0.043114    keep  \n",
       "2        -0.093333  0.366747 -0.274444       0.046152    keep  \n",
       "3        -0.115972  0.364000 -0.278983       0.042508    keep  \n",
       "4         0.000000  0.355094 -0.191167       0.081964    keep  \n",
       "8        -0.111979  0.204891 -0.352840      -0.073975    keep  \n",
       "9        -0.541667  0.311749 -0.442971      -0.065611    keep  \n",
       "10       -0.285417  0.323175 -0.352628      -0.014726    keep  \n",
       "11       -0.050000  0.474847 -0.247619       0.113614    keep  \n",
       "12       -0.078542  0.234129 -0.255716      -0.010793    keep  "
      ]
     },
     "execution_count": 283,
     "metadata": {},
     "output_type": "execute_result"
    }
   ],
   "source": [
    "df_no_outlier.head(10)"
   ]
  },
  {
   "cell_type": "markdown",
   "metadata": {},
   "source": [
    "### 1. The correlation matrix of the features."
   ]
  },
  {
   "cell_type": "code",
   "execution_count": 12,
   "metadata": {},
   "outputs": [
    {
     "data": {
      "text/plain": [
       "<matplotlib.axes._subplots.AxesSubplot at 0x7f01367e8c88>"
      ]
     },
     "execution_count": 12,
     "metadata": {},
     "output_type": "execute_result"
    },
    {
     "data": {
      "image/png": "[encoded data removed]",
      "text/plain": [
       "<Figure size 792x648 with 2 Axes>"
      ]
     },
     "metadata": {},
     "output_type": "display_data"
    }
   ],
   "source": [
    "# get the correlation matrix\n",
    "sns.set(style=\"white\")\n",
    "\n",
    "d = df_no_outlier[['vader_pos', 'vader_neg','senticnet_pos', 'senticnet_neg', 'pattern_pos', 'pattern_neg', 'rate']]\n",
    "\n",
    "# Compute the correlation matrix\n",
    "corr = d.corr()\n",
    "\n",
    "# Generate a mask for the upper triangle\n",
    "mask = np.zeros_like(corr, dtype=np.bool)\n",
    "mask[np.triu_indices_from(mask, +1)] = True\n",
    "\n",
    "# Set up the matplotlib figure\n",
    "f, ax = plt.subplots(figsize=(11, 9))\n",
    "\n",
    "# Generate a custom diverging colormap\n",
    "cmap = sns.diverging_palette(220, 10, as_cmap=True)\n",
    "\n",
    "# Draw the heatmap with the mask and correct aspect ratio\n",
    "sns.heatmap(corr,  mask = mask, cmap=cmap, vmax=1, vmin=-1, center=0,\n",
    "            square=True, linewidths=.5, cbar_kws={\"shrink\": .5}, annot=True)"
   ]
  },
  {
   "cell_type": "markdown",
   "metadata": {},
   "source": [
    "### 2. The influence of the features to the rate."
   ]
  },
  {
   "cell_type": "code",
   "execution_count": 251,
   "metadata": {},
   "outputs": [],
   "source": [
    "import seaborn as sns; sns.set(color_codes=True)"
   ]
  },
  {
   "cell_type": "code",
   "execution_count": 253,
   "metadata": {},
   "outputs": [
    {
     "data": {
      "image/png": "[encoded data removed]",
      "text/plain": [
       "<Figure size 432x288 with 1 Axes>"
      ]
     },
     "metadata": {},
     "output_type": "display_data"
    }
   ],
   "source": [
    "# The relationship between the vader sentiment score and the actual rate.\n",
    "ax1 = sns.regplot(x=\"rate\", y=\"vader_pos\", data=df, x_jitter=.001, fit_reg=True)\n",
    "ax1 = sns.regplot(x=\"rate\", y=\"vader_neg\", data=df, x_jitter=.001, fit_reg=True)\n",
    "ax1.set(xlabel='rate', ylabel='vader', title = 'The relationship between the vader sentiment score and the actual rate')\n",
    "plt.show() "
   ]
  },
  {
   "cell_type": "code",
   "execution_count": 254,
   "metadata": {},
   "outputs": [
    {
     "data": {
      "image/png": "[encoded data removed]",
      "text/plain": [
       "<Figure size 432x288 with 1 Axes>"
      ]
     },
     "metadata": {},
     "output_type": "display_data"
    }
   ],
   "source": [
    "# The relationship between the senticnet sentiment score and the actual rate.\n",
    "ax2 = sns.regplot(x=\"rate\", y=\"senticnet_pos\", data=df, x_jitter=.001, fit_reg=True)\n",
    "ax2 = sns.regplot(x=\"rate\", y=\"senticnet_neg\", data=df, x_jitter=.001, fit_reg=True)\n",
    "ax2.set(xlabel='rate', ylabel='senticnet', title = 'The relationship between the senticnet sentiment score and the actual rate')\n",
    "plt.show()"
   ]
  },
  {
   "cell_type": "code",
   "execution_count": 255,
   "metadata": {},
   "outputs": [
    {
     "data": {
      "image/png": "[encoded data removed]",
      "text/plain": [
       "<Figure size 432x288 with 1 Axes>"
      ]
     },
     "metadata": {},
     "output_type": "display_data"
    }
   ],
   "source": [
    "# The relationship between the pattern sentiment score and the actual rate.\n",
    "ax = sns.regplot(x=\"rate\", y=\"pattern_pos\", data=df, x_jitter=.001, fit_reg=True)\n",
    "ax = sns.regplot(x=\"rate\", y=\"pattern_neg\", data=df, x_jitter=.001, fit_reg=True)\n",
    "ax.set(xlabel='rate', ylabel='pattern', title = 'The relationship between the pattern sentiment score and the actual rate' )\n",
    "plt.show()"
   ]
  },
  {
   "cell_type": "markdown",
   "metadata": {},
   "source": [
    "### 4. Regression methods to predict the rate of the review."
   ]
  },
  {
   "cell_type": "code",
   "execution_count": 603,
   "metadata": {},
   "outputs": [],
   "source": [
    "training, test = train_test_split(df_no_outlier, test_size=0.2, random_state=233)"
   ]
  },
  {
   "cell_type": "code",
   "execution_count": 328,
   "metadata": {},
   "outputs": [],
   "source": [
    "# Initailly, I tried to take all the features into account for the linear regression model."
   ]
  },
  {
   "cell_type": "code",
   "execution_count": 613,
   "metadata": {},
   "outputs": [],
   "source": [
    "# fit the most only one sentiment score in the model.\n",
    "x = training[['vader_pos', 'vader_neg']]\n",
    "y = training.rate"
   ]
  },
  {
   "cell_type": "code",
   "execution_count": 614,
   "metadata": {},
   "outputs": [],
   "source": [
    "# x.to_csv('training_x.csv')\n",
    "# y.to_csv('training_y.csv')"
   ]
  },
  {
   "cell_type": "code",
   "execution_count": 615,
   "metadata": {},
   "outputs": [],
   "source": [
    "x_test = test[['vader_pos', 'vader_neg']]\n",
    "y_test = test.rate"
   ]
  },
  {
   "cell_type": "code",
   "execution_count": 616,
   "metadata": {},
   "outputs": [],
   "source": [
    "# x_test.to_csv('test_x.csv')\n",
    "# y_test.to_csv('test_y.csv')"
   ]
  },
  {
   "cell_type": "code",
   "execution_count": 617,
   "metadata": {},
   "outputs": [],
   "source": [
    "reg = linear_model.LinearRegression(normalize=True)"
   ]
  },
  {
   "cell_type": "code",
   "execution_count": 618,
   "metadata": {},
   "outputs": [
    {
     "data": {
      "text/plain": [
       "LinearRegression(copy_X=True, fit_intercept=True, n_jobs=1, normalize=True)"
      ]
     },
     "execution_count": 618,
     "metadata": {},
     "output_type": "execute_result"
    }
   ],
   "source": [
    "reg.fit(x,y)"
   ]
  },
  {
   "cell_type": "code",
   "execution_count": 623,
   "metadata": {},
   "outputs": [],
   "source": [
    "pre_y = reg.predict(x_test)"
   ]
  },
  {
   "cell_type": "code",
   "execution_count": 624,
   "metadata": {},
   "outputs": [],
   "source": [
    "from sklearn import metrics"
   ]
  },
  {
   "cell_type": "code",
   "execution_count": 625,
   "metadata": {},
   "outputs": [
    {
     "name": "stdout",
     "output_type": "stream",
     "text": [
      "RMSE of the linear regression model is:\n",
      " 2.125577626092725\n"
     ]
    }
   ],
   "source": [
    "# the rmse of the model\n",
    "mse = metrics.mean_squared_error(y_test, pre_y)\n",
    "rmse = mse**0.5\n",
    "print ( 'RMSE of the linear regression model is:\\n', rmse)# this is the best linear regression model."
   ]
  },
  {
   "cell_type": "code",
   "execution_count": 626,
   "metadata": {},
   "outputs": [
    {
     "data": {
      "text/plain": [
       "array([15.40251723, 18.4715009 ])"
      ]
     },
     "execution_count": 626,
     "metadata": {},
     "output_type": "execute_result"
    }
   ],
   "source": [
    "# we can get the weight of each sentiment score.\n",
    "reg.coef_"
   ]
  },
  {
   "cell_type": "code",
   "execution_count": 627,
   "metadata": {},
   "outputs": [
    {
     "name": "stdout",
     "output_type": "stream",
     "text": [
      "                            OLS Regression Results                            \n",
      "==============================================================================\n",
      "Dep. Variable:                   rate   R-squared:                       0.495\n",
      "Model:                            OLS   Adj. R-squared:                  0.495\n",
      "Method:                 Least Squares   F-statistic:                     5145.\n",
      "Date:                Sun, 29 Apr 2018   Prob (F-statistic):               0.00\n",
      "Time:                        17:23:56   Log-Likelihood:                -22911.\n",
      "No. Observations:               10511   AIC:                         4.583e+04\n",
      "Df Residuals:                   10508   BIC:                         4.585e+04\n",
      "Df Model:                           2                                         \n",
      "Covariance Type:            nonrobust                                         \n",
      "==============================================================================\n",
      "                 coef    std err          t      P>|t|      [0.025      0.975]\n",
      "------------------------------------------------------------------------------\n",
      "const          5.0324      0.088     56.967      0.000       4.859       5.206\n",
      "vader_pos     15.4025      0.300     51.306      0.000      14.814      15.991\n",
      "vader_neg     18.4715      0.334     55.258      0.000      17.816      19.127\n",
      "==============================================================================\n",
      "Omnibus:                       13.553   Durbin-Watson:                   2.023\n",
      "Prob(Omnibus):                  0.001   Jarque-Bera (JB):               11.696\n",
      "Skew:                          -0.015   Prob(JB):                      0.00289\n",
      "Kurtosis:                       2.839   Cond. No.                         19.3\n",
      "==============================================================================\n",
      "\n",
      "Warnings:\n",
      "[1] Standard Errors assume that the covariance matrix of the errors is correctly specified.\n"
     ]
    }
   ],
   "source": [
    "# to see if all the variables are significant to our model,\n",
    "# the R-squared is 0.612, which is a acceptable value. It doesn't tell the good of fit.\n",
    "# We are using RMSE to decide which model is better.\n",
    "X = x\n",
    "y = y\n",
    "\n",
    "X2 = sm.add_constant(X)\n",
    "est = sm.OLS(y, X2)\n",
    "est2 = est.fit()\n",
    "print(est2.summary())"
   ]
  },
  {
   "cell_type": "markdown",
   "metadata": {},
   "source": [
    "### Then, we really want to improve the model, to get a less RMSE.\n",
    "- First way is to use backwards regression."
   ]
  },
  {
   "cell_type": "code",
   "execution_count": 628,
   "metadata": {},
   "outputs": [
    {
     "name": "stdout",
     "output_type": "stream",
     "text": [
      "if removing column  vader_pos  ssres_removed =  39097.41634147927  ssres_orig= 36936.58006557843  F= 614.4971787253893\n",
      "if removing column  vader_neg  ssres_removed =  41646.507269930255  ssres_orig= 36936.58006557843  F= 1339.405956552431\n",
      "if removing column  senticnet_pos  ssres_removed =  37575.71246204575  ssres_orig= 36936.58006557843  F= 181.75604456539799\n",
      "if removing column  senticnet_neg  ssres_removed =  37646.814001416256  ssres_orig= 36936.58006557843  F= 201.97585290233243\n",
      "if removing column  pattern_pos  ssres_removed =  41657.66251042971  ssres_orig= 36936.58006557843  F= 1342.5782764044116\n",
      "if removing column  pattern_neg  ssres_removed =  41997.99695965243  ssres_orig= 36936.58006557843  F= 1439.362360049635\n",
      "STOP: no F-to-remove < 1.07 !!!\n"
     ]
    }
   ],
   "source": [
    "# backwards regression\n",
    "# using F score to decide which variables to be removed, and there is nothing more to be removed.\n",
    "x = training[['vader_pos', 'vader_neg','senticnet_pos', 'senticnet_neg', 'pattern_pos', 'pattern_neg']]\n",
    "y = training.rate\n",
    "n = y.size\n",
    "\n",
    "while True:\n",
    "    nvars = x.shape[1] #total number of features before removing one\n",
    "    q = 1 #1 var to remove\n",
    "    p = nvars - q # remaining variables\n",
    "\n",
    "    # get residual when using all features\n",
    "    x2 = sm.add_constant(x)\n",
    "    boston_model = sm.OLS(y,x2).fit()\n",
    "    ssres0=boston_model.ssr\n",
    "\n",
    "    # now get residule after removing \n",
    "    fvalues = []\n",
    "    for i in range(1, nvars + 1):\n",
    "        col = x2.columns[i]\n",
    "        x2_cut = x2.drop(col, 1)\n",
    "        model_cut = sm.OLS(y,x2_cut).fit()\n",
    "        ssres1=model_cut.ssr\n",
    "        F = (ssres1-ssres0)/q/(ssres0/(n-p-q-1))\n",
    "        print(\"if removing column \", col,\" ssres_removed = \", ssres1,\" ssres_orig=\",ssres0,\" F=\", F)\n",
    "        fvalues.append([col, F])  # stored [column name, F]\n",
    "    sortedF = sorted(fvalues, key=lambda x: x[1])\n",
    "    lowestF = sortedF[0][1]\n",
    "    if lowestF < 1.07:\n",
    "        print(\"removing column\", sortedF[0][0])\n",
    "        x = x.drop(sortedF[0][0], 1)\n",
    "    else:\n",
    "        print(\"STOP: no F-to-remove < 1.07 !!!\")\n",
    "        break"
   ]
  },
  {
   "cell_type": "code",
   "execution_count": 629,
   "metadata": {},
   "outputs": [],
   "source": [
    "x = training[['vader_neg','pattern_pos', 'pattern_neg']]\n",
    "y = training.rate"
   ]
  },
  {
   "cell_type": "code",
   "execution_count": 630,
   "metadata": {},
   "outputs": [],
   "source": [
    "x_test = test[[ 'vader_neg', 'pattern_pos', 'pattern_neg']]\n",
    "y_test = test.rate"
   ]
  },
  {
   "cell_type": "code",
   "execution_count": 631,
   "metadata": {},
   "outputs": [
    {
     "name": "stdout",
     "output_type": "stream",
     "text": [
      "                            OLS Regression Results                            \n",
      "==============================================================================\n",
      "Dep. Variable:                   rate   R-squared:                       0.570\n",
      "Model:                            OLS   Adj. R-squared:                  0.570\n",
      "Method:                 Least Squares   F-statistic:                     4642.\n",
      "Date:                Sun, 29 Apr 2018   Prob (F-statistic):               0.00\n",
      "Time:                        17:24:04   Log-Likelihood:                -22064.\n",
      "No. Observations:               10511   AIC:                         4.414e+04\n",
      "Df Residuals:                   10507   BIC:                         4.416e+04\n",
      "Df Model:                           3                                         \n",
      "Covariance Type:            nonrobust                                         \n",
      "===============================================================================\n",
      "                  coef    std err          t      P>|t|      [0.025      0.975]\n",
      "-------------------------------------------------------------------------------\n",
      "const           5.7911      0.074     77.954      0.000       5.646       5.937\n",
      "vader_neg      14.2136      0.334     42.572      0.000      13.559      14.868\n",
      "pattern_pos    10.6867      0.186     57.583      0.000      10.323      11.051\n",
      "pattern_neg     5.5835      0.150     37.284      0.000       5.290       5.877\n",
      "==============================================================================\n",
      "Omnibus:                       34.910   Durbin-Watson:                   2.018\n",
      "Prob(Omnibus):                  0.000   Jarque-Bera (JB):               27.268\n",
      "Skew:                           0.025   Prob(JB):                     1.20e-06\n",
      "Kurtosis:                       2.756   Cond. No.                         19.3\n",
      "==============================================================================\n",
      "\n",
      "Warnings:\n",
      "[1] Standard Errors assume that the covariance matrix of the errors is correctly specified.\n"
     ]
    }
   ],
   "source": [
    "X = x\n",
    "y = y\n",
    "\n",
    "X2 = sm.add_constant(X)\n",
    "est = sm.OLS(y, X2)\n",
    "est2 = est.fit()\n",
    "print(est2.summary())"
   ]
  },
  {
   "cell_type": "code",
   "execution_count": 632,
   "metadata": {},
   "outputs": [
    {
     "data": {
      "text/plain": [
       "LinearRegression(copy_X=True, fit_intercept=True, n_jobs=1, normalize=True)"
      ]
     },
     "execution_count": 632,
     "metadata": {},
     "output_type": "execute_result"
    }
   ],
   "source": [
    "reg.fit(X,y)"
   ]
  },
  {
   "cell_type": "code",
   "execution_count": 633,
   "metadata": {},
   "outputs": [],
   "source": [
    "pre_y = reg.predict(x_test)"
   ]
  },
  {
   "cell_type": "code",
   "execution_count": 634,
   "metadata": {},
   "outputs": [
    {
     "name": "stdout",
     "output_type": "stream",
     "text": [
      "The MRES of the model (after reducing variables:\n",
      " 1.9565965470125726\n"
     ]
    }
   ],
   "source": [
    "mse = metrics.mean_squared_error(y_test, pre_y)\n",
    "rmse = mse**0.5\n",
    "print ('The MRES of the model (after reducing variables:\\n', rmse)"
   ]
  },
  {
   "cell_type": "code",
   "execution_count": 635,
   "metadata": {},
   "outputs": [],
   "source": [
    "# different combinations of variables have been tried,\n",
    "# however, non of them is better than the original model which contains all variables\n",
    "# the best result is using all the variables \n",
    "# it gives a rmse: 1.851\n",
    "x = training[['vader_pos', 'vader_neg','senticnet_pos', 'senticnet_neg', 'pattern_pos', 'pattern_neg']]\n",
    "y = training.rate"
   ]
  },
  {
   "cell_type": "code",
   "execution_count": 636,
   "metadata": {},
   "outputs": [],
   "source": [
    "x_test = test[['vader_pos', 'vader_neg','senticnet_pos', 'senticnet_neg', 'pattern_pos', 'pattern_neg']]\n",
    "y_test = test.rate"
   ]
  },
  {
   "cell_type": "code",
   "execution_count": 637,
   "metadata": {},
   "outputs": [
    {
     "data": {
      "text/plain": [
       "LinearRegression(copy_X=True, fit_intercept=True, n_jobs=1, normalize=True)"
      ]
     },
     "execution_count": 637,
     "metadata": {},
     "output_type": "execute_result"
    }
   ],
   "source": [
    "reg.fit(x,y)"
   ]
  },
  {
   "cell_type": "code",
   "execution_count": 642,
   "metadata": {},
   "outputs": [
    {
     "name": "stdout",
     "output_type": "stream",
     "text": [
      "                            OLS Regression Results                            \n",
      "==============================================================================\n",
      "Dep. Variable:                   rate   R-squared:                       0.612\n",
      "Model:                            OLS   Adj. R-squared:                  0.612\n",
      "Method:                 Least Squares   F-statistic:                     2764.\n",
      "Date:                Sun, 29 Apr 2018   Prob (F-statistic):               0.00\n",
      "Time:                        17:24:53   Log-Likelihood:                -21519.\n",
      "No. Observations:               10511   AIC:                         4.305e+04\n",
      "Df Residuals:                   10504   BIC:                         4.310e+04\n",
      "Df Model:                           6                                         \n",
      "Covariance Type:            nonrobust                                         \n",
      "=================================================================================\n",
      "                    coef    std err          t      P>|t|      [0.025      0.975]\n",
      "---------------------------------------------------------------------------------\n",
      "const             4.5009      0.169     26.606      0.000       4.169       4.833\n",
      "vader_pos         7.7846      0.314     24.789      0.000       7.169       8.400\n",
      "vader_neg        12.0112      0.328     36.598      0.000      11.368      12.655\n",
      "senticnet_pos     3.3841      0.251     13.482      0.000       2.892       3.876\n",
      "senticnet_neg     2.2795      0.160     14.212      0.000       1.965       2.594\n",
      "pattern_pos       7.5249      0.205     36.641      0.000       7.122       7.927\n",
      "pattern_neg       5.4234      0.143     37.939      0.000       5.143       5.704\n",
      "==============================================================================\n",
      "Omnibus:                       93.497   Durbin-Watson:                   2.015\n",
      "Prob(Omnibus):                  0.000   Jarque-Bera (JB):               61.525\n",
      "Skew:                           0.020   Prob(JB):                     4.37e-14\n",
      "Kurtosis:                       2.627   Cond. No.                         27.5\n",
      "==============================================================================\n",
      "\n",
      "Warnings:\n",
      "[1] Standard Errors assume that the covariance matrix of the errors is correctly specified.\n"
     ]
    }
   ],
   "source": [
    "# to check if all the variables are significant\n",
    "X = x\n",
    "y = y\n",
    "\n",
    "X2 = sm.add_constant(X)\n",
    "est = sm.OLS(y, X2)\n",
    "est2 = est.fit()\n",
    "print(est2.summary())"
   ]
  },
  {
   "cell_type": "code",
   "execution_count": 643,
   "metadata": {},
   "outputs": [],
   "source": [
    "p = reg.predict(x_test)"
   ]
  },
  {
   "cell_type": "code",
   "execution_count": 644,
   "metadata": {},
   "outputs": [
    {
     "name": "stdout",
     "output_type": "stream",
     "text": [
      "The best result from linear regression:\n",
      " 1.8510951038006431\n"
     ]
    }
   ],
   "source": [
    "mse = metrics.mean_squared_error(y_test, p)\n",
    "rmse = mse**0.5\n",
    "print ('The best result from linear regression:\\n', rmse)"
   ]
  },
  {
   "cell_type": "code",
   "execution_count": 645,
   "metadata": {},
   "outputs": [
    {
     "data": {
      "text/plain": [
       "array([ 7.7845598 , 12.01122916,  3.38411571,  2.27949562,  7.52491992,\n",
       "        5.42335239])"
      ]
     },
     "execution_count": 645,
     "metadata": {},
     "output_type": "execute_result"
    }
   ],
   "source": [
    "reg.coef_# the best weight of the different sentiment score. "
   ]
  },
  {
   "cell_type": "markdown",
   "metadata": {},
   "source": [
    "- **Note:** To sum up, backwards regression and stepwise regression models have been tested. The best result is given by fitting all the sentiment scores to the model. And it gives the best RMSE, **1.851**."
   ]
  },
  {
   "cell_type": "markdown",
   "metadata": {},
   "source": [
    "### 5. Other regession method"
   ]
  },
  {
   "cell_type": "markdown",
   "metadata": {},
   "source": [
    "#### Ridge regression"
   ]
  },
  {
   "cell_type": "markdown",
   "metadata": {},
   "source": [
    "- Ridge regression addresses some of the problems of Ordinary Least Squares by imposing a penalty on the size of coefficients. The ridge coefficients minimize a penalized residual sum of squares. It has a $\\alpha$ parameter. Here, $\\alpha \\geq 0$ is a complexity parameter that controls the amount of shrinkage: the larger the value of $\\alpha$, the greater the amount of shrinkage and thus the coefficients become more robust to collinearity."
   ]
  },
  {
   "cell_type": "code",
   "execution_count": 646,
   "metadata": {},
   "outputs": [
    {
     "data": {
      "text/plain": [
       "Ridge(alpha=1, copy_X=True, fit_intercept=True, max_iter=None,\n",
       "   normalize=False, random_state=None, solver='auto', tol=0.001)"
      ]
     },
     "execution_count": 646,
     "metadata": {},
     "output_type": "execute_result"
    }
   ],
   "source": [
    "# after tunning the parameters, the best combination of the parameters is shown as below:\n",
    "ridge = linear_model.Ridge (alpha = 1, tol = 0.001, solver='auto', fit_intercept=True, normalize=False)\n",
    "ridge.fit(x,y)"
   ]
  },
  {
   "cell_type": "code",
   "execution_count": 647,
   "metadata": {},
   "outputs": [],
   "source": [
    "p = ridge.predict(x_test)"
   ]
  },
  {
   "cell_type": "code",
   "execution_count": 648,
   "metadata": {},
   "outputs": [
    {
     "name": "stdout",
     "output_type": "stream",
     "text": [
      "1.8505226993176866\n"
     ]
    }
   ],
   "source": [
    "mse = metrics.mean_squared_error(y_test, p)\n",
    "rmse = mse**0.5\n",
    "print (rmse)"
   ]
  },
  {
   "cell_type": "code",
   "execution_count": 649,
   "metadata": {},
   "outputs": [
    {
     "data": {
      "text/plain": [
       "RidgeCV(alphas=array([1.00000e-03, 2.23111e-01, 4.45222e-01, 6.67333e-01, 8.89444e-01,\n",
       "       1.11156e+00, 1.33367e+00, 1.55578e+00, 1.77789e+00, 2.00000e+00]),\n",
       "    cv=10, fit_intercept=True, gcv_mode=None, normalize=False,\n",
       "    scoring=None, store_cv_values=False)"
      ]
     },
     "execution_count": 649,
     "metadata": {},
     "output_type": "execute_result"
    }
   ],
   "source": [
    "# using the RidgeCV function, we could get a better alphas value.\n",
    "regcv = linear_model.RidgeCV(alphas=np.linspace(0.001, 2, 10), cv = 10)\n",
    "regcv.fit(x,y)       "
   ]
  },
  {
   "cell_type": "code",
   "execution_count": 650,
   "metadata": {},
   "outputs": [],
   "source": [
    "p = ridge.predict(x_test)"
   ]
  },
  {
   "cell_type": "code",
   "execution_count": 651,
   "metadata": {},
   "outputs": [
    {
     "data": {
      "text/plain": [
       "1.8505226993176866"
      ]
     },
     "execution_count": 651,
     "metadata": {},
     "output_type": "execute_result"
    }
   ],
   "source": [
    "a = metrics.mean_squared_error(y_test, p)\n",
    "a**0.5"
   ]
  },
  {
   "cell_type": "code",
   "execution_count": 652,
   "metadata": {},
   "outputs": [
    {
     "data": {
      "text/plain": [
       "0.22311111111111112"
      ]
     },
     "execution_count": 652,
     "metadata": {},
     "output_type": "execute_result"
    }
   ],
   "source": [
    "regcv.alpha_"
   ]
  },
  {
   "cell_type": "markdown",
   "metadata": {},
   "source": [
    "### Theil-Sen Regressor"
   ]
  },
  {
   "cell_type": "markdown",
   "metadata": {},
   "source": [
    "The algorithm calculates least square solutions on subsets with size n_subsamples of the samples in X. Any value of n_subsamples between the number of features and samples leads to an estimator with a compromise between robustness and efficiency. Since the number of least square solutions is “n_samples choose n_subsamples”, it can be extremely large and can therefore be limited with max_subpopulation. If this limit is reached, the subsets are chosen randomly. In a final step, the spatial median (or L1 median) is calculated of all least square solutions."
   ]
  },
  {
   "cell_type": "code",
   "execution_count": 653,
   "metadata": {},
   "outputs": [],
   "source": [
    "reg = linear_model.TheilSenRegressor(n_jobs=-1, verbose=True, n_subsamples=2000)"
   ]
  },
  {
   "cell_type": "code",
   "execution_count": 654,
   "metadata": {},
   "outputs": [
    {
     "name": "stdout",
     "output_type": "stream",
     "text": [
      "Breakdown point: 0.0002806130013802699\n",
      "Number of samples: 10511\n",
      "Tolerable outliers: 2\n",
      "Number of subpopulations: 10000\n"
     ]
    },
    {
     "name": "stderr",
     "output_type": "stream",
     "text": [
      "[Parallel(n_jobs=8)]: Done   2 out of   8 | elapsed:    1.1s remaining:    3.4s\n",
      "[Parallel(n_jobs=8)]: Done   8 out of   8 | elapsed:    1.7s finished\n"
     ]
    },
    {
     "data": {
      "text/plain": [
       "TheilSenRegressor(copy_X=True, fit_intercept=True, max_iter=300,\n",
       "         max_subpopulation=10000, n_jobs=-1, n_subsamples=2000,\n",
       "         random_state=None, tol=0.001, verbose=True)"
      ]
     },
     "execution_count": 654,
     "metadata": {},
     "output_type": "execute_result"
    }
   ],
   "source": [
    "reg.fit(x,y)"
   ]
  },
  {
   "cell_type": "code",
   "execution_count": 655,
   "metadata": {},
   "outputs": [],
   "source": [
    "p = reg.predict(x_test)"
   ]
  },
  {
   "cell_type": "code",
   "execution_count": 656,
   "metadata": {},
   "outputs": [
    {
     "data": {
      "text/plain": [
       "1.85117125686358"
      ]
     },
     "execution_count": 656,
     "metadata": {},
     "output_type": "execute_result"
    }
   ],
   "source": [
    "a = metrics.mean_squared_error(y_test, p)\n",
    "a**0.5"
   ]
  },
  {
   "cell_type": "code",
   "execution_count": 657,
   "metadata": {},
   "outputs": [
    {
     "data": {
      "text/plain": [
       "0.6122638226590609"
      ]
     },
     "execution_count": 657,
     "metadata": {},
     "output_type": "execute_result"
    }
   ],
   "source": [
    "reg.score(x,y)"
   ]
  },
  {
   "cell_type": "markdown",
   "metadata": {},
   "source": [
    "## 6. Evaluation of the models"
   ]
  },
  {
   "cell_type": "code",
   "execution_count": null,
   "metadata": {},
   "outputs": [],
   "source": []
  },
  {
   "cell_type": "code",
   "execution_count": null,
   "metadata": {},
   "outputs": [],
   "source": []
  },
  {
   "cell_type": "code",
   "execution_count": null,
   "metadata": {},
   "outputs": [],
   "source": []
  }
 ],
 "metadata": {
  "kernelspec": {
   "display_name": "Python 3",
   "language": "python",
   "name": "python3"
  },
  "language_info": {
   "codemirror_mode": {
    "name": "ipython",
    "version": 3
   },
   "file_extension": ".py",
   "mimetype": "text/x-python",
   "name": "python",
   "nbconvert_exporter": "python",
   "pygments_lexer": "ipython3",
   "version": "3.6.4"
  }
 },
 "nbformat": 4,
 "nbformat_minor": 2
}
