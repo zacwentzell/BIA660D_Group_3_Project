{
 "cells": [
  {
   "cell_type": "code",
   "execution_count": 1,
   "metadata": {},
   "outputs": [],
   "source": [
    "import pandas as pd\n",
    "import requests\n",
    "import bs4\n",
    "import re\n",
    "import random\n",
    "import time"
   ]
  },
  {
   "cell_type": "code",
   "execution_count": 2,
   "metadata": {},
   "outputs": [],
   "source": [
    "with open ('imbd.csv', 'r') as im:\n",
    "    imbd = pd.DataFrame.from_csv(im, index_col=0, header=0)"
   ]
  },
  {
   "cell_type": "code",
   "execution_count": 3,
   "metadata": {},
   "outputs": [],
   "source": [
    "movie_with_facebook = imbd.loc[:,['Title', 'Facebook_link']]\n",
    "movie_with_facebook = movie_with_facebook.fillna('-')\n",
    "link_list = movie_with_facebook.values.tolist()"
   ]
  },
  {
   "cell_type": "code",
   "execution_count": 4,
   "metadata": {},
   "outputs": [],
   "source": [
    "baselink = 'http://www.imdb.com'\n",
    "#movie_with_link = link_list\n",
    "for m in link_list:\n",
    "    if not m[1] == '-':\n",
    "        movie_link = baselink + m[1]\n",
    "        m[1] = movie_link"
   ]
  },
  {
   "cell_type": "code",
   "execution_count": 5,
   "metadata": {},
   "outputs": [
    {
     "name": "stdout",
     "output_type": "stream",
     "text": [
      "Failed to connect. Bridge of Spies (2015)\n"
     ]
    }
   ],
   "source": [
    "normal_delay = random.normalvariate(2, 0.5)\n",
    "for movie in link_list:\n",
    "    like = None\n",
    "    follow = None\n",
    "    try:\n",
    "        if not movie[1] == '-':\n",
    "            url = movie[1]\n",
    "            soup = bs4.BeautifulSoup(requests.get(url).text, 'html5lib')\n",
    "            likes = soup.find_all('div', attrs={'class':'clearfix _ikh'})\n",
    "            for i in likes:\n",
    "                if 'like' in i.text:\n",
    "                    like = i.text\n",
    "                \n",
    "                if 'follow' in i.text:\n",
    "                    follow = i.text\n",
    "    except Exception as e:\n",
    "        print ('Failed to connect.', movie[0])\n",
    "    \n",
    "    movie.append(like)\n",
    "    movie.append(follow)\n",
    "    time.sleep(normal_delay)"
   ]
  },
  {
   "cell_type": "code",
   "execution_count": 7,
   "metadata": {},
   "outputs": [],
   "source": [
    "df = pd.DataFrame(link_list)"
   ]
  },
  {
   "cell_type": "code",
   "execution_count": 8,
   "metadata": {},
   "outputs": [],
   "source": [
    "df.to_csv('facebook_likes.csv')"
   ]
  },
  {
   "cell_type": "code",
   "execution_count": null,
   "metadata": {},
   "outputs": [],
   "source": []
  }
 ],
 "metadata": {
  "kernelspec": {
   "display_name": "Python 3",
   "language": "python",
   "name": "python3"
  },
  "language_info": {
   "codemirror_mode": {
    "name": "ipython",
    "version": 3
   },
   "file_extension": ".py",
   "mimetype": "text/x-python",
   "name": "python",
   "nbconvert_exporter": "python",
   "pygments_lexer": "ipython3",
   "version": "3.6.5"
  }
 },
 "nbformat": 4,
 "nbformat_minor": 2
}
