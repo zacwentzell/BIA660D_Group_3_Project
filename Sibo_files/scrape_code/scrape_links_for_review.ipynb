{
 "cells": [
  {
   "cell_type": "code",
   "execution_count": 1,
   "metadata": {},
   "outputs": [],
   "source": [
    "import requests\n",
    "import bs4\n",
    "import re\n",
    "import random\n",
    "import time\n",
    "import pandas as pd"
   ]
  },
  {
   "cell_type": "code",
   "execution_count": 6,
   "metadata": {},
   "outputs": [],
   "source": [
    "url = '''http://www.imdb.com/chart/bottom?pf_rd_m=A2FGELUUNOQJNL&pf_rd_p=4da9d9a5-d299-43f2-9c53-f0efa18182cd&pf_rd_r=01MRHJ1QF79J1T11TG6N&pf_rd_s=right-4&pf_rd_t=15506&pf_rd_i=top&ref_=chttp_ql_8'''\n",
    "soup = bs4.BeautifulSoup(requests.get(url).text, 'html5lib')\n",
    "body = soup.body.tbody\n",
    "link_list = body.find_all('td', attrs={'class':'titleColumn'})"
   ]
  },
  {
   "cell_type": "code",
   "execution_count": 10,
   "metadata": {},
   "outputs": [],
   "source": [
    "lowmovie_sublink = []\n",
    "for title in link_list:\n",
    "    a = title.a\n",
    "    href = a['href']\n",
    "    lowmovie_sublink.append(href)"
   ]
  },
  {
   "cell_type": "code",
   "execution_count": 21,
   "metadata": {},
   "outputs": [],
   "source": [
    "lowmovie_link =[]\n",
    "for link in lowmovie_sublink:\n",
    "    url = 'http://www.imdb.com'+ str(link[:17]) + '?ref_=ttls_li_tt'\n",
    "    lowmovie_link.append(url)"
   ]
  },
  {
   "cell_type": "code",
   "execution_count": 23,
   "metadata": {},
   "outputs": [],
   "source": [
    "df = pd.DataFrame(lowmovie_link)\n",
    "df.to_csv('lowmovie_link.txt')"
   ]
  },
  {
   "cell_type": "code",
   "execution_count": 24,
   "metadata": {},
   "outputs": [],
   "source": [
    "review_link =[]\n",
    "for link in lowmovie_sublink:\n",
    "    url = 'http://www.imdb.com'+ str(link[:17]) + 'reviews?ref_=tt_urv'\n",
    "    review_link.append(url)"
   ]
  },
  {
   "cell_type": "code",
   "execution_count": 26,
   "metadata": {},
   "outputs": [],
   "source": [
    "review_link\n",
    "df = pd.DataFrame(review_link)\n",
    "df.to_csv('review_link.txt')"
   ]
  },
  {
   "cell_type": "code",
   "execution_count": 27,
   "metadata": {},
   "outputs": [
    {
     "data": {
      "text/plain": [
       "['http://www.imdb.com/title/tt4458206/reviews?ref_=tt_urv',\n",
       " 'http://www.imdb.com/title/tt4009460/reviews?ref_=tt_urv',\n",
       " 'http://www.imdb.com/title/tt0270846/reviews?ref_=tt_urv',\n",
       " 'http://www.imdb.com/title/tt0421051/reviews?ref_=tt_urv',\n",
       " 'http://www.imdb.com/title/tt0060666/reviews?ref_=tt_urv',\n",
       " 'http://www.imdb.com/title/tt0417056/reviews?ref_=tt_urv',\n",
       " 'http://www.imdb.com/title/tt0249516/reviews?ref_=tt_urv',\n",
       " 'http://www.imdb.com/title/tt0808240/reviews?ref_=tt_urv',\n",
       " 'http://www.imdb.com/title/tt1309000/reviews?ref_=tt_urv',\n",
       " 'http://www.imdb.com/title/tt0330994/reviews?ref_=tt_urv',\n",
       " 'http://www.imdb.com/title/tt1316037/reviews?ref_=tt_urv',\n",
       " 'http://www.imdb.com/title/tt2071491/reviews?ref_=tt_urv',\n",
       " 'http://www.imdb.com/title/tt0463392/reviews?ref_=tt_urv',\n",
       " 'http://www.imdb.com/title/tt0470833/reviews?ref_=tt_urv',\n",
       " 'http://www.imdb.com/title/tt1213644/reviews?ref_=tt_urv',\n",
       " 'http://www.imdb.com/title/tt4404474/reviews?ref_=tt_urv',\n",
       " 'http://www.imdb.com/title/tt0830861/reviews?ref_=tt_urv',\n",
       " 'http://www.imdb.com/title/tt0473310/reviews?ref_=tt_urv',\n",
       " 'http://www.imdb.com/title/tt0804492/reviews?ref_=tt_urv',\n",
       " 'http://www.imdb.com/title/tt0953989/reviews?ref_=tt_urv',\n",
       " 'http://www.imdb.com/title/tt0339034/reviews?ref_=tt_urv',\n",
       " 'http://www.imdb.com/title/tt0096870/reviews?ref_=tt_urv',\n",
       " 'http://www.imdb.com/title/tt1623780/reviews?ref_=tt_urv',\n",
       " 'http://www.imdb.com/title/tt1674047/reviews?ref_=tt_urv',\n",
       " 'http://www.imdb.com/title/tt0364986/reviews?ref_=tt_urv',\n",
       " 'http://www.imdb.com/title/tt2344678/reviews?ref_=tt_urv',\n",
       " 'http://www.imdb.com/title/tt0059464/reviews?ref_=tt_urv',\n",
       " 'http://www.imdb.com/title/tt7668842/reviews?ref_=tt_urv',\n",
       " 'http://www.imdb.com/title/tt0317676/reviews?ref_=tt_urv',\n",
       " 'http://www.imdb.com/title/tt3036740/reviews?ref_=tt_urv',\n",
       " 'http://www.imdb.com/title/tt0785077/reviews?ref_=tt_urv',\n",
       " 'http://www.imdb.com/title/tt0054673/reviews?ref_=tt_urv',\n",
       " 'http://www.imdb.com/title/tt0118589/reviews?ref_=tt_urv',\n",
       " 'http://www.imdb.com/title/tt0362165/reviews?ref_=tt_urv',\n",
       " 'http://www.imdb.com/title/tt0089280/reviews?ref_=tt_urv',\n",
       " 'http://www.imdb.com/title/tt0473024/reviews?ref_=tt_urv',\n",
       " 'http://www.imdb.com/title/tt0096149/reviews?ref_=tt_urv',\n",
       " 'http://www.imdb.com/title/tt0060753/reviews?ref_=tt_urv',\n",
       " 'http://www.imdb.com/title/tt0086026/reviews?ref_=tt_urv',\n",
       " 'http://www.imdb.com/title/tt0367677/reviews?ref_=tt_urv',\n",
       " 'http://www.imdb.com/title/tt0061191/reviews?ref_=tt_urv',\n",
       " 'http://www.imdb.com/title/tt0456014/reviews?ref_=tt_urv',\n",
       " 'http://www.imdb.com/title/tt0058615/reviews?ref_=tt_urv',\n",
       " 'http://www.imdb.com/title/tt0061671/reviews?ref_=tt_urv',\n",
       " 'http://www.imdb.com/title/tt6038600/reviews?ref_=tt_urv',\n",
       " 'http://www.imdb.com/title/tt0093405/reviews?ref_=tt_urv',\n",
       " 'http://www.imdb.com/title/tt0799949/reviews?ref_=tt_urv',\n",
       " 'http://www.imdb.com/title/tt0369226/reviews?ref_=tt_urv',\n",
       " 'http://www.imdb.com/title/tt0929809/reviews?ref_=tt_urv',\n",
       " 'http://www.imdb.com/title/tt0162930/reviews?ref_=tt_urv',\n",
       " 'http://www.imdb.com/title/tt0087258/reviews?ref_=tt_urv',\n",
       " 'http://www.imdb.com/title/tt5290620/reviews?ref_=tt_urv',\n",
       " 'http://www.imdb.com/title/tt0055946/reviews?ref_=tt_urv',\n",
       " 'http://www.imdb.com/title/tt1520498/reviews?ref_=tt_urv',\n",
       " 'http://www.imdb.com/title/tt2814362/reviews?ref_=tt_urv',\n",
       " 'http://www.imdb.com/title/tt0469849/reviews?ref_=tt_urv',\n",
       " 'http://www.imdb.com/title/tt0081693/reviews?ref_=tt_urv',\n",
       " 'http://www.imdb.com/title/tt0315775/reviews?ref_=tt_urv',\n",
       " 'http://www.imdb.com/title/tt0299930/reviews?ref_=tt_urv',\n",
       " 'http://www.imdb.com/title/tt0055562/reviews?ref_=tt_urv',\n",
       " 'http://www.imdb.com/title/tt0185183/reviews?ref_=tt_urv',\n",
       " 'http://www.imdb.com/title/tt0075343/reviews?ref_=tt_urv',\n",
       " 'http://www.imdb.com/title/tt0057507/reviews?ref_=tt_urv',\n",
       " 'http://www.imdb.com/title/tt0174685/reviews?ref_=tt_urv',\n",
       " 'http://www.imdb.com/title/tt0057181/reviews?ref_=tt_urv',\n",
       " 'http://www.imdb.com/title/tt0451109/reviews?ref_=tt_urv',\n",
       " 'http://www.imdb.com/title/tt0118836/reviews?ref_=tt_urv',\n",
       " 'http://www.imdb.com/title/tt0072666/reviews?ref_=tt_urv',\n",
       " 'http://www.imdb.com/title/tt0116839/reviews?ref_=tt_urv',\n",
       " 'http://www.imdb.com/title/tt0066476/reviews?ref_=tt_urv',\n",
       " 'http://www.imdb.com/title/tt0100665/reviews?ref_=tt_urv',\n",
       " 'http://www.imdb.com/title/tt0118665/reviews?ref_=tt_urv',\n",
       " 'http://www.imdb.com/title/tt0086972/reviews?ref_=tt_urv',\n",
       " 'http://www.imdb.com/title/tt1651323/reviews?ref_=tt_urv',\n",
       " 'http://www.imdb.com/title/tt0061456/reviews?ref_=tt_urv',\n",
       " 'http://www.imdb.com/title/tt0053464/reviews?ref_=tt_urv',\n",
       " 'http://www.imdb.com/title/tt0112873/reviews?ref_=tt_urv',\n",
       " 'http://www.imdb.com/title/tt0168172/reviews?ref_=tt_urv',\n",
       " 'http://www.imdb.com/title/tt0382028/reviews?ref_=tt_urv',\n",
       " 'http://www.imdb.com/title/tt0117550/reviews?ref_=tt_urv',\n",
       " 'http://www.imdb.com/title/tt0088772/reviews?ref_=tt_urv',\n",
       " 'http://www.imdb.com/title/tt1098327/reviews?ref_=tt_urv',\n",
       " 'http://www.imdb.com/title/tt1572311/reviews?ref_=tt_urv',\n",
       " 'http://www.imdb.com/title/tt0058548/reviews?ref_=tt_urv',\n",
       " 'http://www.imdb.com/title/tt0109376/reviews?ref_=tt_urv',\n",
       " 'http://www.imdb.com/title/tt0114658/reviews?ref_=tt_urv',\n",
       " 'http://www.imdb.com/title/tt1196334/reviews?ref_=tt_urv',\n",
       " 'http://www.imdb.com/title/tt0092297/reviews?ref_=tt_urv',\n",
       " 'http://www.imdb.com/title/tt0054333/reviews?ref_=tt_urv',\n",
       " 'http://www.imdb.com/title/tt0050717/reviews?ref_=tt_urv',\n",
       " 'http://www.imdb.com/title/tt0120214/reviews?ref_=tt_urv',\n",
       " 'http://www.imdb.com/title/tt0145529/reviews?ref_=tt_urv',\n",
       " 'http://www.imdb.com/title/tt1060249/reviews?ref_=tt_urv',\n",
       " 'http://www.imdb.com/title/tt0201844/reviews?ref_=tt_urv',\n",
       " 'http://www.imdb.com/title/tt0073396/reviews?ref_=tt_urv',\n",
       " 'http://www.imdb.com/title/tt0116165/reviews?ref_=tt_urv',\n",
       " 'http://www.imdb.com/title/tt0037798/reviews?ref_=tt_urv',\n",
       " 'http://www.imdb.com/title/tt0077834/reviews?ref_=tt_urv',\n",
       " 'http://www.imdb.com/title/tt0088100/reviews?ref_=tt_urv',\n",
       " 'http://www.imdb.com/title/tt0053241/reviews?ref_=tt_urv']"
      ]
     },
     "execution_count": 27,
     "metadata": {},
     "output_type": "execute_result"
    }
   ],
   "source": [
    "review_link"
   ]
  },
  {
   "cell_type": "code",
   "execution_count": null,
   "metadata": {},
   "outputs": [],
   "source": []
  }
 ],
 "metadata": {
  "kernelspec": {
   "display_name": "Python 3",
   "language": "python",
   "name": "python3"
  },
  "language_info": {
   "codemirror_mode": {
    "name": "ipython",
    "version": 3
   },
   "file_extension": ".py",
   "mimetype": "text/x-python",
   "name": "python",
   "nbconvert_exporter": "python",
   "pygments_lexer": "ipython3",
   "version": "3.6.5"
  }
 },
 "nbformat": 4,
 "nbformat_minor": 2
}
