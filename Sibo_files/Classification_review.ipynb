{
 "cells": [
  {
   "cell_type": "code",
   "execution_count": 1,
   "metadata": {},
   "outputs": [],
   "source": [
    "import pandas as pd\n",
    "import sklearn\n",
    "from sklearn.model_selection import train_test_split"
   ]
  },
  {
   "cell_type": "code",
   "execution_count": 35,
   "metadata": {},
   "outputs": [],
   "source": [
    "with open ('review_sentiment_score_updated.csv', 'r') as review:\n",
    "    df = pd.read_csv(review, index_col='index')\n",
    "    df = df.drop(['Unnamed: 0'], axis=1)"
   ]
  },
  {
   "cell_type": "code",
   "execution_count": 36,
   "metadata": {},
   "outputs": [],
   "source": [
    "import matplotlib.pyplot as plt"
   ]
  },
  {
   "cell_type": "code",
   "execution_count": 38,
   "metadata": {},
   "outputs": [],
   "source": [
    "for i in range(len(df)):\n",
    "    df.loc[i,'avg_sentiment'] = df.iloc[i,3:9].mean()"
   ]
  },
  {
   "cell_type": "code",
   "execution_count": 39,
   "metadata": {},
   "outputs": [],
   "source": [
    "for i in range(len(df.index)):\n",
    "    sentiment = df.loc[i,'avg_sentiment']\n",
    "    rate = df.loc[i,'rate']\n",
    "    if sentiment < 0.25 and rate >5:\n",
    "        df.loc[i, 'classes'] = 1\n",
    "    \n",
    "    else:\n",
    "        df.loc[i, 'classes'] = 0\n",
    "\n",
    "df_no_outlier = df[df.classes == 0]"
   ]
  },
  {
   "cell_type": "code",
   "execution_count": 41,
   "metadata": {},
   "outputs": [
    {
     "data": {
      "image/png": "[encoded data removed]",
      "text/plain": [
       "<Figure size 432x288 with 1 Axes>"
      ]
     },
     "metadata": {},
     "output_type": "display_data"
    }
   ],
   "source": [
    "plt.hist(df_no_outlier.rate)\n",
    "plt.show()\n",
    "# i will for sure get more data from other set."
   ]
  },
  {
   "cell_type": "code",
   "execution_count": 42,
   "metadata": {},
   "outputs": [],
   "source": [
    "for i in range(len(df.index)):\n",
    "    rate = df.loc[i,'rate']\n",
    "    # movie_class:\n",
    "    # 1: poor\n",
    "    # 2: below average\n",
    "    # 3: average\n",
    "    # 4: above average\n",
    "    # 5: excellent\n",
    "    if rate == 1 or rate == 2:\n",
    "        df.loc[i, 'movie_class'] = 1\n",
    "    elif rate == 3 or rate == 4:\n",
    "        df.loc[i, 'movie_class'] = 2\n",
    "    elif rate == 5 or rate == 6:\n",
    "        df.loc[i, 'movie_class'] = 3\n",
    "    elif rate == 7 or rate == 8:\n",
    "        df.loc[i, 'movie_class'] = 4\n",
    "    elif rate == 9 or rate == 10:\n",
    "        df.loc[i, 'movie_class'] = 5"
   ]
  },
  {
   "cell_type": "code",
   "execution_count": 43,
   "metadata": {},
   "outputs": [
    {
     "data": {
      "image/png": "[encoded data removed]",
      "text/plain": [
       "<Figure size 432x288 with 1 Axes>"
      ]
     },
     "metadata": {},
     "output_type": "display_data"
    }
   ],
   "source": [
    "plt.hist(df.movie_class)\n",
    "plt.show()"
   ]
  },
  {
   "cell_type": "code",
   "execution_count": 26,
   "metadata": {},
   "outputs": [],
   "source": [
    "# trying different method\n",
    "#df1 = df[df['movie_class']!= 1]"
   ]
  },
  {
   "cell_type": "code",
   "execution_count": 27,
   "metadata": {},
   "outputs": [
    {
     "name": "stdout",
     "output_type": "stream",
     "text": [
      "17094 train + 4274 test\n"
     ]
    }
   ],
   "source": [
    "training, test = train_test_split(df, test_size=0.2, random_state=233)\n",
    "print(len(training), \"train +\", len(test), \"test\")"
   ]
  },
  {
   "cell_type": "code",
   "execution_count": 28,
   "metadata": {},
   "outputs": [],
   "source": [
    "x = training[['vader_pos', 'vader_neg','senticnet_pos', 'senticnet_neg', 'pattern_pos', 'pattern_neg']]\n",
    "y = training.rate"
   ]
  },
  {
   "cell_type": "code",
   "execution_count": 29,
   "metadata": {},
   "outputs": [],
   "source": [
    "x_test = test[['vader_pos', 'vader_neg','senticnet_pos', 'senticnet_neg', 'pattern_pos', 'pattern_neg']]\n",
    "y_test = test.rate"
   ]
  },
  {
   "cell_type": "code",
   "execution_count": null,
   "metadata": {},
   "outputs": [],
   "source": []
  },
  {
   "cell_type": "code",
   "execution_count": 35,
   "metadata": {},
   "outputs": [],
   "source": [
    "from sklearn.linear_model import LogisticRegression"
   ]
  },
  {
   "cell_type": "code",
   "execution_count": null,
   "metadata": {},
   "outputs": [],
   "source": []
  },
  {
   "cell_type": "code",
   "execution_count": 42,
   "metadata": {},
   "outputs": [
    {
     "data": {
      "text/plain": [
       "LogisticRegression(C=1.0, class_weight=None, dual=False, fit_intercept=True,\n",
       "          intercept_scaling=1, max_iter=1000, multi_class='multinomial',\n",
       "          n_jobs=1, penalty='l2', random_state=20, solver='saga',\n",
       "          tol=0.0001, verbose=0, warm_start=False)"
      ]
     },
     "execution_count": 42,
     "metadata": {},
     "output_type": "execute_result"
    }
   ],
   "source": [
    "lr = LogisticRegression(solver='saga', multi_class='multinomial', random_state=20, max_iter=1000)\n",
    "# the attribute of the function (default parameters)\n",
    "lr.fit(x, y)"
   ]
  },
  {
   "cell_type": "code",
   "execution_count": 43,
   "metadata": {},
   "outputs": [
    {
     "data": {
      "text/plain": [
       "0.5969760166840459"
      ]
     },
     "execution_count": 43,
     "metadata": {},
     "output_type": "execute_result"
    }
   ],
   "source": [
    "lr.score(x_test, y_test)"
   ]
  },
  {
   "cell_type": "code",
   "execution_count": 44,
   "metadata": {},
   "outputs": [],
   "source": [
    "from sklearn.metrics import confusion_matrix"
   ]
  },
  {
   "cell_type": "code",
   "execution_count": 51,
   "metadata": {},
   "outputs": [
    {
     "data": {
      "text/plain": [
       "array([[1107,    0,    0,    0,    0],\n",
       "       [ 188,    0,    0,    0,    0],\n",
       "       [ 106,    0,    0,    0,    0],\n",
       "       [  67,    0,    0,    0,    0],\n",
       "       [  58,    0,    0,    0,    0]])"
      ]
     },
     "execution_count": 51,
     "metadata": {},
     "output_type": "execute_result"
    }
   ],
   "source": [
    "conf_matrix = confusion_matrix(y_test, lr.predict(x_test), labels=[1,2,3,4,5])\n",
    "conf_matrix"
   ]
  },
  {
   "cell_type": "code",
   "execution_count": 46,
   "metadata": {},
   "outputs": [],
   "source": [
    "from sklearn.model_selection import cross_validate"
   ]
  },
  {
   "cell_type": "code",
   "execution_count": 47,
   "metadata": {},
   "outputs": [
    {
     "data": {
      "text/plain": [
       "{'fit_time': array([0.12030482, 0.12589192, 0.0973711 , 0.08365583, 0.0988543 ,\n",
       "        0.08905983, 0.09263921, 0.09075689, 0.097193  , 0.09667826]),\n",
       " 'score_time': array([0.00079632, 0.00050616, 0.00051689, 0.0005281 , 0.00050378,\n",
       "        0.00050926, 0.00049877, 0.00097394, 0.00050116, 0.00094795]),\n",
       " 'test_accuracy': array([0.60492228, 0.58571429, 0.60677083, 0.58723958, 0.59895833,\n",
       "        0.60052219, 0.60392157, 0.59607843, 0.59607843, 0.61074705]),\n",
       " 'train_accuracy': array([0.59915918, 0.60086957, 0.59794263, 0.59982614, 0.5992466 ,\n",
       "        0.59921784, 0.59971035, 0.59971035, 0.59942071, 0.59794411])}"
      ]
     },
     "execution_count": 47,
     "metadata": {},
     "output_type": "execute_result"
    }
   ],
   "source": [
    "scores = cross_validate(lr, x, y, cv=10, \n",
    "                        scoring=['accuracy'],\n",
    "                        return_train_score=True\n",
    "                       )\n",
    "scores"
   ]
  },
  {
   "cell_type": "code",
   "execution_count": 48,
   "metadata": {},
   "outputs": [],
   "source": [
    "from sklearn.ensemble import RandomForestClassifier"
   ]
  },
  {
   "cell_type": "code",
   "execution_count": 49,
   "metadata": {},
   "outputs": [
    {
     "data": {
      "text/plain": [
       "RandomForestClassifier(bootstrap=True, class_weight=None, criterion='gini',\n",
       "            max_depth=2, max_features='auto', max_leaf_nodes=None,\n",
       "            min_impurity_decrease=0.0, min_impurity_split=None,\n",
       "            min_samples_leaf=1, min_samples_split=2,\n",
       "            min_weight_fraction_leaf=0.0, n_estimators=10, n_jobs=1,\n",
       "            oob_score=False, random_state=0, verbose=0, warm_start=False)"
      ]
     },
     "execution_count": 49,
     "metadata": {},
     "output_type": "execute_result"
    }
   ],
   "source": [
    "clf = RandomForestClassifier(max_depth=2, random_state=0)\n",
    "clf.fit(x, y)"
   ]
  },
  {
   "cell_type": "code",
   "execution_count": 50,
   "metadata": {},
   "outputs": [
    {
     "data": {
      "text/plain": [
       "{'fit_time': array([0.05302596, 0.04719687, 0.04608488, 0.03985381, 0.03909397,\n",
       "        0.04333997, 0.03939891, 0.04056931, 0.03880382, 0.04409385]),\n",
       " 'score_time': array([0.00592017, 0.00187325, 0.00187421, 0.00185418, 0.00188589,\n",
       "        0.00184202, 0.00185299, 0.00184274, 0.00186014, 0.00194693]),\n",
       " 'test_accuracy': array([0.58549223, 0.58831169, 0.58723958, 0.58854167, 0.58723958,\n",
       "        0.58877285, 0.59346405, 0.5869281 , 0.59084967, 0.5897772 ]),\n",
       " 'train_accuracy': array([0.59031603, 0.59014493, 0.58794552, 0.59185743, 0.58852507,\n",
       "        0.5877752 , 0.59116582, 0.591021  , 0.5897176 , 0.58766469])}"
      ]
     },
     "execution_count": 50,
     "metadata": {},
     "output_type": "execute_result"
    }
   ],
   "source": [
    "scores = cross_validate(clf, x, y, cv=10, \n",
    "                        scoring=['accuracy'],\n",
    "                        return_train_score=True\n",
    "                       )\n",
    "scores"
   ]
  },
  {
   "cell_type": "code",
   "execution_count": null,
   "metadata": {},
   "outputs": [],
   "source": []
  }
 ],
 "metadata": {
  "kernelspec": {
   "display_name": "Python 3",
   "language": "python",
   "name": "python3"
  },
  "language_info": {
   "codemirror_mode": {
    "name": "ipython",
    "version": 3
   },
   "file_extension": ".py",
   "mimetype": "text/x-python",
   "name": "python",
   "nbconvert_exporter": "python",
   "pygments_lexer": "ipython3",
   "version": "3.6.5"
  }
 },
 "nbformat": 4,
 "nbformat_minor": 2
}
